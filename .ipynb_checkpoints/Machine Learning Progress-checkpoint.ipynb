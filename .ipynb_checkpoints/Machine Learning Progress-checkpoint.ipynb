{
 "cells": [
  {
   "cell_type": "code",
   "execution_count": 1,
   "metadata": {
    "scrolled": true
   },
   "outputs": [
    {
     "name": "stderr",
     "output_type": "stream",
     "text": [
      "D:\\Anaconda\\lib\\site-packages\\tensorflow\\python\\framework\\dtypes.py:516: FutureWarning: Passing (type, 1) or '1type' as a synonym of type is deprecated; in a future version of numpy, it will be understood as (type, (1,)) / '(1,)type'.\n",
      "  _np_qint8 = np.dtype([(\"qint8\", np.int8, 1)])\n",
      "D:\\Anaconda\\lib\\site-packages\\tensorflow\\python\\framework\\dtypes.py:517: FutureWarning: Passing (type, 1) or '1type' as a synonym of type is deprecated; in a future version of numpy, it will be understood as (type, (1,)) / '(1,)type'.\n",
      "  _np_quint8 = np.dtype([(\"quint8\", np.uint8, 1)])\n",
      "D:\\Anaconda\\lib\\site-packages\\tensorflow\\python\\framework\\dtypes.py:518: FutureWarning: Passing (type, 1) or '1type' as a synonym of type is deprecated; in a future version of numpy, it will be understood as (type, (1,)) / '(1,)type'.\n",
      "  _np_qint16 = np.dtype([(\"qint16\", np.int16, 1)])\n",
      "D:\\Anaconda\\lib\\site-packages\\tensorflow\\python\\framework\\dtypes.py:519: FutureWarning: Passing (type, 1) or '1type' as a synonym of type is deprecated; in a future version of numpy, it will be understood as (type, (1,)) / '(1,)type'.\n",
      "  _np_quint16 = np.dtype([(\"quint16\", np.uint16, 1)])\n",
      "D:\\Anaconda\\lib\\site-packages\\tensorflow\\python\\framework\\dtypes.py:520: FutureWarning: Passing (type, 1) or '1type' as a synonym of type is deprecated; in a future version of numpy, it will be understood as (type, (1,)) / '(1,)type'.\n",
      "  _np_qint32 = np.dtype([(\"qint32\", np.int32, 1)])\n",
      "D:\\Anaconda\\lib\\site-packages\\tensorflow\\python\\framework\\dtypes.py:525: FutureWarning: Passing (type, 1) or '1type' as a synonym of type is deprecated; in a future version of numpy, it will be understood as (type, (1,)) / '(1,)type'.\n",
      "  np_resource = np.dtype([(\"resource\", np.ubyte, 1)])\n",
      "D:\\Anaconda\\lib\\site-packages\\tensorboard\\compat\\tensorflow_stub\\dtypes.py:541: FutureWarning: Passing (type, 1) or '1type' as a synonym of type is deprecated; in a future version of numpy, it will be understood as (type, (1,)) / '(1,)type'.\n",
      "  _np_qint8 = np.dtype([(\"qint8\", np.int8, 1)])\n",
      "D:\\Anaconda\\lib\\site-packages\\tensorboard\\compat\\tensorflow_stub\\dtypes.py:542: FutureWarning: Passing (type, 1) or '1type' as a synonym of type is deprecated; in a future version of numpy, it will be understood as (type, (1,)) / '(1,)type'.\n",
      "  _np_quint8 = np.dtype([(\"quint8\", np.uint8, 1)])\n",
      "D:\\Anaconda\\lib\\site-packages\\tensorboard\\compat\\tensorflow_stub\\dtypes.py:543: FutureWarning: Passing (type, 1) or '1type' as a synonym of type is deprecated; in a future version of numpy, it will be understood as (type, (1,)) / '(1,)type'.\n",
      "  _np_qint16 = np.dtype([(\"qint16\", np.int16, 1)])\n",
      "D:\\Anaconda\\lib\\site-packages\\tensorboard\\compat\\tensorflow_stub\\dtypes.py:544: FutureWarning: Passing (type, 1) or '1type' as a synonym of type is deprecated; in a future version of numpy, it will be understood as (type, (1,)) / '(1,)type'.\n",
      "  _np_quint16 = np.dtype([(\"quint16\", np.uint16, 1)])\n",
      "D:\\Anaconda\\lib\\site-packages\\tensorboard\\compat\\tensorflow_stub\\dtypes.py:545: FutureWarning: Passing (type, 1) or '1type' as a synonym of type is deprecated; in a future version of numpy, it will be understood as (type, (1,)) / '(1,)type'.\n",
      "  _np_qint32 = np.dtype([(\"qint32\", np.int32, 1)])\n",
      "D:\\Anaconda\\lib\\site-packages\\tensorboard\\compat\\tensorflow_stub\\dtypes.py:550: FutureWarning: Passing (type, 1) or '1type' as a synonym of type is deprecated; in a future version of numpy, it will be understood as (type, (1,)) / '(1,)type'.\n",
      "  np_resource = np.dtype([(\"resource\", np.ubyte, 1)])\n"
     ]
    }
   ],
   "source": [
    "import pandas as pd\n",
    "import cv2\n",
    "import os\n",
    "import matplotlib.pyplot as plt\n",
    "import numpy as np\n",
    "import seaborn as sns\n",
    "from sklearn.preprocessing import MinMaxScaler, PowerTransformer\n",
    "from sklearn.model_selection import train_test_split, cross_validate, cross_val_score, RepeatedStratifiedKFold\n",
    "from sklearn.ensemble import RandomForestClassifier  \n",
    "from sklearn.metrics import classification_report, accuracy_score, plot_confusion_matrix, make_scorer, f1_score, confusion_matrix\n",
    "from sklearn.datasets import make_classification\n",
    "import cv2 as cv\n",
    "from matplotlib import pyplot as plt\n",
    "from skimage.io import imread, imshow\n",
    "from skimage.feature import hog\n",
    "from skimage import data, exposure\n",
    "import tensorflow as tf\n",
    "from tensorflow.keras.preprocessing.image import ImageDataGenerator\n",
    "from tensorflow import keras\n",
    "from tensorflow.keras.preprocessing import image\n",
    "\n",
    "import numpy as np\n",
    "from sklearn.model_selection import train_test_split\n",
    "import pandas as pd\n",
    "\n",
    "from tensorflow.keras.preprocessing.image import ImageDataGenerator"
   ]
  },
  {
   "cell_type": "markdown",
   "metadata": {},
   "source": [
    "## Firstly, we realised there was no CSV file given to help load the images therefore we decided to create our own one to load the road signs. Based on week 9 tutorial there is a csv to that has directory for each image"
   ]
  },
  {
   "cell_type": "markdown",
   "metadata": {},
   "source": [
    "## This is so that we can train our machine to read all the road sign images"
   ]
  },
  {
   "cell_type": "code",
   "execution_count": 2,
   "metadata": {},
   "outputs": [],
   "source": [
    "def load_images_from_folder(folder):\n",
    "    images = []\n",
    "    for filename in os.listdir(folder):\n",
    "        img = cv2.imread(os.path.join(folder,filename))\n",
    "        if img is not None:\n",
    "            images.append(img)\n",
    "    return images"
   ]
  },
  {
   "cell_type": "markdown",
   "metadata": {},
   "source": [
    "##  Glob module is used to retrieve files/pathnames matching a specified pattern. This is to create two csv classes, one for sign shape and the other for sign types. "
   ]
  },
  {
   "cell_type": "code",
   "execution_count": 3,
   "metadata": {},
   "outputs": [],
   "source": [
    "import glob\n",
    "images = []\n",
    "classes = []\n",
    "classes.extend([file.split(\"\\\\\")[1] for file in glob.glob('trafficsigns_dataset/*/*/*.png')])\n",
    "images.extend([(file) for file in glob.glob('trafficsigns_dataset/*/*/*.png')])"
   ]
  },
  {
   "cell_type": "markdown",
   "metadata": {},
   "source": [
    "## To print it out to csv"
   ]
  },
  {
   "cell_type": "code",
   "execution_count": 4,
   "metadata": {},
   "outputs": [],
   "source": [
    "## to print out csv\n",
    "dict = {'image_path': images, 'class': classes} \n",
    "predict_df = pd.DataFrame(dict)\n",
    "predict_df.to_csv('signboardimage1.csv', index=False)"
   ]
  },
  {
   "cell_type": "markdown",
   "metadata": {},
   "source": [
    "## Now, we need to load the data from csv file:"
   ]
  },
  {
   "cell_type": "markdown",
   "metadata": {},
   "source": [
    "## This csv contains class to classify the sign board shapes, Therefore we will start to develop a model that can classify shapes."
   ]
  },
  {
   "cell_type": "code",
   "execution_count": 5,
   "metadata": {},
   "outputs": [
    {
     "data": {
      "text/html": [
       "<div>\n",
       "<style scoped>\n",
       "    .dataframe tbody tr th:only-of-type {\n",
       "        vertical-align: middle;\n",
       "    }\n",
       "\n",
       "    .dataframe tbody tr th {\n",
       "        vertical-align: top;\n",
       "    }\n",
       "\n",
       "    .dataframe thead th {\n",
       "        text-align: right;\n",
       "    }\n",
       "</style>\n",
       "<table border=\"1\" class=\"dataframe\">\n",
       "  <thead>\n",
       "    <tr style=\"text-align: right;\">\n",
       "      <th></th>\n",
       "      <th>image_path</th>\n",
       "      <th>class</th>\n",
       "    </tr>\n",
       "  </thead>\n",
       "  <tbody>\n",
       "    <tr>\n",
       "      <th>0</th>\n",
       "      <td>trafficsigns_dataset\\diamond\\rightofway\\00032_...</td>\n",
       "      <td>diamond</td>\n",
       "    </tr>\n",
       "    <tr>\n",
       "      <th>1</th>\n",
       "      <td>trafficsigns_dataset\\diamond\\rightofway\\00032_...</td>\n",
       "      <td>diamond</td>\n",
       "    </tr>\n",
       "    <tr>\n",
       "      <th>2</th>\n",
       "      <td>trafficsigns_dataset\\diamond\\rightofway\\00032_...</td>\n",
       "      <td>diamond</td>\n",
       "    </tr>\n",
       "    <tr>\n",
       "      <th>3</th>\n",
       "      <td>trafficsigns_dataset\\diamond\\rightofway\\00037_...</td>\n",
       "      <td>diamond</td>\n",
       "    </tr>\n",
       "    <tr>\n",
       "      <th>4</th>\n",
       "      <td>trafficsigns_dataset\\diamond\\rightofway\\00037_...</td>\n",
       "      <td>diamond</td>\n",
       "    </tr>\n",
       "    <tr>\n",
       "      <th>5</th>\n",
       "      <td>trafficsigns_dataset\\diamond\\rightofway\\00037_...</td>\n",
       "      <td>diamond</td>\n",
       "    </tr>\n",
       "    <tr>\n",
       "      <th>6</th>\n",
       "      <td>trafficsigns_dataset\\diamond\\rightofway\\00039_...</td>\n",
       "      <td>diamond</td>\n",
       "    </tr>\n",
       "    <tr>\n",
       "      <th>7</th>\n",
       "      <td>trafficsigns_dataset\\diamond\\rightofway\\00039_...</td>\n",
       "      <td>diamond</td>\n",
       "    </tr>\n",
       "    <tr>\n",
       "      <th>8</th>\n",
       "      <td>trafficsigns_dataset\\diamond\\rightofway\\00039_...</td>\n",
       "      <td>diamond</td>\n",
       "    </tr>\n",
       "    <tr>\n",
       "      <th>9</th>\n",
       "      <td>trafficsigns_dataset\\diamond\\rightofway\\00042_...</td>\n",
       "      <td>diamond</td>\n",
       "    </tr>\n",
       "  </tbody>\n",
       "</table>\n",
       "</div>"
      ],
      "text/plain": [
       "                                          image_path    class\n",
       "0  trafficsigns_dataset\\diamond\\rightofway\\00032_...  diamond\n",
       "1  trafficsigns_dataset\\diamond\\rightofway\\00032_...  diamond\n",
       "2  trafficsigns_dataset\\diamond\\rightofway\\00032_...  diamond\n",
       "3  trafficsigns_dataset\\diamond\\rightofway\\00037_...  diamond\n",
       "4  trafficsigns_dataset\\diamond\\rightofway\\00037_...  diamond\n",
       "5  trafficsigns_dataset\\diamond\\rightofway\\00037_...  diamond\n",
       "6  trafficsigns_dataset\\diamond\\rightofway\\00039_...  diamond\n",
       "7  trafficsigns_dataset\\diamond\\rightofway\\00039_...  diamond\n",
       "8  trafficsigns_dataset\\diamond\\rightofway\\00039_...  diamond\n",
       "9  trafficsigns_dataset\\diamond\\rightofway\\00042_...  diamond"
      ]
     },
     "execution_count": 5,
     "metadata": {},
     "output_type": "execute_result"
    }
   ],
   "source": [
    "data = pd.read_csv('./signboardimage1.csv')\n",
    "data.head(10)"
   ]
  },
  {
   "cell_type": "markdown",
   "metadata": {},
   "source": [
    "### Just checking for any empty data"
   ]
  },
  {
   "cell_type": "code",
   "execution_count": 6,
   "metadata": {},
   "outputs": [
    {
     "name": "stdout",
     "output_type": "stream",
     "text": [
      "image_path    0\n",
      "class         0\n",
      "dtype: int64\n"
     ]
    }
   ],
   "source": [
    "print(data.isna().sum())"
   ]
  },
  {
   "cell_type": "markdown",
   "metadata": {},
   "source": [
    "### If an empty or null data is present, we delete by using the following code below"
   ]
  },
  {
   "cell_type": "code",
   "execution_count": 7,
   "metadata": {},
   "outputs": [],
   "source": [
    "for col in data.columns:\n",
    "    data[col].replace('', np.nan, inplace=True)\n",
    "    data.dropna(subset = [col] , inplace=True)"
   ]
  },
  {
   "cell_type": "code",
   "execution_count": 8,
   "metadata": {},
   "outputs": [
    {
     "data": {
      "text/plain": [
       "(28, 28)"
      ]
     },
     "execution_count": 8,
     "metadata": {},
     "output_type": "execute_result"
    },
    {
     "data": {
      "image/png": "[encoded data removed]",
      "text/plain": [
       "<Figure size 432x288 with 1 Axes>"
      ]
     },
     "metadata": {
      "needs_background": "light"
     },
     "output_type": "display_data"
    }
   ],
   "source": [
    "img = imread(data['image_path'][0])\n",
    "imshow(img)\n",
    "img.shape"
   ]
  },
  {
   "cell_type": "markdown",
   "metadata": {},
   "source": [
    "## Now we will start developing our model"
   ]
  },
  {
   "cell_type": "markdown",
   "metadata": {},
   "source": [
    "## 1. Our goals for this project:"
   ]
  },
  {
   "cell_type": "markdown",
   "metadata": {},
   "source": [
    "### - Our goal is to develop a Convolutional Neural Network to be able to classify sign board shape and sign board type\n",
    "### - Develop a model that have at least 70% accuracy."
   ]
  },
  {
   "cell_type": "markdown",
   "metadata": {},
   "source": [
    "## 2. The start of our Baseline Model:"
   ]
  },
  {
   "cell_type": "markdown",
   "metadata": {},
   "source": [
    "### Firstly, we would need to split the data we have into train, test and validation sets."
   ]
  },
  {
   "cell_type": "code",
   "execution_count": 9,
   "metadata": {},
   "outputs": [
    {
     "name": "stdout",
     "output_type": "stream",
     "text": [
      "Train data : 2219, Val Data: 740, Test Data: 740\n"
     ]
    }
   ],
   "source": [
    "train_data, test_data = train_test_split(data, test_size=0.2, random_state=42)\n",
    "train_data, val_data = train_test_split(train_data, test_size=0.25, random_state=42)\n",
    "\n",
    "print(\"Train data : {}, Val Data: {}, Test Data: {}\".format(train_data.shape[0], val_data.shape[0], test_data.shape[0]))"
   ]
  },
  {
   "cell_type": "code",
   "execution_count": 10,
   "metadata": {},
   "outputs": [],
   "source": [
    "train_data['class'] = train_data['class'].astype('str')\n",
    "val_data['class'] = val_data['class'].astype('str')"
   ]
  },
  {
   "cell_type": "markdown",
   "metadata": {},
   "source": [
    "### Create a data generator for each split of sets."
   ]
  },
  {
   "cell_type": "code",
   "execution_count": 11,
   "metadata": {},
   "outputs": [
    {
     "name": "stdout",
     "output_type": "stream",
     "text": [
      "Found 2219 validated image filenames belonging to 5 classes.\n",
      "Found 740 validated image filenames belonging to 5 classes.\n"
     ]
    }
   ],
   "source": [
    "train_datagen = ImageDataGenerator(rescale=1./255, data_format='channels_last')\n",
    "val_datagen = ImageDataGenerator(rescale=1./255, data_format='channels_last')\n",
    "\n",
    "batch_size = 32\n",
    "\n",
    "train_generator = train_datagen.flow_from_dataframe(\n",
    "        dataframe=train_data,\n",
    "        directory='./',\n",
    "        x_col=\"image_path\",\n",
    "        y_col=\"class\",\n",
    "        target_size=(32, 32),\n",
    "        batch_size=batch_size,\n",
    "        class_mode='categorical')\n",
    "\n",
    "validation_generator = val_datagen.flow_from_dataframe(\n",
    "        dataframe=val_data,\n",
    "        directory='./',\n",
    "        x_col=\"image_path\",\n",
    "        y_col=\"class\",\n",
    "        target_size=(32, 32),\n",
    "        batch_size=batch_size,\n",
    "        class_mode='categorical')"
   ]
  },
  {
   "cell_type": "code",
   "execution_count": 12,
   "metadata": {},
   "outputs": [
    {
     "name": "stdout",
     "output_type": "stream",
     "text": [
      "Found 740 validated image filenames belonging to 5 classes.\n"
     ]
    },
    {
     "name": "stderr",
     "output_type": "stream",
     "text": [
      "D:\\Anaconda\\lib\\site-packages\\ipykernel_launcher.py:1: SettingWithCopyWarning: \n",
      "A value is trying to be set on a copy of a slice from a DataFrame.\n",
      "Try using .loc[row_indexer,col_indexer] = value instead\n",
      "\n",
      "See the caveats in the documentation: https://pandas.pydata.org/pandas-docs/stable/user_guide/indexing.html#returning-a-view-versus-a-copy\n",
      "  \"\"\"Entry point for launching an IPython kernel.\n"
     ]
    }
   ],
   "source": [
    "test_data['class'] = test_data['class'].astype('str')\n",
    "\n",
    "test_datagen = ImageDataGenerator(rescale=1./255, data_format='channels_last')\n",
    "\n",
    "batch_size = 1\n",
    "\n",
    "test_generator = test_datagen.flow_from_dataframe(\n",
    "        dataframe=test_data,\n",
    "        directory='./',\n",
    "        x_col=\"image_path\",\n",
    "        y_col=\"class\",\n",
    "        target_size=(32, 32),\n",
    "        batch_size=batch_size,\n",
    "        class_mode='categorical')"
   ]
  },
  {
   "cell_type": "markdown",
   "metadata": {},
   "source": [
    "### To check the if the classes for each sets are present and labelled"
   ]
  },
  {
   "cell_type": "code",
   "execution_count": 13,
   "metadata": {
    "scrolled": true
   },
   "outputs": [
    {
     "data": {
      "text/plain": [
       "{'diamond': 0, 'hex': 1, 'round': 2, 'square': 3, 'triangle': 4}"
      ]
     },
     "execution_count": 13,
     "metadata": {},
     "output_type": "execute_result"
    }
   ],
   "source": [
    "train_generator.class_indices"
   ]
  },
  {
   "cell_type": "code",
   "execution_count": 14,
   "metadata": {},
   "outputs": [
    {
     "data": {
      "text/plain": [
       "{'diamond': 0, 'hex': 1, 'round': 2, 'square': 3, 'triangle': 4}"
      ]
     },
     "execution_count": 14,
     "metadata": {},
     "output_type": "execute_result"
    }
   ],
   "source": [
    "validation_generator.class_indices"
   ]
  },
  {
   "cell_type": "code",
   "execution_count": 15,
   "metadata": {},
   "outputs": [],
   "source": [
    "# model  = tf.keras.models.Sequential([tf.keras.layers.Conv2D(16,(3,3), activation = 'relu', input_shape =(32,32,5)),\n",
    "#                                     tf.keras.layers.MaxPool2D(2,2),\n",
    "#                                      #\n",
    "#                                     tf.keras.layers.Conv2D(32,(3,3), activation = 'relu'),\n",
    "#                                     tf.keras.layers.MaxPool2D(2,2),\n",
    "#                                       #\n",
    "#                                     tf.keras.layers.Conv2D(64,(3,3), activation = 'relu'),\n",
    "#                                     tf.keras.layers.MaxPool2D(2,2),\n",
    "#                                      ##\n",
    "#                                     tf.keras.layers.Flatten(),\n",
    "#                                      ##\n",
    "#                                     tf.keras.layers.Dense(512, activation = 'relu'),\n",
    "#                                     ##\n",
    "#                                     tf.keras.layers.Dense(1, activation = 'softmax')\n",
    "   \n",
    "                                     \n",
    "                                     \n",
    "#                                     ])"
   ]
  },
  {
   "cell_type": "code",
   "execution_count": 16,
   "metadata": {},
   "outputs": [],
   "source": [
    "INPUT_DIM = (32,32,3) # (x-axis size of image, y axis size of image, rgb 3 colours)\n",
    "HIDDEN_LAYER_DIM = 256\n",
    "OUTPUT_CLASSES = 5"
   ]
  },
  {
   "cell_type": "markdown",
   "metadata": {},
   "source": [
    "### Now we will set up the layers of our neural network using sequential api that was given to us for week 9 lab."
   ]
  },
  {
   "cell_type": "code",
   "execution_count": 17,
   "metadata": {},
   "outputs": [
    {
     "name": "stdout",
     "output_type": "stream",
     "text": [
      "WARNING:tensorflow:From D:\\Anaconda\\lib\\site-packages\\tensorflow\\python\\ops\\init_ops.py:1251: calling VarianceScaling.__init__ (from tensorflow.python.ops.init_ops) with dtype is deprecated and will be removed in a future version.\n",
      "Instructions for updating:\n",
      "Call initializer instance with the dtype argument instead of passing it to the constructor\n"
     ]
    }
   ],
   "source": [
    "model = tf.keras.Sequential([\n",
    "    tf.keras.layers.Flatten(input_shape=INPUT_DIM),\n",
    "    tf.keras.layers.Dense(HIDDEN_LAYER_DIM, activation='sigmoid'),\n",
    "    tf.keras.layers.Dense(OUTPUT_CLASSES)\n",
    "])"
   ]
  },
  {
   "cell_type": "code",
   "execution_count": 18,
   "metadata": {
    "scrolled": true
   },
   "outputs": [
    {
     "name": "stdout",
     "output_type": "stream",
     "text": [
      "Model: \"sequential\"\n",
      "_________________________________________________________________\n",
      "Layer (type)                 Output Shape              Param #   \n",
      "=================================================================\n",
      "flatten (Flatten)            (None, 3072)              0         \n",
      "_________________________________________________________________\n",
      "dense (Dense)                (None, 256)               786688    \n",
      "_________________________________________________________________\n",
      "dense_1 (Dense)              (None, 5)                 1285      \n",
      "=================================================================\n",
      "Total params: 787,973\n",
      "Trainable params: 787,973\n",
      "Non-trainable params: 0\n",
      "_________________________________________________________________\n"
     ]
    }
   ],
   "source": [
    "model.summary()"
   ]
  },
  {
   "cell_type": "code",
   "execution_count": 19,
   "metadata": {},
   "outputs": [],
   "source": [
    "### To show the model as a figure"
   ]
  },
  {
   "cell_type": "code",
   "execution_count": 20,
   "metadata": {
    "scrolled": false
   },
   "outputs": [
    {
     "data": {
      "image/png": "[encoded data removed]",
      "text/plain": [
       "<IPython.core.display.Image object>"
      ]
     },
     "execution_count": 20,
     "metadata": {},
     "output_type": "execute_result"
    }
   ],
   "source": [
    "tf.keras.utils.plot_model(model, show_shapes=True)"
   ]
  },
  {
   "cell_type": "markdown",
   "metadata": {},
   "source": [
    "### We compile the model before we are ready to train it. Compilling gives us loss function, optimizer and metrics"
   ]
  },
  {
   "cell_type": "code",
   "execution_count": 21,
   "metadata": {},
   "outputs": [],
   "source": [
    "model.compile(optimizer='SGD',\n",
    "              loss=tf.keras.losses.CategoricalCrossentropy(from_logits=True),\n",
    "              metrics=['categorical_accuracy'])"
   ]
  },
  {
   "cell_type": "markdown",
   "metadata": {},
   "source": [
    "### This function is to plot the learning curve of a Neutral Network training process"
   ]
  },
  {
   "cell_type": "code",
   "execution_count": 22,
   "metadata": {},
   "outputs": [],
   "source": [
    "\n",
    "def plot_learning_curve(train_loss, val_loss, train_metric, val_metric, metric_name='Accuracy'):\n",
    "    plt.figure(figsize=(10,5))\n",
    "    \n",
    "    plt.subplot(1,2,1)\n",
    "    plt.plot(train_loss, 'r--')\n",
    "    plt.plot(val_loss, 'b--')\n",
    "    plt.xlabel(\"epochs\")\n",
    "    plt.ylabel(\"Loss\")\n",
    "    plt.legend(['train', 'val'], loc='upper left')\n",
    "\n",
    "    plt.subplot(1,2,2)\n",
    "    plt.plot(train_metric, 'r--')\n",
    "    plt.plot(val_metric, 'b--')\n",
    "    plt.xlabel(\"epochs\")\n",
    "    plt.ylabel(metric_name)\n",
    "    plt.legend(['train', 'val'], loc='upper left')\n",
    "\n",
    "    plt.show()"
   ]
  },
  {
   "cell_type": "code",
   "execution_count": 23,
   "metadata": {},
   "outputs": [
    {
     "name": "stdout",
     "output_type": "stream",
     "text": [
      "Epoch 1/50\n",
      "70/70 [==============================] - 1s 21ms/step - loss: 1.2169 - categorical_accuracy: 0.4912 - val_loss: 1.1125 - val_categorical_accuracy: 0.5405\n",
      "Epoch 2/50\n",
      "70/70 [==============================] - 1s 16ms/step - loss: 1.0880 - categorical_accuracy: 0.5741 - val_loss: 1.0199 - val_categorical_accuracy: 0.6095\n",
      "Epoch 3/50\n",
      "70/70 [==============================] - 1s 15ms/step - loss: 1.0012 - categorical_accuracy: 0.6323 - val_loss: 0.9601 - val_categorical_accuracy: 0.6703\n",
      "Epoch 4/50\n",
      "70/70 [==============================] - 1s 15ms/step - loss: 0.9331 - categorical_accuracy: 0.6931 - val_loss: 0.8831 - val_categorical_accuracy: 0.7216\n",
      "Epoch 5/50\n",
      "70/70 [==============================] - 1s 15ms/step - loss: 0.8690 - categorical_accuracy: 0.7210 - val_loss: 0.8359 - val_categorical_accuracy: 0.7473\n",
      "Epoch 6/50\n",
      "70/70 [==============================] - 1s 15ms/step - loss: 0.8187 - categorical_accuracy: 0.7494 - val_loss: 0.7933 - val_categorical_accuracy: 0.7716\n",
      "Epoch 7/50\n",
      "70/70 [==============================] - 1s 15ms/step - loss: 0.7715 - categorical_accuracy: 0.7607 - val_loss: 0.7637 - val_categorical_accuracy: 0.7892\n",
      "Epoch 8/50\n",
      "70/70 [==============================] - 1s 16ms/step - loss: 0.7325 - categorical_accuracy: 0.7787 - val_loss: 0.7100 - val_categorical_accuracy: 0.7730\n",
      "Epoch 9/50\n",
      "70/70 [==============================] - 1s 15ms/step - loss: 0.6980 - categorical_accuracy: 0.7805 - val_loss: 0.6746 - val_categorical_accuracy: 0.7730\n",
      "Epoch 10/50\n",
      "70/70 [==============================] - 1s 16ms/step - loss: 0.6714 - categorical_accuracy: 0.7941 - val_loss: 0.6475 - val_categorical_accuracy: 0.8122\n",
      "Epoch 11/50\n",
      "70/70 [==============================] - 1s 15ms/step - loss: 0.6384 - categorical_accuracy: 0.8013 - val_loss: 0.6258 - val_categorical_accuracy: 0.8338\n",
      "Epoch 12/50\n",
      "70/70 [==============================] - 1s 15ms/step - loss: 0.6136 - categorical_accuracy: 0.8125 - val_loss: 0.6013 - val_categorical_accuracy: 0.8459\n",
      "Epoch 13/50\n",
      "70/70 [==============================] - 1s 15ms/step - loss: 0.5921 - categorical_accuracy: 0.8215 - val_loss: 0.5745 - val_categorical_accuracy: 0.8365\n",
      "Epoch 14/50\n",
      "70/70 [==============================] - 1s 15ms/step - loss: 0.5683 - categorical_accuracy: 0.8324 - val_loss: 0.5545 - val_categorical_accuracy: 0.8378\n",
      "Epoch 15/50\n",
      "70/70 [==============================] - 1s 15ms/step - loss: 0.5517 - categorical_accuracy: 0.8414 - val_loss: 0.5445 - val_categorical_accuracy: 0.8743\n",
      "Epoch 16/50\n",
      "70/70 [==============================] - 1s 16ms/step - loss: 0.5297 - categorical_accuracy: 0.8441 - val_loss: 0.5210 - val_categorical_accuracy: 0.8608\n",
      "Epoch 17/50\n",
      "70/70 [==============================] - 1s 15ms/step - loss: 0.5152 - categorical_accuracy: 0.8576 - val_loss: 0.5072 - val_categorical_accuracy: 0.8595\n",
      "Epoch 18/50\n",
      "70/70 [==============================] - 1s 16ms/step - loss: 0.5011 - categorical_accuracy: 0.8639 - val_loss: 0.4894 - val_categorical_accuracy: 0.8797\n",
      "Epoch 19/50\n",
      "70/70 [==============================] - 1s 15ms/step - loss: 0.4850 - categorical_accuracy: 0.8684 - val_loss: 0.4750 - val_categorical_accuracy: 0.8743\n",
      "Epoch 20/50\n",
      "70/70 [==============================] - 1s 16ms/step - loss: 0.4721 - categorical_accuracy: 0.8743 - val_loss: 0.4677 - val_categorical_accuracy: 0.8946\n",
      "Epoch 21/50\n",
      "70/70 [==============================] - 1s 15ms/step - loss: 0.4570 - categorical_accuracy: 0.8801 - val_loss: 0.4608 - val_categorical_accuracy: 0.9027\n",
      "Epoch 22/50\n",
      "70/70 [==============================] - 1s 16ms/step - loss: 0.4447 - categorical_accuracy: 0.8932 - val_loss: 0.4530 - val_categorical_accuracy: 0.9027\n",
      "Epoch 23/50\n",
      "70/70 [==============================] - 1s 15ms/step - loss: 0.4343 - categorical_accuracy: 0.8923 - val_loss: 0.4320 - val_categorical_accuracy: 0.8892\n",
      "Epoch 24/50\n",
      "70/70 [==============================] - 1s 15ms/step - loss: 0.4211 - categorical_accuracy: 0.8932 - val_loss: 0.4238 - val_categorical_accuracy: 0.9027\n",
      "Epoch 25/50\n",
      "70/70 [==============================] - 1s 15ms/step - loss: 0.4144 - categorical_accuracy: 0.9022 - val_loss: 0.4215 - val_categorical_accuracy: 0.9095\n",
      "Epoch 26/50\n",
      "70/70 [==============================] - 1s 15ms/step - loss: 0.4023 - categorical_accuracy: 0.9018 - val_loss: 0.4100 - val_categorical_accuracy: 0.9054\n",
      "Epoch 27/50\n",
      "70/70 [==============================] - 1s 15ms/step - loss: 0.3942 - categorical_accuracy: 0.9058 - val_loss: 0.4000 - val_categorical_accuracy: 0.9095\n",
      "Epoch 28/50\n",
      "70/70 [==============================] - 1s 16ms/step - loss: 0.3846 - categorical_accuracy: 0.9076 - val_loss: 0.3919 - val_categorical_accuracy: 0.9014\n",
      "Epoch 29/50\n",
      "70/70 [==============================] - 1s 15ms/step - loss: 0.3775 - categorical_accuracy: 0.9121 - val_loss: 0.3882 - val_categorical_accuracy: 0.9068\n",
      "Epoch 30/50\n",
      "70/70 [==============================] - 1s 17ms/step - loss: 0.3675 - categorical_accuracy: 0.9135 - val_loss: 0.3809 - val_categorical_accuracy: 0.9135\n",
      "Epoch 31/50\n",
      "70/70 [==============================] - 1s 17ms/step - loss: 0.3613 - categorical_accuracy: 0.9153 - val_loss: 0.3727 - val_categorical_accuracy: 0.9122\n",
      "Epoch 32/50\n",
      "70/70 [==============================] - 1s 15ms/step - loss: 0.3532 - categorical_accuracy: 0.9153 - val_loss: 0.3662 - val_categorical_accuracy: 0.9108\n",
      "Epoch 33/50\n",
      "70/70 [==============================] - 1s 15ms/step - loss: 0.3495 - categorical_accuracy: 0.9180 - val_loss: 0.3628 - val_categorical_accuracy: 0.9162\n",
      "Epoch 34/50\n",
      "70/70 [==============================] - 1s 15ms/step - loss: 0.3421 - categorical_accuracy: 0.9202 - val_loss: 0.3648 - val_categorical_accuracy: 0.9108\n",
      "Epoch 35/50\n",
      "70/70 [==============================] - 1s 16ms/step - loss: 0.3343 - categorical_accuracy: 0.9207 - val_loss: 0.3666 - val_categorical_accuracy: 0.9176\n",
      "Epoch 36/50\n",
      "70/70 [==============================] - 1s 15ms/step - loss: 0.3295 - categorical_accuracy: 0.9234 - val_loss: 0.3458 - val_categorical_accuracy: 0.9162\n",
      "Epoch 37/50\n",
      "70/70 [==============================] - 1s 15ms/step - loss: 0.3239 - categorical_accuracy: 0.9220 - val_loss: 0.3489 - val_categorical_accuracy: 0.9189\n",
      "Epoch 38/50\n",
      "70/70 [==============================] - 1s 17ms/step - loss: 0.3173 - categorical_accuracy: 0.9225 - val_loss: 0.3370 - val_categorical_accuracy: 0.9216\n",
      "Epoch 39/50\n",
      "70/70 [==============================] - 1s 16ms/step - loss: 0.3144 - categorical_accuracy: 0.9207 - val_loss: 0.3335 - val_categorical_accuracy: 0.9216\n",
      "Epoch 40/50\n",
      "70/70 [==============================] - 1s 16ms/step - loss: 0.3069 - categorical_accuracy: 0.9301 - val_loss: 0.3393 - val_categorical_accuracy: 0.9176\n",
      "Epoch 41/50\n",
      "70/70 [==============================] - 1s 16ms/step - loss: 0.3032 - categorical_accuracy: 0.9306 - val_loss: 0.3316 - val_categorical_accuracy: 0.9203\n",
      "Epoch 42/50\n",
      "70/70 [==============================] - 1s 16ms/step - loss: 0.2978 - categorical_accuracy: 0.9270 - val_loss: 0.3211 - val_categorical_accuracy: 0.9270\n",
      "Epoch 43/50\n",
      "70/70 [==============================] - 1s 16ms/step - loss: 0.2955 - categorical_accuracy: 0.9283 - val_loss: 0.3190 - val_categorical_accuracy: 0.9257\n",
      "Epoch 44/50\n",
      "70/70 [==============================] - 1s 17ms/step - loss: 0.2895 - categorical_accuracy: 0.9301 - val_loss: 0.3187 - val_categorical_accuracy: 0.9216\n",
      "Epoch 45/50\n",
      "70/70 [==============================] - 1s 16ms/step - loss: 0.2833 - categorical_accuracy: 0.9292 - val_loss: 0.3116 - val_categorical_accuracy: 0.9257\n",
      "Epoch 46/50\n",
      "70/70 [==============================] - 1s 15ms/step - loss: 0.2791 - categorical_accuracy: 0.9320 - val_loss: 0.3070 - val_categorical_accuracy: 0.9284\n",
      "Epoch 47/50\n",
      "70/70 [==============================] - 1s 17ms/step - loss: 0.2759 - categorical_accuracy: 0.9315 - val_loss: 0.3099 - val_categorical_accuracy: 0.9216\n",
      "Epoch 48/50\n",
      "70/70 [==============================] - 1s 15ms/step - loss: 0.2725 - categorical_accuracy: 0.9329 - val_loss: 0.3041 - val_categorical_accuracy: 0.9230\n",
      "Epoch 49/50\n",
      "70/70 [==============================] - 1s 17ms/step - loss: 0.2694 - categorical_accuracy: 0.9347 - val_loss: 0.3029 - val_categorical_accuracy: 0.9284\n",
      "Epoch 50/50\n"
     ]
    },
    {
     "name": "stdout",
     "output_type": "stream",
     "text": [
      "70/70 [==============================] - 1s 15ms/step - loss: 0.2657 - categorical_accuracy: 0.9378 - val_loss: 0.3033 - val_categorical_accuracy: 0.9257\n"
     ]
    }
   ],
   "source": [
    "history = model.fit_generator(train_generator, validation_data = validation_generator, epochs=50, verbose=1)"
   ]
  },
  {
   "cell_type": "code",
   "execution_count": 24,
   "metadata": {
    "scrolled": true
   },
   "outputs": [
    {
     "data": {
      "image/png": "[encoded data removed]",
      "text/plain": [
       "<Figure size 720x360 with 2 Axes>"
      ]
     },
     "metadata": {
      "needs_background": "light"
     },
     "output_type": "display_data"
    }
   ],
   "source": [
    "plot_learning_curve(history.history['loss'], history.history['val_loss'], \n",
    "                    history.history['categorical_accuracy'], history.history['val_categorical_accuracy'], \n",
    "                    metric_name='Accuracy')"
   ]
  },
  {
   "cell_type": "markdown",
   "metadata": {},
   "source": [
    "### From the learning plot above we can investigate and conclude that the train and val from loss decreases as epochs increases."
   ]
  },
  {
   "cell_type": "code",
   "execution_count": 25,
   "metadata": {},
   "outputs": [],
   "source": [
    "# test_data['class'] = test_data['class'].astype('str')\n",
    "\n",
    "# test_datagen = ImageDataGenerator(rescale=1./255, data_format='channels_last')\n",
    "\n",
    "# batch_size = 1\n",
    "\n",
    "# test_generator = test_datagen.flow_from_dataframe(\n",
    "#         dataframe=test_data,\n",
    "#         directory='./',\n",
    "#         x_col=\"image_path\",\n",
    "#         y_col=\"class\",\n",
    "#         target_size=(32, 32),\n",
    "#         batch_size=batch_size,\n",
    "#         class_mode='categorical')"
   ]
  },
  {
   "cell_type": "markdown",
   "metadata": {},
   "source": [
    "### It show below that the model has a relatively high categorical accuracy which is 89% and the loss is low."
   ]
  },
  {
   "cell_type": "code",
   "execution_count": 26,
   "metadata": {
    "scrolled": false
   },
   "outputs": [
    {
     "name": "stdout",
     "output_type": "stream",
     "text": [
      "740/740 [==============================] - 1s 1ms/step - loss: 0.3465 - categorical_accuracy: 0.8973\n"
     ]
    },
    {
     "data": {
      "text/plain": [
       "[0.3465437782424537, 0.8972973]"
      ]
     },
     "execution_count": 26,
     "metadata": {},
     "output_type": "execute_result"
    }
   ],
   "source": [
    "model.evaluate(test_generator)"
   ]
  },
  {
   "cell_type": "markdown",
   "metadata": {},
   "source": [
    "### Set label names to its respective name to numbers we set"
   ]
  },
  {
   "cell_type": "code",
   "execution_count": 27,
   "metadata": {},
   "outputs": [],
   "source": [
    "label_names = {'diamond': 0, 'hex': 1, 'round': 2, 'square': 3, 'triangle': 4}"
   ]
  },
  {
   "cell_type": "markdown",
   "metadata": {},
   "source": [
    "## Now with our trained model, we have created a model that is able to classify sign shapes as show below. \n",
    "### - 6 random signs from the traffic sign dataset will be taken to show that the model is able to read the sign shape"
   ]
  },
  {
   "cell_type": "code",
   "execution_count": 28,
   "metadata": {
    "scrolled": true
   },
   "outputs": [
    {
     "data": {
      "image/png": "[encoded data removed]",
      "text/plain": [
       "<Figure size 1152x288 with 5 Axes>"
      ]
     },
     "metadata": {
      "needs_background": "light"
     },
     "output_type": "display_data"
    }
   ],
   "source": [
    "d_inv = {v: k for k, v in label_names.items()}\n",
    "plt.figure(figsize=(16,4))\n",
    "batches = 0\n",
    "for x,y in test_generator:\n",
    "        batches = batches + 1\n",
    "        y_hat = model.predict(x, verbose=0)\n",
    "        x = np.squeeze(x)\n",
    "        if batches < 6:\n",
    "            plt.subplot(1,6,batches)\n",
    "            plt.imshow(x)\n",
    "            plt.title(\"GT-{}, Pred-{}\".format(d_inv[np.argmax(y[0])], d_inv[np.argmax(y_hat[0])] ))\n",
    "            \n",
    "        else:\n",
    "            break\n",
    "        \n",
    "        plt.axis('off')"
   ]
  },
  {
   "cell_type": "markdown",
   "metadata": {},
   "source": [
    "## Tried to test indepent variable for testing my own image but couldnt figure out how to flatten one image so it can read "
   ]
  },
  {
   "cell_type": "code",
   "execution_count": 29,
   "metadata": {},
   "outputs": [],
   "source": [
    "# imgs = image.load_img('./testSign/walk.PNG', target_size =(32,32))\n",
    "# plt.imshow(imgs)\n",
    "# plt.show\n",
    "# X = image.img_to_array(imgs)\n",
    "# X = np.expand_dims(X, axis = 0)\n",
    "# images = np.vstack(x)\n",
    "\n",
    "\n",
    "# # images = tf.keras.Sequential([\n",
    "# #     tf.keras.layers.Flatten(input_shape=INPUT_DIM)])\n",
    "\n",
    "# val = model.predict(images)\n",
    "\n",
    "# if val == 0:\n",
    "#     print('diamond')\n",
    "# else:\n",
    "#     print('not diamond')"
   ]
  },
  {
   "cell_type": "markdown",
   "metadata": {},
   "source": [
    "## Now we will make so incremental changes to our model. An explanation of early stop can be found below as initially I didn't use it but decided to for both classification of sign shape and sign type."
   ]
  },
  {
   "cell_type": "code",
   "execution_count": 30,
   "metadata": {},
   "outputs": [],
   "source": [
    "modelEarlyStop = tf.keras.Sequential([\n",
    "    \n",
    "    tf.keras.layers.Conv2D(16, (3, 3), activation='relu', padding='same', input_shape=INPUT_DIM),\n",
    "    tf.keras.layers.Conv2D(16, (3, 3), activation='relu', padding='same'),\n",
    "    tf.keras.layers.MaxPooling2D((2, 2)),\n",
    "    \n",
    "    tf.keras.layers.Conv2D(32, (3, 3), activation='relu', padding='same'),\n",
    "    tf.keras.layers.Conv2D(32, (3, 3), activation='relu', padding='same'),\n",
    "    tf.keras.layers.MaxPooling2D((2, 2)),\n",
    "    \n",
    "    \n",
    "    tf.keras.layers.Conv2D(64, (3, 3), activation='relu', padding='same'),\n",
    "    tf.keras.layers.Conv2D(64, (3, 3), activation='relu', padding='same'),\n",
    "    tf.keras.layers.MaxPooling2D((2, 2)),\n",
    "    \n",
    "    \n",
    "    tf.keras.layers.Conv2D(128, (3, 3), activation='relu', padding='same'),\n",
    "    tf.keras.layers.Conv2D(128, (3, 3), activation='relu', padding='same'),\n",
    "    tf.keras.layers.MaxPooling2D((2, 2)),\n",
    "    \n",
    "    tf.keras.layers.Flatten(),\n",
    "    tf.keras.layers.Dense(128, activation='relu'),\n",
    "    tf.keras.layers.Dense(OUTPUT_CLASSES),\n",
    "])\n",
    "modelEarlyStop.compile(optimizer='SGD',\n",
    "              loss=tf.keras.losses.CategoricalCrossentropy(from_logits=True),\n",
    "              metrics=['categorical_accuracy'])"
   ]
  },
  {
   "cell_type": "code",
   "execution_count": 31,
   "metadata": {
    "scrolled": true
   },
   "outputs": [
    {
     "name": "stdout",
     "output_type": "stream",
     "text": [
      "Model: \"sequential_1\"\n",
      "_________________________________________________________________\n",
      "Layer (type)                 Output Shape              Param #   \n",
      "=================================================================\n",
      "conv2d (Conv2D)              (None, 32, 32, 16)        448       \n",
      "_________________________________________________________________\n",
      "conv2d_1 (Conv2D)            (None, 32, 32, 16)        2320      \n",
      "_________________________________________________________________\n",
      "max_pooling2d (MaxPooling2D) (None, 16, 16, 16)        0         \n",
      "_________________________________________________________________\n",
      "conv2d_2 (Conv2D)            (None, 16, 16, 32)        4640      \n",
      "_________________________________________________________________\n",
      "conv2d_3 (Conv2D)            (None, 16, 16, 32)        9248      \n",
      "_________________________________________________________________\n",
      "max_pooling2d_1 (MaxPooling2 (None, 8, 8, 32)          0         \n",
      "_________________________________________________________________\n",
      "conv2d_4 (Conv2D)            (None, 8, 8, 64)          18496     \n",
      "_________________________________________________________________\n",
      "conv2d_5 (Conv2D)            (None, 8, 8, 64)          36928     \n",
      "_________________________________________________________________\n",
      "max_pooling2d_2 (MaxPooling2 (None, 4, 4, 64)          0         \n",
      "_________________________________________________________________\n",
      "conv2d_6 (Conv2D)            (None, 4, 4, 128)         73856     \n",
      "_________________________________________________________________\n",
      "conv2d_7 (Conv2D)            (None, 4, 4, 128)         147584    \n",
      "_________________________________________________________________\n",
      "max_pooling2d_3 (MaxPooling2 (None, 2, 2, 128)         0         \n",
      "_________________________________________________________________\n",
      "flatten_1 (Flatten)          (None, 512)               0         \n",
      "_________________________________________________________________\n",
      "dense_2 (Dense)              (None, 128)               65664     \n",
      "_________________________________________________________________\n",
      "dense_3 (Dense)              (None, 5)                 645       \n",
      "=================================================================\n",
      "Total params: 359,829\n",
      "Trainable params: 359,829\n",
      "Non-trainable params: 0\n",
      "_________________________________________________________________\n"
     ]
    }
   ],
   "source": [
    "modelEarlyStop.summary()"
   ]
  },
  {
   "cell_type": "code",
   "execution_count": 32,
   "metadata": {},
   "outputs": [
    {
     "data": {
      "image/png": "[encoded data removed]",
      "text/plain": [
       "<IPython.core.display.Image object>"
      ]
     },
     "execution_count": 32,
     "metadata": {},
     "output_type": "execute_result"
    }
   ],
   "source": [
    "tf.keras.utils.plot_model(modelEarlyStop, show_shapes=True)"
   ]
  },
  {
   "cell_type": "code",
   "execution_count": 33,
   "metadata": {},
   "outputs": [],
   "source": [
    "modelEarlyStop.compile(optimizer='SGD',\n",
    "              loss=tf.keras.losses.CategoricalCrossentropy(from_logits=True),\n",
    "              metrics=['categorical_accuracy'])"
   ]
  },
  {
   "cell_type": "code",
   "execution_count": 37,
   "metadata": {},
   "outputs": [],
   "source": [
    "\n",
    "def plot_learning_curve(train_loss, val_loss, train_metric, val_metric, metric_name='Accuracy'):\n",
    "    plt.figure(figsize=(10,5))\n",
    "    \n",
    "    plt.subplot(1,2,1)\n",
    "    plt.plot(train_loss, 'r--')\n",
    "    plt.plot(val_loss, 'b--')\n",
    "    plt.xlabel(\"epochs\")\n",
    "    plt.ylabel(\"Loss\")\n",
    "    plt.legend(['train', 'val'], loc='upper left')\n",
    "\n",
    "    plt.subplot(1,2,2)\n",
    "    plt.plot(train_metric, 'r--')\n",
    "    plt.plot(val_metric, 'b--')\n",
    "    plt.xlabel(\"epochs\")\n",
    "    plt.ylabel(metric_name)\n",
    "    plt.legend(['train', 'val'], loc='upper left')\n",
    "\n",
    "    plt.show()"
   ]
  },
  {
   "cell_type": "code",
   "execution_count": 38,
   "metadata": {},
   "outputs": [],
   "source": [
    "from tensorflow.keras.callbacks import EarlyStopping\n",
    "es = EarlyStopping(min_delta=0.001, monitor='val_loss', mode='min', verbose=1, patience=20, restore_best_weights=True,)"
   ]
  },
  {
   "cell_type": "code",
   "execution_count": 39,
   "metadata": {
    "scrolled": true
   },
   "outputs": [
    {
     "name": "stdout",
     "output_type": "stream",
     "text": [
      "Epoch 1/50\n",
      "70/70 [==============================] - 4s 60ms/step - loss: 1.4293 - categorical_accuracy: 0.4727 - val_loss: 1.2501 - val_categorical_accuracy: 0.4905\n",
      "Epoch 2/50\n",
      "70/70 [==============================] - 4s 57ms/step - loss: 1.2479 - categorical_accuracy: 0.4763 - val_loss: 1.1948 - val_categorical_accuracy: 0.4905\n",
      "Epoch 3/50\n",
      "70/70 [==============================] - 4s 56ms/step - loss: 1.2189 - categorical_accuracy: 0.4867 - val_loss: 1.1526 - val_categorical_accuracy: 0.5149\n",
      "Epoch 4/50\n",
      "70/70 [==============================] - 4s 57ms/step - loss: 1.1754 - categorical_accuracy: 0.5128 - val_loss: 1.0864 - val_categorical_accuracy: 0.5824\n",
      "Epoch 5/50\n",
      "70/70 [==============================] - 4s 59ms/step - loss: 1.1043 - categorical_accuracy: 0.5786 - val_loss: 0.9888 - val_categorical_accuracy: 0.6257\n",
      "Epoch 6/50\n",
      "70/70 [==============================] - 4s 57ms/step - loss: 0.9952 - categorical_accuracy: 0.6426 - val_loss: 0.8365 - val_categorical_accuracy: 0.7311\n",
      "Epoch 7/50\n",
      "70/70 [==============================] - 4s 57ms/step - loss: 0.8350 - categorical_accuracy: 0.7057 - val_loss: 0.9106 - val_categorical_accuracy: 0.6514\n",
      "Epoch 8/50\n",
      "70/70 [==============================] - 4s 59ms/step - loss: 0.6825 - categorical_accuracy: 0.7630 - val_loss: 0.5284 - val_categorical_accuracy: 0.8243\n",
      "Epoch 9/50\n",
      "70/70 [==============================] - 4s 57ms/step - loss: 0.5165 - categorical_accuracy: 0.8256 - val_loss: 0.4763 - val_categorical_accuracy: 0.8527\n",
      "Epoch 10/50\n",
      "70/70 [==============================] - 4s 57ms/step - loss: 0.4522 - categorical_accuracy: 0.8459 - val_loss: 0.3981 - val_categorical_accuracy: 0.8770\n",
      "Epoch 11/50\n",
      "70/70 [==============================] - 4s 62ms/step - loss: 0.3580 - categorical_accuracy: 0.8774 - val_loss: 0.4154 - val_categorical_accuracy: 0.8514\n",
      "Epoch 12/50\n",
      "70/70 [==============================] - 4s 58ms/step - loss: 0.3007 - categorical_accuracy: 0.9000 - val_loss: 0.2939 - val_categorical_accuracy: 0.9054\n",
      "Epoch 13/50\n",
      "70/70 [==============================] - 4s 58ms/step - loss: 0.2769 - categorical_accuracy: 0.9099 - val_loss: 0.2276 - val_categorical_accuracy: 0.9284\n",
      "Epoch 14/50\n",
      "70/70 [==============================] - 4s 61ms/step - loss: 0.2025 - categorical_accuracy: 0.9315 - val_loss: 0.2117 - val_categorical_accuracy: 0.9324\n",
      "Epoch 15/50\n",
      "70/70 [==============================] - 4s 57ms/step - loss: 0.1924 - categorical_accuracy: 0.9396 - val_loss: 0.1965 - val_categorical_accuracy: 0.9392\n",
      "Epoch 16/50\n",
      "70/70 [==============================] - 4s 58ms/step - loss: 0.1442 - categorical_accuracy: 0.9504 - val_loss: 0.1519 - val_categorical_accuracy: 0.9459\n",
      "Epoch 17/50\n",
      "70/70 [==============================] - 4s 61ms/step - loss: 0.1276 - categorical_accuracy: 0.9572 - val_loss: 0.1617 - val_categorical_accuracy: 0.9568\n",
      "Epoch 18/50\n",
      "70/70 [==============================] - 4s 58ms/step - loss: 0.0789 - categorical_accuracy: 0.9766 - val_loss: 0.1699 - val_categorical_accuracy: 0.9419\n",
      "Epoch 19/50\n",
      "70/70 [==============================] - 4s 57ms/step - loss: 0.4616 - categorical_accuracy: 0.8666 - val_loss: 0.1887 - val_categorical_accuracy: 0.9392\n",
      "Epoch 20/50\n",
      "70/70 [==============================] - 4s 60ms/step - loss: 0.1330 - categorical_accuracy: 0.9536 - val_loss: 0.1885 - val_categorical_accuracy: 0.9351\n",
      "Epoch 21/50\n",
      "70/70 [==============================] - 4s 56ms/step - loss: 0.1045 - categorical_accuracy: 0.9671 - val_loss: 0.1539 - val_categorical_accuracy: 0.9432\n",
      "Epoch 22/50\n",
      "70/70 [==============================] - 4s 58ms/step - loss: 0.0491 - categorical_accuracy: 0.9842 - val_loss: 0.1241 - val_categorical_accuracy: 0.9635\n",
      "Epoch 23/50\n",
      "70/70 [==============================] - 4s 61ms/step - loss: 0.1640 - categorical_accuracy: 0.9549 - val_loss: 0.1312 - val_categorical_accuracy: 0.9514\n",
      "Epoch 24/50\n",
      "70/70 [==============================] - 4s 57ms/step - loss: 0.0518 - categorical_accuracy: 0.9820 - val_loss: 0.1165 - val_categorical_accuracy: 0.9622\n",
      "Epoch 25/50\n",
      "70/70 [==============================] - 4s 56ms/step - loss: 0.0214 - categorical_accuracy: 0.9973 - val_loss: 0.1133 - val_categorical_accuracy: 0.9635\n",
      "Epoch 26/50\n",
      "70/70 [==============================] - 4s 61ms/step - loss: 0.0208 - categorical_accuracy: 0.9959 - val_loss: 0.1101 - val_categorical_accuracy: 0.9608\n",
      "Epoch 27/50\n",
      "70/70 [==============================] - 4s 56ms/step - loss: 0.0107 - categorical_accuracy: 0.9982 - val_loss: 0.1370 - val_categorical_accuracy: 0.9581\n",
      "Epoch 28/50\n",
      "70/70 [==============================] - 4s 57ms/step - loss: 0.0052 - categorical_accuracy: 1.0000 - val_loss: 0.1303 - val_categorical_accuracy: 0.9649\n",
      "Epoch 29/50\n",
      "70/70 [==============================] - 4s 60ms/step - loss: 0.0036 - categorical_accuracy: 1.0000 - val_loss: 0.1258 - val_categorical_accuracy: 0.9676\n",
      "Epoch 30/50\n",
      "70/70 [==============================] - 4s 58ms/step - loss: 0.0029 - categorical_accuracy: 1.0000 - val_loss: 0.1393 - val_categorical_accuracy: 0.9635\n",
      "Epoch 31/50\n",
      "70/70 [==============================] - 4s 56ms/step - loss: 0.0021 - categorical_accuracy: 1.0000 - val_loss: 0.1405 - val_categorical_accuracy: 0.9676\n",
      "Epoch 32/50\n",
      "70/70 [==============================] - 4s 60ms/step - loss: 0.0018 - categorical_accuracy: 1.0000 - val_loss: 0.1440 - val_categorical_accuracy: 0.9635\n",
      "Epoch 33/50\n",
      "70/70 [==============================] - 4s 56ms/step - loss: 0.0015 - categorical_accuracy: 1.0000 - val_loss: 0.1426 - val_categorical_accuracy: 0.9676\n",
      "Epoch 34/50\n",
      "70/70 [==============================] - 4s 59ms/step - loss: 0.0013 - categorical_accuracy: 1.0000 - val_loss: 0.1441 - val_categorical_accuracy: 0.9662\n",
      "Epoch 35/50\n",
      "70/70 [==============================] - 4s 61ms/step - loss: 0.0011 - categorical_accuracy: 1.0000 - val_loss: 0.1561 - val_categorical_accuracy: 0.9622\n",
      "Epoch 36/50\n",
      "70/70 [==============================] - 4s 57ms/step - loss: 0.0010 - categorical_accuracy: 1.0000 - val_loss: 0.1527 - val_categorical_accuracy: 0.9635\n",
      "Epoch 37/50\n",
      "70/70 [==============================] - 4s 56ms/step - loss: 9.1217e-04 - categorical_accuracy: 1.0000 - val_loss: 0.1485 - val_categorical_accuracy: 0.9649\n",
      "Epoch 38/50\n",
      "70/70 [==============================] - 4s 62ms/step - loss: 8.3477e-04 - categorical_accuracy: 1.0000 - val_loss: 0.1587 - val_categorical_accuracy: 0.9635\n",
      "Epoch 39/50\n",
      "70/70 [==============================] - 4s 57ms/step - loss: 7.7043e-04 - categorical_accuracy: 1.0000 - val_loss: 0.1633 - val_categorical_accuracy: 0.9635\n",
      "Epoch 40/50\n",
      "70/70 [==============================] - 4s 57ms/step - loss: 7.0453e-04 - categorical_accuracy: 1.0000 - val_loss: 0.1583 - val_categorical_accuracy: 0.9662\n",
      "Epoch 41/50\n",
      "70/70 [==============================] - 4s 61ms/step - loss: 6.7061e-04 - categorical_accuracy: 1.0000 - val_loss: 0.1631 - val_categorical_accuracy: 0.9622\n",
      "Epoch 42/50\n",
      "70/70 [==============================] - 4s 60ms/step - loss: 6.0973e-04 - categorical_accuracy: 1.0000 - val_loss: 0.1632 - val_categorical_accuracy: 0.9622\n",
      "Epoch 43/50\n",
      "70/70 [==============================] - 4s 59ms/step - loss: 5.6779e-04 - categorical_accuracy: 1.0000 - val_loss: 0.1663 - val_categorical_accuracy: 0.9622\n",
      "Epoch 44/50\n",
      "70/70 [==============================] - 4s 64ms/step - loss: 5.2292e-04 - categorical_accuracy: 1.0000 - val_loss: 0.1688 - val_categorical_accuracy: 0.9622\n",
      "Epoch 45/50\n",
      "70/70 [==============================] - 4s 58ms/step - loss: 5.1131e-04 - categorical_accuracy: 1.0000 - val_loss: 0.1746 - val_categorical_accuracy: 0.9608\n",
      "Epoch 46/50\n",
      "69/70 [============================>.] - ETA: 0s - loss: 4.6578e-04 - categorical_accuracy: 1.0000Restoring model weights from the end of the best epoch.\n",
      "70/70 [==============================] - 4s 60ms/step - loss: 4.6494e-04 - categorical_accuracy: 1.0000 - val_loss: 0.1754 - val_categorical_accuracy: 0.9608\n",
      "Epoch 00046: early stopping\n"
     ]
    }
   ],
   "source": [
    "historyEarlyStop = modelEarlyStop.fit_generator(train_generator, validation_data = validation_generator, epochs=50,callbacks=[es], verbose=1)"
   ]
  },
  {
   "cell_type": "code",
   "execution_count": 40,
   "metadata": {},
   "outputs": [
    {
     "data": {
      "image/png": "[encoded data removed]",
      "text/plain": [
       "<Figure size 720x360 with 2 Axes>"
      ]
     },
     "metadata": {
      "needs_background": "light"
     },
     "output_type": "display_data"
    }
   ],
   "source": [
    "plot_learning_curve(historyEarlyStop.history['loss'], historyEarlyStop.history['val_loss'], \n",
    "                    historyEarlyStop.history['categorical_accuracy'], historyEarlyStop.history['val_categorical_accuracy'], \n",
    "                    metric_name='Accuracy')"
   ]
  },
  {
   "cell_type": "code",
   "execution_count": 41,
   "metadata": {
    "scrolled": true
   },
   "outputs": [],
   "source": [
    "# test_data['class'] = test_data['class'].astype('str')\n",
    "\n",
    "# test_datagen = ImageDataGenerator(rescale=1./255, data_format='channels_last')\n",
    "\n",
    "# batch_size = 1\n",
    "\n",
    "# test_generator = test_datagen.flow_from_dataframe(\n",
    "#         dataframe=test_data,\n",
    "#         directory='./',\n",
    "#         x_col=\"image_path\",\n",
    "#         y_col=\"class\",\n",
    "#         target_size=(32, 32),\n",
    "#         batch_size=batch_size,\n",
    "#         class_mode='categorical')"
   ]
  },
  {
   "cell_type": "code",
   "execution_count": 42,
   "metadata": {},
   "outputs": [
    {
     "name": "stdout",
     "output_type": "stream",
     "text": [
      "740/740 [==============================] - 2s 3ms/step - loss: 0.1697 - categorical_accuracy: 0.9635\n"
     ]
    },
    {
     "data": {
      "text/plain": [
       "[0.16971064939202518, 0.9635135]"
      ]
     },
     "execution_count": 42,
     "metadata": {},
     "output_type": "execute_result"
    }
   ],
   "source": [
    "modelEarlyStop.evaluate(test_generator)"
   ]
  },
  {
   "cell_type": "markdown",
   "metadata": {},
   "source": [
    "## It shows above that the accuracy is higher when we decided to use a classical convolutional neural network architecture"
   ]
  },
  {
   "cell_type": "code",
   "execution_count": 43,
   "metadata": {},
   "outputs": [],
   "source": [
    "label_names = {'diamond': 0, 'hex': 1, 'round': 2, 'square': 3, 'triangle': 4}"
   ]
  },
  {
   "cell_type": "markdown",
   "metadata": {},
   "source": [
    "## Now with our trained model, we have created a model that is able to classify sign shapes as show below."
   ]
  },
  {
   "cell_type": "code",
   "execution_count": 44,
   "metadata": {
    "scrolled": true
   },
   "outputs": [
    {
     "data": {
      "image/png": "[encoded data removed]",
      "text/plain": [
       "<Figure size 1152x288 with 5 Axes>"
      ]
     },
     "metadata": {
      "needs_background": "light"
     },
     "output_type": "display_data"
    }
   ],
   "source": [
    "d_inv = {v: k for k, v in label_names.items()}\n",
    "plt.figure(figsize=(16,4))\n",
    "batches = 0\n",
    "for x,y in test_generator:\n",
    "        batches = batches + 1\n",
    "        y_hat = modelEarlyStop.predict(x, verbose=0)\n",
    "        x = np.squeeze(x)\n",
    "        if batches < 6:\n",
    "            plt.subplot(1,6,batches)\n",
    "            plt.imshow(x)\n",
    "            plt.title(\"GT-{}, Pred-{}\".format(d_inv[np.argmax(y[0])], d_inv[np.argmax(y_hat[0])] ))\n",
    "            \n",
    "        else:\n",
    "            break\n",
    "        \n",
    "        plt.axis('off')"
   ]
  },
  {
   "cell_type": "markdown",
   "metadata": {},
   "source": [
    "## To choose one of the image from the dataset change target number"
   ]
  },
  {
   "cell_type": "code",
   "execution_count": 45,
   "metadata": {},
   "outputs": [
    {
     "data": {
      "image/png": "[encoded data removed]",
      "text/plain": [
       "<Figure size 1152x288 with 1 Axes>"
      ]
     },
     "metadata": {
      "needs_background": "light"
     },
     "output_type": "display_data"
    }
   ],
   "source": [
    "\n",
    "d_inv = {v: k for k, v in label_names.items()}\n",
    "# X = image.img_to_array(img)\n",
    "# X = np.expand_dims(X,axis = 0)\n",
    "# inages = np.vstack([X])\n",
    "\n",
    "# x,y = test_generator[12]\n",
    "# val = model.predict(x, verbose=0)\n",
    "# print(\"GT-{}, Pred-{}\".format(d_inv[np.argmax(y[0])], d_inv[np.argmax(val[0])] ))\n",
    "plt.figure(figsize=(16,4))\n",
    "target = 5000\n",
    "batches = 0\n",
    "for x,y in test_generator:\n",
    "        batches = batches + 1\n",
    "        y_hat = modelEarlyStop.predict(x, verbose=0)\n",
    "        x = np.squeeze(x)\n",
    "        if batches == target:\n",
    "            plt.subplot(1,4,1)\n",
    "            plt.imshow(x)\n",
    "            plt.title(\"GT-{}, Pred-{}\".format(d_inv[np.argmax(y[0])], d_inv[np.argmax(y_hat[0])] ))\n",
    "            break\n",
    "        plt.axis('off')\n"
   ]
  },
  {
   "cell_type": "markdown",
   "metadata": {},
   "source": [
    "## Now we will develop a model that can classify the sign board type."
   ]
  },
  {
   "cell_type": "code",
   "execution_count": 46,
   "metadata": {},
   "outputs": [],
   "source": [
    "import cv2\n",
    "import os\n",
    "\n",
    "def load_images_from_folder(folder):\n",
    "    images = []\n",
    "    for filename in os.listdir(folder):\n",
    "        img = cv2.imread(os.path.join(folder,filename))\n",
    "        if img is not None:\n",
    "            images.append(img)\n",
    "    return images"
   ]
  },
  {
   "cell_type": "markdown",
   "metadata": {},
   "source": [
    "##  We change the to [2] so that we can print out a csv that get sign type instead of shape"
   ]
  },
  {
   "cell_type": "code",
   "execution_count": 47,
   "metadata": {},
   "outputs": [],
   "source": [
    "## this is to create two csv classes, one for sign shape and the other for sign types. Change the [1 or 2]\n",
    "\n",
    "import glob\n",
    "images = []\n",
    "classes = []\n",
    "classes.extend([file.split(\"\\\\\")[2] for file in glob.glob('trafficsigns_dataset/*/*/*.png')])\n",
    "images.extend([(file) for file in glob.glob('trafficsigns_dataset/*/*/*.png')])"
   ]
  },
  {
   "cell_type": "code",
   "execution_count": 48,
   "metadata": {},
   "outputs": [],
   "source": [
    "## CSV is print and saved into our device\n",
    "\n",
    "dict = {'image_path': images, 'class': classes} \n",
    "predict_df = pd.DataFrame(dict)\n",
    "predict_df.to_csv('signboardimage2.csv', index=False)"
   ]
  },
  {
   "cell_type": "code",
   "execution_count": 49,
   "metadata": {},
   "outputs": [],
   "source": [
    "data2 = pd.read_csv('./signboardimage2.csv')"
   ]
  },
  {
   "cell_type": "markdown",
   "metadata": {},
   "source": [
    "### Same thing previously, we need to split the data in to train, test and val"
   ]
  },
  {
   "cell_type": "code",
   "execution_count": 50,
   "metadata": {},
   "outputs": [
    {
     "name": "stdout",
     "output_type": "stream",
     "text": [
      "Train data : 2219, Val Data: 740, Test Data: 740\n"
     ]
    }
   ],
   "source": [
    "train_data, test_data = train_test_split(data2, test_size=0.2, random_state=42)\n",
    "train_data, val_data = train_test_split(train_data, test_size=0.25, random_state=42)\n",
    "\n",
    "print(\"Train data : {}, Val Data: {}, Test Data: {}\".format(train_data.shape[0], val_data.shape[0], test_data.shape[0]))"
   ]
  },
  {
   "cell_type": "code",
   "execution_count": 51,
   "metadata": {},
   "outputs": [],
   "source": [
    "train_data['class'] = train_data['class'].astype('str')\n",
    "val_data['class'] = val_data['class'].astype('str')"
   ]
  },
  {
   "cell_type": "code",
   "execution_count": 52,
   "metadata": {},
   "outputs": [
    {
     "name": "stdout",
     "output_type": "stream",
     "text": [
      "Found 2219 validated image filenames belonging to 16 classes.\n",
      "Found 740 validated image filenames belonging to 16 classes.\n"
     ]
    }
   ],
   "source": [
    "from tensorflow.keras.preprocessing.image import ImageDataGenerator\n",
    "\n",
    "train_datagen = ImageDataGenerator(rescale=1./255, data_format='channels_last')\n",
    "val_datagen = ImageDataGenerator(rescale=1./255, data_format='channels_last')\n",
    "\n",
    "batch_size = 32\n",
    "\n",
    "train_generator2 = train_datagen.flow_from_dataframe(\n",
    "        dataframe=train_data,\n",
    "        directory='./',\n",
    "        x_col=\"image_path\",\n",
    "        y_col=\"class\",\n",
    "        target_size=(32, 32),\n",
    "        batch_size=batch_size,\n",
    "        class_mode='categorical')\n",
    "\n",
    "validation_generator2 = val_datagen.flow_from_dataframe(\n",
    "        dataframe=val_data,\n",
    "        directory='./',\n",
    "        x_col=\"image_path\",\n",
    "        y_col=\"class\",\n",
    "        target_size=(32, 32),\n",
    "        batch_size=batch_size,\n",
    "        class_mode='categorical')"
   ]
  },
  {
   "cell_type": "code",
   "execution_count": 53,
   "metadata": {},
   "outputs": [
    {
     "data": {
      "text/plain": [
       "{'bicycle': 0,\n",
       " 'continue': 1,\n",
       " 'crossing': 2,\n",
       " 'giveway': 3,\n",
       " 'laneend': 4,\n",
       " 'limitedtraffic': 5,\n",
       " 'noentry': 6,\n",
       " 'noparking': 7,\n",
       " 'parking': 8,\n",
       " 'rightofway': 9,\n",
       " 'roundabout': 10,\n",
       " 'speed': 11,\n",
       " 'stop': 12,\n",
       " 'trafficdirective': 13,\n",
       " 'traveldirection': 14,\n",
       " 'warning': 15}"
      ]
     },
     "execution_count": 53,
     "metadata": {},
     "output_type": "execute_result"
    }
   ],
   "source": [
    "train_generator2.class_indices"
   ]
  },
  {
   "cell_type": "code",
   "execution_count": 54,
   "metadata": {},
   "outputs": [
    {
     "data": {
      "text/plain": [
       "{'bicycle': 0,\n",
       " 'continue': 1,\n",
       " 'crossing': 2,\n",
       " 'giveway': 3,\n",
       " 'laneend': 4,\n",
       " 'limitedtraffic': 5,\n",
       " 'noentry': 6,\n",
       " 'noparking': 7,\n",
       " 'parking': 8,\n",
       " 'rightofway': 9,\n",
       " 'roundabout': 10,\n",
       " 'speed': 11,\n",
       " 'stop': 12,\n",
       " 'trafficdirective': 13,\n",
       " 'traveldirection': 14,\n",
       " 'warning': 15}"
      ]
     },
     "execution_count": 54,
     "metadata": {},
     "output_type": "execute_result"
    }
   ],
   "source": [
    "validation_generator2.class_indices"
   ]
  },
  {
   "cell_type": "code",
   "execution_count": 55,
   "metadata": {},
   "outputs": [],
   "source": [
    "INPUT_DIM2 = (32,32,3) # (x-axis size of image, y axis size of image, rgb 3 colours)\n",
    "HIDDEN_LAYER_DIM2 = 256\n",
    "OUTPUT_CLASSES2 = 16"
   ]
  },
  {
   "cell_type": "markdown",
   "metadata": {},
   "source": [
    "### Here is where it is slightly different from above, we decided to set different layers their the previous model as it output us very high loss and low accuracy."
   ]
  },
  {
   "cell_type": "code",
   "execution_count": 56,
   "metadata": {},
   "outputs": [],
   "source": [
    "\n",
    "model2= tf.keras.Sequential() # Plain stack of layers\n",
    "model2.add(tf.keras.layers.Conv2D(filters=32,kernel_size=(3,3), \n",
    "  strides=(3,3), input_shape = INPUT_DIM2, activation='relu'))\n",
    "model2.add(tf.keras.layers.Conv2D(filters=64,kernel_size=(3,3), \n",
    "  activation='relu'))\n",
    "model2.add(tf.keras.layers.MaxPooling2D(pool_size = (2, 2)))\n",
    "model2.add(tf.keras.layers.Dropout(0.25))\n",
    "model2.add(tf.keras.layers.Flatten())\n",
    "model2.add(tf.keras.layers.Dense(128, activation='relu'))\n",
    "model2.add(tf.keras.layers.Dropout(0.5))\n",
    "model2.add(tf.keras.layers.Dense(16,activation = 'sigmoid')) # 43 classes\n",
    "\n",
    "\n",
    "\n",
    "\n",
    "\n",
    "# model2 = tf.keras.Sequential([\n",
    "#     tf.keras.layers.Flatten(input_shape=INPUT_DIM2),\n",
    "#     tf.keras.layers.Dense(HIDDEN_LAYER_DIM2, activation='softmax'),\n",
    "#     tf.keras.layers.Dense(OUTPUT_CLASSES2)\n",
    "# ])"
   ]
  },
  {
   "cell_type": "code",
   "execution_count": 57,
   "metadata": {},
   "outputs": [
    {
     "name": "stdout",
     "output_type": "stream",
     "text": [
      "Model: \"sequential_2\"\n",
      "_________________________________________________________________\n",
      "Layer (type)                 Output Shape              Param #   \n",
      "=================================================================\n",
      "conv2d_8 (Conv2D)            (None, 10, 10, 32)        896       \n",
      "_________________________________________________________________\n",
      "conv2d_9 (Conv2D)            (None, 8, 8, 64)          18496     \n",
      "_________________________________________________________________\n",
      "max_pooling2d_4 (MaxPooling2 (None, 4, 4, 64)          0         \n",
      "_________________________________________________________________\n",
      "dropout (Dropout)            (None, 4, 4, 64)          0         \n",
      "_________________________________________________________________\n",
      "flatten_2 (Flatten)          (None, 1024)              0         \n",
      "_________________________________________________________________\n",
      "dense_4 (Dense)              (None, 128)               131200    \n",
      "_________________________________________________________________\n",
      "dropout_1 (Dropout)          (None, 128)               0         \n",
      "_________________________________________________________________\n",
      "dense_5 (Dense)              (None, 16)                2064      \n",
      "=================================================================\n",
      "Total params: 152,656\n",
      "Trainable params: 152,656\n",
      "Non-trainable params: 0\n",
      "_________________________________________________________________\n"
     ]
    }
   ],
   "source": [
    "model2.summary()"
   ]
  },
  {
   "cell_type": "code",
   "execution_count": 58,
   "metadata": {},
   "outputs": [
    {
     "data": {
      "image/png": "[encoded data removed]",
      "text/plain": [
       "<IPython.core.display.Image object>"
      ]
     },
     "execution_count": 58,
     "metadata": {},
     "output_type": "execute_result"
    }
   ],
   "source": [
    "tf.keras.utils.plot_model(model2, show_shapes=True)"
   ]
  },
  {
   "cell_type": "code",
   "execution_count": 59,
   "metadata": {},
   "outputs": [],
   "source": [
    "model2.compile(optimizer='SGD',\n",
    "              loss=tf.keras.losses.CategoricalCrossentropy(from_logits=True),\n",
    "              metrics=['categorical_accuracy'])"
   ]
  },
  {
   "cell_type": "code",
   "execution_count": 60,
   "metadata": {},
   "outputs": [
    {
     "name": "stdout",
     "output_type": "stream",
     "text": [
      "Found 2219 validated image filenames belonging to 16 classes.\n",
      "Found 740 validated image filenames belonging to 16 classes.\n"
     ]
    }
   ],
   "source": [
    "train_datagen = ImageDataGenerator(rescale=1./255, data_format='channels_last')\n",
    "val_datagen = ImageDataGenerator(rescale=1./255, data_format='channels_last')\n",
    "\n",
    "batch_size = 32\n",
    "\n",
    "train_generator2 = train_datagen.flow_from_dataframe(\n",
    "        dataframe=train_data,\n",
    "        directory='./',\n",
    "        x_col=\"image_path\",\n",
    "        y_col=\"class\",\n",
    "        target_size=(32, 32),\n",
    "        batch_size=batch_size,\n",
    "        class_mode='categorical')\n",
    "\n",
    "validation_generator2 = val_datagen.flow_from_dataframe(\n",
    "        dataframe=val_data,\n",
    "        directory='./',\n",
    "        x_col=\"image_path\",\n",
    "        y_col=\"class\",\n",
    "        target_size=(32, 32),\n",
    "        batch_size=batch_size,\n",
    "        class_mode='categorical')"
   ]
  },
  {
   "cell_type": "code",
   "execution_count": 61,
   "metadata": {},
   "outputs": [],
   "source": [
    "\n",
    "def plot_learning_curve(train_loss, val_loss, train_metric, val_metric, metric_name='Accuracy'):\n",
    "    plt.figure(figsize=(10,5))\n",
    "    \n",
    "    plt.subplot(1,2,1)\n",
    "    plt.plot(train_loss, 'r--')\n",
    "    plt.plot(val_loss, 'b--')\n",
    "    plt.xlabel(\"epochs\")\n",
    "    plt.ylabel(\"Loss\")\n",
    "    plt.legend(['train', 'val'], loc='upper left')\n",
    "\n",
    "    plt.subplot(1,2,2)\n",
    "    plt.plot(train_metric, 'r--')\n",
    "    plt.plot(val_metric, 'b--')\n",
    "    plt.xlabel(\"epochs\")\n",
    "    plt.ylabel(metric_name)\n",
    "    plt.legend(['train', 'val'], loc='upper left')\n",
    "\n",
    "    plt.show()"
   ]
  },
  {
   "cell_type": "code",
   "execution_count": 62,
   "metadata": {},
   "outputs": [
    {
     "name": "stdout",
     "output_type": "stream",
     "text": [
      "Found 740 validated image filenames belonging to 16 classes.\n"
     ]
    },
    {
     "name": "stderr",
     "output_type": "stream",
     "text": [
      "D:\\Anaconda\\lib\\site-packages\\ipykernel_launcher.py:1: SettingWithCopyWarning: \n",
      "A value is trying to be set on a copy of a slice from a DataFrame.\n",
      "Try using .loc[row_indexer,col_indexer] = value instead\n",
      "\n",
      "See the caveats in the documentation: https://pandas.pydata.org/pandas-docs/stable/user_guide/indexing.html#returning-a-view-versus-a-copy\n",
      "  \"\"\"Entry point for launching an IPython kernel.\n"
     ]
    }
   ],
   "source": [
    "test_data['class'] = test_data['class'].astype('str')\n",
    "\n",
    "test_datagen = ImageDataGenerator(rescale=1./255, data_format='channels_last')\n",
    "\n",
    "batch_size = 1\n",
    "\n",
    "test_generator2 = test_datagen.flow_from_dataframe(\n",
    "        dataframe=test_data,\n",
    "        directory='./',\n",
    "        x_col=\"image_path\",\n",
    "        y_col=\"class\",\n",
    "        target_size=(32, 32),\n",
    "        batch_size=batch_size,\n",
    "        class_mode='categorical')"
   ]
  },
  {
   "cell_type": "code",
   "execution_count": 63,
   "metadata": {},
   "outputs": [
    {
     "name": "stdout",
     "output_type": "stream",
     "text": [
      "Epoch 1/60\n",
      "70/70 [==============================] - 2s 28ms/step - loss: 2.7515 - categorical_accuracy: 0.1190 - val_loss: 2.7379 - val_categorical_accuracy: 0.1784\n",
      "Epoch 2/60\n",
      "70/70 [==============================] - 1s 18ms/step - loss: 2.7208 - categorical_accuracy: 0.1712 - val_loss: 2.7037 - val_categorical_accuracy: 0.1784\n",
      "Epoch 3/60\n",
      "70/70 [==============================] - 1s 20ms/step - loss: 2.6885 - categorical_accuracy: 0.1825 - val_loss: 2.6748 - val_categorical_accuracy: 0.1784\n",
      "Epoch 4/60\n",
      "70/70 [==============================] - 1s 19ms/step - loss: 2.6682 - categorical_accuracy: 0.1857 - val_loss: 2.6592 - val_categorical_accuracy: 0.1784\n",
      "Epoch 5/60\n",
      "70/70 [==============================] - 1s 19ms/step - loss: 2.6574 - categorical_accuracy: 0.1870 - val_loss: 2.6504 - val_categorical_accuracy: 0.1784\n",
      "Epoch 6/60\n",
      "70/70 [==============================] - 1s 18ms/step - loss: 2.6478 - categorical_accuracy: 0.1875 - val_loss: 2.6433 - val_categorical_accuracy: 0.1784\n",
      "Epoch 7/60\n",
      "70/70 [==============================] - 1s 19ms/step - loss: 2.6392 - categorical_accuracy: 0.1924 - val_loss: 2.6374 - val_categorical_accuracy: 0.1784\n",
      "Epoch 8/60\n",
      "70/70 [==============================] - 1s 18ms/step - loss: 2.6319 - categorical_accuracy: 0.1933 - val_loss: 2.6320 - val_categorical_accuracy: 0.1784\n",
      "Epoch 9/60\n",
      "70/70 [==============================] - 2s 24ms/step - loss: 2.6189 - categorical_accuracy: 0.1974 - val_loss: 2.6261 - val_categorical_accuracy: 0.1784\n",
      "Epoch 10/60\n",
      "70/70 [==============================] - 1s 18ms/step - loss: 2.6190 - categorical_accuracy: 0.1996 - val_loss: 2.6186 - val_categorical_accuracy: 0.1784\n",
      "Epoch 11/60\n",
      "70/70 [==============================] - 1s 19ms/step - loss: 2.6156 - categorical_accuracy: 0.1951 - val_loss: 2.6125 - val_categorical_accuracy: 0.1784\n",
      "Epoch 12/60\n",
      "70/70 [==============================] - 1s 18ms/step - loss: 2.6095 - categorical_accuracy: 0.1924 - val_loss: 2.6035 - val_categorical_accuracy: 0.1784\n",
      "Epoch 13/60\n",
      "70/70 [==============================] - 1s 19ms/step - loss: 2.6067 - categorical_accuracy: 0.1938 - val_loss: 2.5950 - val_categorical_accuracy: 0.1784\n",
      "Epoch 14/60\n",
      "70/70 [==============================] - 1s 18ms/step - loss: 2.5962 - categorical_accuracy: 0.1983 - val_loss: 2.5860 - val_categorical_accuracy: 0.1784\n",
      "Epoch 15/60\n",
      "70/70 [==============================] - 1s 19ms/step - loss: 2.5868 - categorical_accuracy: 0.1965 - val_loss: 2.5741 - val_categorical_accuracy: 0.1784\n",
      "Epoch 16/60\n",
      "70/70 [==============================] - 1s 19ms/step - loss: 2.5783 - categorical_accuracy: 0.1960 - val_loss: 2.5639 - val_categorical_accuracy: 0.1784\n",
      "Epoch 17/60\n",
      "70/70 [==============================] - 1s 21ms/step - loss: 2.5668 - categorical_accuracy: 0.1956 - val_loss: 2.5514 - val_categorical_accuracy: 0.1784\n",
      "Epoch 18/60\n",
      "70/70 [==============================] - 1s 18ms/step - loss: 2.5594 - categorical_accuracy: 0.1974 - val_loss: 2.5371 - val_categorical_accuracy: 0.1784\n",
      "Epoch 19/60\n",
      "70/70 [==============================] - 1s 19ms/step - loss: 2.5484 - categorical_accuracy: 0.2032 - val_loss: 2.5220 - val_categorical_accuracy: 0.1784\n",
      "Epoch 20/60\n",
      "70/70 [==============================] - 1s 19ms/step - loss: 2.5383 - categorical_accuracy: 0.2055 - val_loss: 2.5086 - val_categorical_accuracy: 0.1784\n",
      "Epoch 21/60\n",
      "70/70 [==============================] - 1s 19ms/step - loss: 2.5309 - categorical_accuracy: 0.2087 - val_loss: 2.4897 - val_categorical_accuracy: 0.1784\n",
      "Epoch 22/60\n",
      "70/70 [==============================] - 1s 18ms/step - loss: 2.5133 - categorical_accuracy: 0.2127 - val_loss: 2.4788 - val_categorical_accuracy: 0.1824\n",
      "Epoch 23/60\n",
      "70/70 [==============================] - 1s 18ms/step - loss: 2.5044 - categorical_accuracy: 0.2159 - val_loss: 2.4599 - val_categorical_accuracy: 0.1811\n",
      "Epoch 24/60\n",
      "70/70 [==============================] - 1s 18ms/step - loss: 2.4930 - categorical_accuracy: 0.2226 - val_loss: 2.4479 - val_categorical_accuracy: 0.1838\n",
      "Epoch 25/60\n",
      "70/70 [==============================] - 1s 21ms/step - loss: 2.4867 - categorical_accuracy: 0.2289 - val_loss: 2.4331 - val_categorical_accuracy: 0.1892\n",
      "Epoch 26/60\n",
      "70/70 [==============================] - 1s 18ms/step - loss: 2.4755 - categorical_accuracy: 0.2361 - val_loss: 2.4204 - val_categorical_accuracy: 0.1973\n",
      "Epoch 27/60\n",
      "70/70 [==============================] - 1s 19ms/step - loss: 2.4673 - categorical_accuracy: 0.2402 - val_loss: 2.4075 - val_categorical_accuracy: 0.1986\n",
      "Epoch 28/60\n",
      "70/70 [==============================] - 1s 20ms/step - loss: 2.4513 - categorical_accuracy: 0.2542 - val_loss: 2.3983 - val_categorical_accuracy: 0.2095\n",
      "Epoch 29/60\n",
      "70/70 [==============================] - 1s 18ms/step - loss: 2.4436 - categorical_accuracy: 0.2596 - val_loss: 2.3860 - val_categorical_accuracy: 0.2189\n",
      "Epoch 30/60\n",
      "70/70 [==============================] - 1s 18ms/step - loss: 2.4246 - categorical_accuracy: 0.2726 - val_loss: 2.3759 - val_categorical_accuracy: 0.2405\n",
      "Epoch 31/60\n",
      "70/70 [==============================] - 1s 19ms/step - loss: 2.4218 - categorical_accuracy: 0.2699 - val_loss: 2.3669 - val_categorical_accuracy: 0.2338\n",
      "Epoch 32/60\n",
      "70/70 [==============================] - 1s 18ms/step - loss: 2.4068 - categorical_accuracy: 0.2735 - val_loss: 2.3562 - val_categorical_accuracy: 0.2514\n",
      "Epoch 33/60\n",
      "70/70 [==============================] - 1s 20ms/step - loss: 2.4063 - categorical_accuracy: 0.2884 - val_loss: 2.3470 - val_categorical_accuracy: 0.2730\n",
      "Epoch 34/60\n",
      "70/70 [==============================] - 1s 19ms/step - loss: 2.3975 - categorical_accuracy: 0.2925 - val_loss: 2.3399 - val_categorical_accuracy: 0.2919\n",
      "Epoch 35/60\n",
      "70/70 [==============================] - 1s 19ms/step - loss: 2.3945 - categorical_accuracy: 0.3091 - val_loss: 2.3322 - val_categorical_accuracy: 0.3027\n",
      "Epoch 36/60\n",
      "70/70 [==============================] - 1s 18ms/step - loss: 2.3836 - categorical_accuracy: 0.3137 - val_loss: 2.3255 - val_categorical_accuracy: 0.2716\n",
      "Epoch 37/60\n",
      "70/70 [==============================] - 1s 19ms/step - loss: 2.3751 - categorical_accuracy: 0.3015 - val_loss: 2.3200 - val_categorical_accuracy: 0.3095\n",
      "Epoch 38/60\n",
      "70/70 [==============================] - 1s 18ms/step - loss: 2.3709 - categorical_accuracy: 0.3231 - val_loss: 2.3106 - val_categorical_accuracy: 0.3311\n",
      "Epoch 39/60\n",
      "70/70 [==============================] - 1s 19ms/step - loss: 2.3621 - categorical_accuracy: 0.3303 - val_loss: 2.3038 - val_categorical_accuracy: 0.3554\n",
      "Epoch 40/60\n",
      "70/70 [==============================] - 1s 21ms/step - loss: 2.3569 - categorical_accuracy: 0.3556 - val_loss: 2.2989 - val_categorical_accuracy: 0.3919\n",
      "Epoch 41/60\n",
      "70/70 [==============================] - 1s 20ms/step - loss: 2.3564 - categorical_accuracy: 0.3425 - val_loss: 2.2931 - val_categorical_accuracy: 0.4081\n",
      "Epoch 42/60\n",
      "70/70 [==============================] - 1s 19ms/step - loss: 2.3468 - categorical_accuracy: 0.3903 - val_loss: 2.2876 - val_categorical_accuracy: 0.4257\n",
      "Epoch 43/60\n",
      "70/70 [==============================] - 1s 19ms/step - loss: 2.3412 - categorical_accuracy: 0.3731 - val_loss: 2.2821 - val_categorical_accuracy: 0.4257\n",
      "Epoch 44/60\n",
      "70/70 [==============================] - 1s 18ms/step - loss: 2.3326 - categorical_accuracy: 0.3831 - val_loss: 2.2760 - val_categorical_accuracy: 0.4662\n",
      "Epoch 45/60\n",
      "70/70 [==============================] - 1s 19ms/step - loss: 2.3269 - categorical_accuracy: 0.4029 - val_loss: 2.2707 - val_categorical_accuracy: 0.4581\n",
      "Epoch 46/60\n",
      "70/70 [==============================] - 1s 18ms/step - loss: 2.3194 - categorical_accuracy: 0.4277 - val_loss: 2.2650 - val_categorical_accuracy: 0.4622\n",
      "Epoch 47/60\n",
      "70/70 [==============================] - 1s 19ms/step - loss: 2.3158 - categorical_accuracy: 0.4178 - val_loss: 2.2622 - val_categorical_accuracy: 0.4757\n",
      "Epoch 48/60\n",
      "70/70 [==============================] - 1s 19ms/step - loss: 2.3098 - categorical_accuracy: 0.4272 - val_loss: 2.2561 - val_categorical_accuracy: 0.5122\n",
      "Epoch 49/60\n",
      "70/70 [==============================] - 1s 18ms/step - loss: 2.3044 - categorical_accuracy: 0.4529 - val_loss: 2.2503 - val_categorical_accuracy: 0.5378\n",
      "Epoch 50/60\n"
     ]
    },
    {
     "name": "stdout",
     "output_type": "stream",
     "text": [
      "70/70 [==============================] - 2s 22ms/step - loss: 2.2994 - categorical_accuracy: 0.4425 - val_loss: 2.2449 - val_categorical_accuracy: 0.5554\n",
      "Epoch 51/60\n",
      "70/70 [==============================] - 1s 18ms/step - loss: 2.2937 - categorical_accuracy: 0.4637 - val_loss: 2.2392 - val_categorical_accuracy: 0.5459\n",
      "Epoch 52/60\n",
      "70/70 [==============================] - 1s 20ms/step - loss: 2.2888 - categorical_accuracy: 0.4813 - val_loss: 2.2350 - val_categorical_accuracy: 0.5459\n",
      "Epoch 53/60\n",
      "70/70 [==============================] - 1s 18ms/step - loss: 2.2798 - categorical_accuracy: 0.4790 - val_loss: 2.2315 - val_categorical_accuracy: 0.5554\n",
      "Epoch 54/60\n",
      "70/70 [==============================] - 1s 18ms/step - loss: 2.2757 - categorical_accuracy: 0.4966 - val_loss: 2.2236 - val_categorical_accuracy: 0.5784\n",
      "Epoch 55/60\n",
      "70/70 [==============================] - 1s 19ms/step - loss: 2.2730 - categorical_accuracy: 0.5038 - val_loss: 2.2193 - val_categorical_accuracy: 0.5824\n",
      "Epoch 56/60\n",
      "70/70 [==============================] - 1s 18ms/step - loss: 2.2644 - categorical_accuracy: 0.5079 - val_loss: 2.2153 - val_categorical_accuracy: 0.6000\n",
      "Epoch 57/60\n",
      "70/70 [==============================] - 1s 18ms/step - loss: 2.2615 - categorical_accuracy: 0.5065 - val_loss: 2.2110 - val_categorical_accuracy: 0.6041\n",
      "Epoch 58/60\n",
      "70/70 [==============================] - 1s 21ms/step - loss: 2.2562 - categorical_accuracy: 0.5381 - val_loss: 2.2053 - val_categorical_accuracy: 0.6081\n",
      "Epoch 59/60\n",
      "70/70 [==============================] - 1s 19ms/step - loss: 2.2571 - categorical_accuracy: 0.5291 - val_loss: 2.2032 - val_categorical_accuracy: 0.6041\n",
      "Epoch 60/60\n",
      "70/70 [==============================] - 1s 18ms/step - loss: 2.2495 - categorical_accuracy: 0.5516 - val_loss: 2.1979 - val_categorical_accuracy: 0.6176\n"
     ]
    },
    {
     "data": {
      "image/png": "[encoded data removed]",
      "text/plain": [
       "<Figure size 720x360 with 2 Axes>"
      ]
     },
     "metadata": {
      "needs_background": "light"
     },
     "output_type": "display_data"
    }
   ],
   "source": [
    "history2 = model2.fit_generator(train_generator2, validation_data = validation_generator2, epochs=60, verbose=1)\n",
    "plot_learning_curve(history2.history['loss'], history2.history['val_loss'], \n",
    "                    history2.history['categorical_accuracy'], history2.history['val_categorical_accuracy'], \n",
    "                    metric_name='Accuracy')"
   ]
  },
  {
   "cell_type": "code",
   "execution_count": 64,
   "metadata": {},
   "outputs": [
    {
     "name": "stdout",
     "output_type": "stream",
     "text": [
      "740/740 [==============================] - 1s 1ms/step - loss: 2.1981 - categorical_accuracy: 0.6122\n"
     ]
    },
    {
     "data": {
      "text/plain": [
       "[2.198096727036141, 0.6121622]"
      ]
     },
     "execution_count": 64,
     "metadata": {},
     "output_type": "execute_result"
    }
   ],
   "source": [
    "model2.evaluate(test_generator2)"
   ]
  },
  {
   "cell_type": "markdown",
   "metadata": {},
   "source": [
    "## It can be observed above, our accuracy is still very low and the loss is very high, this is not an acceptable outcome as it will not be able to classify the image properly"
   ]
  },
  {
   "cell_type": "markdown",
   "metadata": {},
   "source": [
    "## Below i have decided to use something called early stopping to prevent overtraining and avoid the model from fitting. "
   ]
  },
  {
   "cell_type": "code",
   "execution_count": 65,
   "metadata": {},
   "outputs": [],
   "source": [
    "from tensorflow.keras.callbacks import EarlyStopping\n",
    "es = EarlyStopping(min_delta=0.001, monitor='val_loss', mode='min', verbose=1, patience=20, restore_best_weights=True,)"
   ]
  },
  {
   "cell_type": "markdown",
   "metadata": {},
   "source": [
    "## I also change and added more layers to help get more accuracy. As I am adding more layers, this doesn't mean that this will increase the accuracy of the model as it might overfit the model. Therefore using Early stopping might stop the model from over fitting"
   ]
  },
  {
   "cell_type": "code",
   "execution_count": 66,
   "metadata": {},
   "outputs": [],
   "source": [
    "model2EarlyStop = tf.keras.Sequential([\n",
    "    \n",
    "    tf.keras.layers.Conv2D(16, (3, 3), activation='relu', padding='same', input_shape=INPUT_DIM2),\n",
    "    tf.keras.layers.Conv2D(16, (3, 3), activation='relu', padding='same'),\n",
    "    tf.keras.layers.MaxPooling2D((2, 2)),\n",
    "    \n",
    "    tf.keras.layers.Conv2D(32, (3, 3), activation='relu', padding='same'),\n",
    "    tf.keras.layers.Conv2D(32, (3, 3), activation='relu', padding='same'),\n",
    "    tf.keras.layers.MaxPooling2D((2, 2)),\n",
    "    \n",
    "    \n",
    "    tf.keras.layers.Conv2D(64, (3, 3), activation='relu', padding='same'),\n",
    "    tf.keras.layers.Conv2D(64, (3, 3), activation='relu', padding='same'),\n",
    "    tf.keras.layers.MaxPooling2D((2, 2)),\n",
    "    \n",
    "    \n",
    "    tf.keras.layers.Conv2D(128, (3, 3), activation='relu', padding='same'),\n",
    "    tf.keras.layers.Conv2D(128, (3, 3), activation='relu', padding='same'),\n",
    "    tf.keras.layers.MaxPooling2D((2, 2)),\n",
    "    \n",
    "    tf.keras.layers.Flatten(),\n",
    "    tf.keras.layers.Dense(128, activation='relu'),\n",
    "    tf.keras.layers.Dense(OUTPUT_CLASSES2),\n",
    "])\n",
    "model2EarlyStop.compile(optimizer='SGD',\n",
    "              loss=tf.keras.losses.CategoricalCrossentropy(from_logits=True),\n",
    "              metrics=['categorical_accuracy'])"
   ]
  },
  {
   "cell_type": "code",
   "execution_count": 67,
   "metadata": {
    "scrolled": false
   },
   "outputs": [
    {
     "name": "stdout",
     "output_type": "stream",
     "text": [
      "Epoch 1/50\n",
      "70/70 - 4s - loss: 2.7385 - categorical_accuracy: 0.1915 - val_loss: 2.7049 - val_categorical_accuracy: 0.1784\n",
      "Epoch 2/50\n",
      "70/70 - 4s - loss: 2.6231 - categorical_accuracy: 0.1942 - val_loss: 2.5841 - val_categorical_accuracy: 0.1784\n",
      "Epoch 3/50\n",
      "70/70 - 4s - loss: 2.5225 - categorical_accuracy: 0.1983 - val_loss: 2.4805 - val_categorical_accuracy: 0.2189\n",
      "Epoch 4/50\n",
      "70/70 - 4s - loss: 2.3447 - categorical_accuracy: 0.2839 - val_loss: 2.2376 - val_categorical_accuracy: 0.3000\n",
      "Epoch 5/50\n",
      "70/70 - 4s - loss: 1.9385 - categorical_accuracy: 0.3997 - val_loss: 1.6922 - val_categorical_accuracy: 0.5027\n",
      "Epoch 6/50\n",
      "70/70 - 4s - loss: 1.6186 - categorical_accuracy: 0.4939 - val_loss: 1.3919 - val_categorical_accuracy: 0.6095\n",
      "Epoch 7/50\n",
      "70/70 - 4s - loss: 1.3303 - categorical_accuracy: 0.6061 - val_loss: 1.1287 - val_categorical_accuracy: 0.7014\n",
      "Epoch 8/50\n",
      "70/70 - 4s - loss: 1.0247 - categorical_accuracy: 0.6913 - val_loss: 0.9949 - val_categorical_accuracy: 0.6892\n",
      "Epoch 9/50\n",
      "70/70 - 4s - loss: 0.8479 - categorical_accuracy: 0.7485 - val_loss: 0.8156 - val_categorical_accuracy: 0.7608\n",
      "Epoch 10/50\n",
      "70/70 - 4s - loss: 0.6955 - categorical_accuracy: 0.7846 - val_loss: 0.7380 - val_categorical_accuracy: 0.7811\n",
      "Epoch 11/50\n",
      "70/70 - 4s - loss: 0.5715 - categorical_accuracy: 0.8256 - val_loss: 0.5896 - val_categorical_accuracy: 0.8324\n",
      "Epoch 12/50\n",
      "70/70 - 4s - loss: 0.4839 - categorical_accuracy: 0.8558 - val_loss: 0.4169 - val_categorical_accuracy: 0.8770\n",
      "Epoch 13/50\n",
      "70/70 - 4s - loss: 0.4094 - categorical_accuracy: 0.8747 - val_loss: 0.4937 - val_categorical_accuracy: 0.8473\n",
      "Epoch 14/50\n",
      "70/70 - 4s - loss: 0.3111 - categorical_accuracy: 0.9036 - val_loss: 0.6076 - val_categorical_accuracy: 0.8162\n",
      "Epoch 15/50\n",
      "70/70 - 4s - loss: 0.2707 - categorical_accuracy: 0.9157 - val_loss: 0.3780 - val_categorical_accuracy: 0.8919\n",
      "Epoch 16/50\n",
      "70/70 - 4s - loss: 0.2130 - categorical_accuracy: 0.9365 - val_loss: 1.0001 - val_categorical_accuracy: 0.7905\n",
      "Epoch 17/50\n",
      "70/70 - 4s - loss: 0.1794 - categorical_accuracy: 0.9477 - val_loss: 0.4482 - val_categorical_accuracy: 0.8743\n",
      "Epoch 18/50\n",
      "70/70 - 4s - loss: 0.1138 - categorical_accuracy: 0.9685 - val_loss: 0.3751 - val_categorical_accuracy: 0.8932\n",
      "Epoch 19/50\n",
      "70/70 - 4s - loss: 0.0718 - categorical_accuracy: 0.9815 - val_loss: 0.5362 - val_categorical_accuracy: 0.8905\n",
      "Epoch 20/50\n",
      "70/70 - 4s - loss: 0.1120 - categorical_accuracy: 0.9712 - val_loss: 0.2522 - val_categorical_accuracy: 0.9378\n",
      "Epoch 21/50\n",
      "70/70 - 4s - loss: 0.0648 - categorical_accuracy: 0.9865 - val_loss: 0.3415 - val_categorical_accuracy: 0.9122\n",
      "Epoch 22/50\n",
      "70/70 - 4s - loss: 0.1604 - categorical_accuracy: 0.9617 - val_loss: 0.3126 - val_categorical_accuracy: 0.9122\n",
      "Epoch 23/50\n",
      "70/70 - 4s - loss: 0.0394 - categorical_accuracy: 0.9937 - val_loss: 0.2308 - val_categorical_accuracy: 0.9459\n",
      "Epoch 24/50\n",
      "70/70 - 4s - loss: 0.0111 - categorical_accuracy: 0.9991 - val_loss: 0.2418 - val_categorical_accuracy: 0.9527\n",
      "Epoch 25/50\n",
      "70/70 - 4s - loss: 0.0053 - categorical_accuracy: 1.0000 - val_loss: 0.2498 - val_categorical_accuracy: 0.9541\n",
      "Epoch 26/50\n",
      "70/70 - 4s - loss: 0.0035 - categorical_accuracy: 1.0000 - val_loss: 0.2622 - val_categorical_accuracy: 0.9581\n",
      "Epoch 27/50\n",
      "70/70 - 4s - loss: 0.0024 - categorical_accuracy: 1.0000 - val_loss: 0.2817 - val_categorical_accuracy: 0.9568\n",
      "Epoch 28/50\n",
      "70/70 - 4s - loss: 0.0019 - categorical_accuracy: 1.0000 - val_loss: 0.2770 - val_categorical_accuracy: 0.9568\n",
      "Epoch 29/50\n",
      "70/70 - 4s - loss: 0.0016 - categorical_accuracy: 1.0000 - val_loss: 0.2934 - val_categorical_accuracy: 0.9554\n",
      "Epoch 30/50\n",
      "70/70 - 4s - loss: 0.0013 - categorical_accuracy: 1.0000 - val_loss: 0.3003 - val_categorical_accuracy: 0.9581\n",
      "Epoch 31/50\n",
      "70/70 - 4s - loss: 0.0012 - categorical_accuracy: 1.0000 - val_loss: 0.3043 - val_categorical_accuracy: 0.9568\n",
      "Epoch 32/50\n",
      "70/70 - 4s - loss: 0.0010 - categorical_accuracy: 1.0000 - val_loss: 0.3121 - val_categorical_accuracy: 0.9581\n",
      "Epoch 33/50\n",
      "70/70 - 4s - loss: 9.0607e-04 - categorical_accuracy: 1.0000 - val_loss: 0.3180 - val_categorical_accuracy: 0.9554\n",
      "Epoch 34/50\n",
      "70/70 - 4s - loss: 8.2486e-04 - categorical_accuracy: 1.0000 - val_loss: 0.3179 - val_categorical_accuracy: 0.9554\n",
      "Epoch 35/50\n",
      "70/70 - 4s - loss: 7.5658e-04 - categorical_accuracy: 1.0000 - val_loss: 0.3234 - val_categorical_accuracy: 0.9581\n",
      "Epoch 36/50\n",
      "70/70 - 4s - loss: 6.8943e-04 - categorical_accuracy: 1.0000 - val_loss: 0.3283 - val_categorical_accuracy: 0.9554\n",
      "Epoch 37/50\n",
      "70/70 - 4s - loss: 6.7432e-04 - categorical_accuracy: 1.0000 - val_loss: 0.3356 - val_categorical_accuracy: 0.9581\n",
      "Epoch 38/50\n",
      "70/70 - 4s - loss: 5.9114e-04 - categorical_accuracy: 1.0000 - val_loss: 0.3331 - val_categorical_accuracy: 0.9568\n",
      "Epoch 39/50\n",
      "70/70 - 4s - loss: 5.5560e-04 - categorical_accuracy: 1.0000 - val_loss: 0.3377 - val_categorical_accuracy: 0.9568\n",
      "Epoch 40/50\n",
      "70/70 - 4s - loss: 5.0854e-04 - categorical_accuracy: 1.0000 - val_loss: 0.3381 - val_categorical_accuracy: 0.9581\n",
      "Epoch 41/50\n",
      "70/70 - 4s - loss: 4.7873e-04 - categorical_accuracy: 1.0000 - val_loss: 0.3413 - val_categorical_accuracy: 0.9554\n",
      "Epoch 42/50\n",
      "70/70 - 4s - loss: 4.5356e-04 - categorical_accuracy: 1.0000 - val_loss: 0.3449 - val_categorical_accuracy: 0.9554\n",
      "Epoch 43/50\n",
      "Restoring model weights from the end of the best epoch.\n",
      "70/70 - 4s - loss: 4.2555e-04 - categorical_accuracy: 1.0000 - val_loss: 0.3480 - val_categorical_accuracy: 0.9581\n",
      "Epoch 00043: early stopping\n"
     ]
    },
    {
     "data": {
      "image/png": "[encoded data removed]",
      "text/plain": [
       "<Figure size 720x360 with 2 Axes>"
      ]
     },
     "metadata": {
      "needs_background": "light"
     },
     "output_type": "display_data"
    }
   ],
   "source": [
    "history2EarlyStop = model2EarlyStop.fit_generator(train_generator2, validation_data = validation_generator2, epochs=50, callbacks=[es], verbose=2)\n",
    "plot_learning_curve(history2EarlyStop.history['loss'], history2EarlyStop.history['val_loss'], \n",
    "                    history2EarlyStop.history['categorical_accuracy'], history2EarlyStop.history['val_categorical_accuracy'], \n",
    "                    metric_name='Accuracy')"
   ]
  },
  {
   "cell_type": "code",
   "execution_count": 68,
   "metadata": {},
   "outputs": [
    {
     "name": "stdout",
     "output_type": "stream",
     "text": [
      "740/740 [==============================] - 2s 3ms/step - loss: 0.2851 - categorical_accuracy: 0.9297\n"
     ]
    },
    {
     "data": {
      "text/plain": [
       "[0.28511218709562974, 0.9297297]"
      ]
     },
     "execution_count": 68,
     "metadata": {},
     "output_type": "execute_result"
    }
   ],
   "source": [
    "model2EarlyStop.evaluate(test_generator2)"
   ]
  },
  {
   "cell_type": "code",
   "execution_count": 69,
   "metadata": {},
   "outputs": [],
   "source": [
    "label_names = {'bicycle': 0,\n",
    " 'continue': 1,\n",
    " 'crossing': 2,\n",
    " 'giveway': 3,\n",
    " 'laneend': 4,\n",
    " 'limitedtraffic': 5,\n",
    " 'noentry': 6,\n",
    " 'noparking': 7,\n",
    " 'parking': 8,\n",
    " 'rightofway': 9,\n",
    " 'roundabout': 10,\n",
    " 'speed': 11,\n",
    " 'stop': 12,\n",
    " 'trafficdirective': 13,\n",
    " 'traveldirection': 14,\n",
    " 'warning': 15}"
   ]
  },
  {
   "cell_type": "markdown",
   "metadata": {},
   "source": [
    "## Now with our trained model, we have created a model that is able to classify sign types as show below."
   ]
  },
  {
   "cell_type": "code",
   "execution_count": 70,
   "metadata": {
    "scrolled": true
   },
   "outputs": [
    {
     "data": {
      "image/png": "[encoded data removed]",
      "text/plain": [
       "<Figure size 1152x288 with 3 Axes>"
      ]
     },
     "metadata": {
      "needs_background": "light"
     },
     "output_type": "display_data"
    }
   ],
   "source": [
    "d_inv2 = {v: k for k, v in label_names.items()}\n",
    "plt.figure(figsize=(16,4))\n",
    "batches = 0\n",
    "for x,y in test_generator2:\n",
    "        batches = batches + 1\n",
    "        y_hat = model2EarlyStop.predict(x, verbose=0)\n",
    "        x = np.squeeze(x)\n",
    "        if batches < 4:\n",
    "            plt.subplot(1,4,batches)\n",
    "            plt.imshow(x)\n",
    "            plt.title(\"GT-{}, Pred-{}\".format(d_inv2[np.argmax(y[0])], d_inv2[np.argmax(y_hat[0])] ))\n",
    "            \n",
    "        else:\n",
    "            break\n",
    "        \n",
    "        plt.axis('off')"
   ]
  },
  {
   "cell_type": "markdown",
   "metadata": {},
   "source": [
    "## We now completed, creating our models and it is time to choose which model is best suited to classify image sign and type"
   ]
  },
  {
   "cell_type": "markdown",
   "metadata": {},
   "source": [
    "## 1. Model A (Shape Classification)"
   ]
  },
  {
   "cell_type": "code",
   "execution_count": 71,
   "metadata": {
    "scrolled": true
   },
   "outputs": [
    {
     "name": "stdout",
     "output_type": "stream",
     "text": [
      "model (sign shape) Accuracy score:  0.8959459459459459\n",
      "model (sign shape) F1 score:  0.7113450213708737\n",
      "[[ 52   0  15   0   5]\n",
      " [  0   0  11   0   0]\n",
      " [  0   0 319   4  11]\n",
      " [  0   0   8 138   4]\n",
      " [  1   0  11   7 154]]\n"
     ]
    }
   ],
   "source": [
    "y_hat_all = list()\n",
    "y_all = list()\n",
    "filenames = test_generator.filenames\n",
    "N_images = len(filenames)\n",
    "batches = 0\n",
    "for x,y in test_generator:\n",
    "        y_hat = model.predict(x, verbose=0)\n",
    "        y_hat = np.argmax(y_hat, axis = 1)\n",
    "        y = np.argmax(y, axis = 1)\n",
    "        y_hat_all = y_hat_all + y_hat.tolist()\n",
    "        y_all = y_all + y.tolist()\n",
    "        batches += 1\n",
    "        if batches >= N_images:\n",
    "            break\n",
    "print(\"model (sign shape) Accuracy score: \", accuracy_score(y_all, y_hat_all))\n",
    "print(\"model (sign shape) F1 score: \", f1_score(y_all, y_hat_all, average='macro'))\n",
    "print(confusion_matrix(y_all, y_hat_all))"
   ]
  },
  {
   "cell_type": "markdown",
   "metadata": {},
   "source": [
    "## 2. Model B (Shape Classification)"
   ]
  },
  {
   "cell_type": "code",
   "execution_count": 72,
   "metadata": {
    "scrolled": false
   },
   "outputs": [
    {
     "name": "stdout",
     "output_type": "stream",
     "text": [
      "modelEarlyStop (sign shape) Accuracy score:  0.9621621621621622\n",
      "modelEarlyStop (sign shape) F1 score:  0.9231770935219659\n",
      "[[ 59   0   6   0   4]\n",
      " [  0  12   6   0   0]\n",
      " [  3   0 334   1   3]\n",
      " [  0   0   1 129   0]\n",
      " [  1   0   0   3 178]]\n"
     ]
    }
   ],
   "source": [
    "y_hat_all = list()\n",
    "y_all = list()\n",
    "filenames = test_generator.filenames\n",
    "N_images = len(filenames)\n",
    "batches = 0\n",
    "for x,y in test_generator:\n",
    "        y_hat = modelEarlyStop.predict(x, verbose=0)\n",
    "        y_hat = np.argmax(y_hat, axis = 1)\n",
    "        y = np.argmax(y, axis = 1)\n",
    "        y_hat_all = y_hat_all + y_hat.tolist()\n",
    "        y_all = y_all + y.tolist()\n",
    "        batches += 1\n",
    "        if batches >= N_images:\n",
    "            break\n",
    "print(\"modelEarlyStop (sign shape) Accuracy score: \", accuracy_score(y_all, y_hat_all))\n",
    "print(\"modelEarlyStop (sign shape) F1 score: \", f1_score(y_all, y_hat_all, average='macro'))\n",
    "print(confusion_matrix(y_all, y_hat_all))"
   ]
  },
  {
   "cell_type": "markdown",
   "metadata": {},
   "source": [
    "## 1. Model C (Sign-Type Classification)"
   ]
  },
  {
   "cell_type": "code",
   "execution_count": 73,
   "metadata": {
    "scrolled": true
   },
   "outputs": [
    {
     "name": "stdout",
     "output_type": "stream",
     "text": [
      "model2 (sign type) Accuracy score):  0.6148648648648649\n",
      "model2 (sign type) F1 score:  0.42979809465982344\n",
      "[[ 56   0   0   0   0   0   1   1   0   0   0   0   0   0   0   7]\n",
      " [  1  43   0   0   0   0   0   0   1   0   0   0   0   0   0   1]\n",
      " [  0   0   0   0   0   0   0   0   0   0   0   0   0   0   0  23]\n",
      " [  1   0   0  25   0   0   0   1  11   0   0   0   0   0   0   7]\n",
      " [  4   0   0   0  10   0   0   0   0   0   0   0   0   0   0   3]\n",
      " [  0   0   0   0   0   0   0   0   1   1   0   0   0   0   0  16]\n",
      " [  0   0   0   0   0   0  71   2   1   2   0   0   0   0   0   0]\n",
      " [  5   0   0   0   0   0   0  34   0   1   0   0   0   0   0   8]\n",
      " [  0   0   0   0   0   0   0   0  45   0   0   0   0   0   0   8]\n",
      " [  1   0   0   0   0   0   0   7   0  38   0   0   0   0   0  24]\n",
      " [  0   0   0   0   0   0   0   6   0   5   0   0   0   0   0   5]\n",
      " [  0   0   0   0   0   0   0   0   0   0   0   3   0   0   0  54]\n",
      " [  5   0   0   0   0   0   0   1   0   0   0   0   0   0   0   8]\n",
      " [  0   0   0   0   0   0   0   0   0   0   0   0   0   1   0  36]\n",
      " [  1   2   0   5   0   0   6   0   1   0   0   0   0   0   0   6]\n",
      " [  0   0   0   0   0   0   0   3   1   1   0   0   0   0   0 129]]\n"
     ]
    }
   ],
   "source": [
    "y_hat_all = list()\n",
    "y_all = list()\n",
    "filenames = test_generator2.filenames\n",
    "N_images = len(filenames)\n",
    "batches = 0\n",
    "for x,y in test_generator2:\n",
    "        y_hat = model2.predict(x, verbose=0)\n",
    "        y_hat = np.argmax(y_hat, axis = 1)\n",
    "        y = np.argmax(y, axis = 1)\n",
    "        y_hat_all = y_hat_all + y_hat.tolist()\n",
    "        y_all = y_all + y.tolist()\n",
    "        batches += 1\n",
    "        if batches >= N_images:\n",
    "            break\n",
    "print(\"model2 (sign type) Accuracy score): \", accuracy_score(y_all, y_hat_all))\n",
    "print(\"model2 (sign type) F1 score: \", f1_score(y_all, y_hat_all, average='macro'))\n",
    "print(confusion_matrix(y_all, y_hat_all))"
   ]
  },
  {
   "cell_type": "markdown",
   "metadata": {},
   "source": [
    "## 2. Model B (Sign-Type Classification)"
   ]
  },
  {
   "cell_type": "code",
   "execution_count": 74,
   "metadata": {},
   "outputs": [
    {
     "name": "stdout",
     "output_type": "stream",
     "text": [
      "model2EarlyStop (sign type) Accuracy score:  0.9283783783783783\n",
      "model2EarlyStop (sign type) F1 score:  0.9025022862714926\n",
      "[[ 65   0   0   0   0   0   0   0   0   0   0   0   0   0   0   0]\n",
      " [  1  46   0   0   0   0   0   0   0   0   0   0   0   0   0   0]\n",
      " [  0   0  22   0   0   0   0   0   0   0   0   1   0   0   0   0]\n",
      " [  0   0   0  45   0   0   0   0   1   0   1   0   0   0   0   0]\n",
      " [  1   0   0   0  15   0   0   1   0   0   0   0   0   0   0   0]\n",
      " [  0   0   0   0   0  15   0   0   0   0   0   0   0   1   0   2]\n",
      " [  1   0   0   0   1   0  71   0   0   0   3   0   0   0   1   0]\n",
      " [  2   0   0   0   0   3   0  40   0   0   0   1   1   0   0   1]\n",
      " [  0   0   0   1   0   0   0   0  50   0   0   0   0   0   0   0]\n",
      " [  0   0   0   0   0   0   1   1   0  61   2   0   0   1   0   2]\n",
      " [  0   0   0   0   0   0   0   1   0   1  14   0   0   0   0   0]\n",
      " [  0   0   0   0   0   2   0   1   0   0   0  54   0   2   0   0]\n",
      " [  3   0   0   0   0   0   1   0   0   0   0   0   9   0   0   1]\n",
      " [  0   0   0   0   0   1   0   0   0   0   0   1   0  36   0   0]\n",
      " [  0   0   0   1   0   0   1   0   0   0   0   0   0   0  19   0]\n",
      " [  0   0   1   0   0   1   0   1   1   1   0   0   1   0   0 125]]\n"
     ]
    }
   ],
   "source": [
    "y_hat_all = list()\n",
    "y_all = list()\n",
    "filenames = test_generator2.filenames\n",
    "N_images = len(filenames)\n",
    "batches = 0\n",
    "for x,y in test_generator2:\n",
    "        y_hat = model2EarlyStop.predict(x, verbose=0)\n",
    "        y_hat = np.argmax(y_hat, axis = 1)\n",
    "        y = np.argmax(y, axis = 1)\n",
    "        y_hat_all = y_hat_all + y_hat.tolist()\n",
    "        y_all = y_all + y.tolist()\n",
    "        batches += 1\n",
    "        if batches >= N_images:\n",
    "            break\n",
    "print(\"model2EarlyStop (sign type) Accuracy score: \", accuracy_score(y_all, y_hat_all))\n",
    "print(\"model2EarlyStop (sign type) F1 score: \", f1_score(y_all, y_hat_all, average='macro'))\n",
    "print(confusion_matrix(y_all, y_hat_all))"
   ]
  },
  {
   "cell_type": "markdown",
   "metadata": {},
   "source": [
    "## In conclusion, it can be concluded that for shape classifcation, although Model A produce high accuracy, Model B is the better choice as it produce and accuracy of 98%\n",
    "\n",
    "## Where as for Sign-Type classifcation, Model B (Sign-Type Classification) is the better choice than Model C as it produce only produce , whereas Model B (Sign-Type Classification) produce  accuracy."
   ]
  },
  {
   "cell_type": "markdown",
   "metadata": {},
   "source": [
    "## Finally we will now save the models:"
   ]
  },
  {
   "cell_type": "code",
   "execution_count": 75,
   "metadata": {},
   "outputs": [],
   "source": [
    "modelEarlyStop.save(\"Best_Model_B_Classify_Sign_Shape\")"
   ]
  },
  {
   "cell_type": "code",
   "execution_count": 76,
   "metadata": {},
   "outputs": [],
   "source": [
    "model2EarlyStop.save(\"Best_Model_B_Classify_Sign_Type\")"
   ]
  }
 ],
 "metadata": {
  "kernelspec": {
   "display_name": "Python 3",
   "language": "python",
   "name": "python3"
  },
  "language_info": {
   "codemirror_mode": {
    "name": "ipython",
    "version": 3
   },
   "file_extension": ".py",
   "mimetype": "text/x-python",
   "name": "python",
   "nbconvert_exporter": "python",
   "pygments_lexer": "ipython3",
   "version": "3.7.6"
  }
 },
 "nbformat": 4,
 "nbformat_minor": 4
}
