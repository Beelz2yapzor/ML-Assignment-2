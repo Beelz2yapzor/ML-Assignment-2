{
 "cells": [
  {
   "cell_type": "code",
   "execution_count": 1,
   "metadata": {
    "scrolled": true
   },
   "outputs": [
    {
     "name": "stderr",
     "output_type": "stream",
     "text": [
      "D:\\Anaconda\\lib\\site-packages\\tensorflow\\python\\framework\\dtypes.py:516: FutureWarning: Passing (type, 1) or '1type' as a synonym of type is deprecated; in a future version of numpy, it will be understood as (type, (1,)) / '(1,)type'.\n",
      "  _np_qint8 = np.dtype([(\"qint8\", np.int8, 1)])\n",
      "D:\\Anaconda\\lib\\site-packages\\tensorflow\\python\\framework\\dtypes.py:517: FutureWarning: Passing (type, 1) or '1type' as a synonym of type is deprecated; in a future version of numpy, it will be understood as (type, (1,)) / '(1,)type'.\n",
      "  _np_quint8 = np.dtype([(\"quint8\", np.uint8, 1)])\n",
      "D:\\Anaconda\\lib\\site-packages\\tensorflow\\python\\framework\\dtypes.py:518: FutureWarning: Passing (type, 1) or '1type' as a synonym of type is deprecated; in a future version of numpy, it will be understood as (type, (1,)) / '(1,)type'.\n",
      "  _np_qint16 = np.dtype([(\"qint16\", np.int16, 1)])\n",
      "D:\\Anaconda\\lib\\site-packages\\tensorflow\\python\\framework\\dtypes.py:519: FutureWarning: Passing (type, 1) or '1type' as a synonym of type is deprecated; in a future version of numpy, it will be understood as (type, (1,)) / '(1,)type'.\n",
      "  _np_quint16 = np.dtype([(\"quint16\", np.uint16, 1)])\n",
      "D:\\Anaconda\\lib\\site-packages\\tensorflow\\python\\framework\\dtypes.py:520: FutureWarning: Passing (type, 1) or '1type' as a synonym of type is deprecated; in a future version of numpy, it will be understood as (type, (1,)) / '(1,)type'.\n",
      "  _np_qint32 = np.dtype([(\"qint32\", np.int32, 1)])\n",
      "D:\\Anaconda\\lib\\site-packages\\tensorflow\\python\\framework\\dtypes.py:525: FutureWarning: Passing (type, 1) or '1type' as a synonym of type is deprecated; in a future version of numpy, it will be understood as (type, (1,)) / '(1,)type'.\n",
      "  np_resource = np.dtype([(\"resource\", np.ubyte, 1)])\n",
      "D:\\Anaconda\\lib\\site-packages\\tensorboard\\compat\\tensorflow_stub\\dtypes.py:541: FutureWarning: Passing (type, 1) or '1type' as a synonym of type is deprecated; in a future version of numpy, it will be understood as (type, (1,)) / '(1,)type'.\n",
      "  _np_qint8 = np.dtype([(\"qint8\", np.int8, 1)])\n",
      "D:\\Anaconda\\lib\\site-packages\\tensorboard\\compat\\tensorflow_stub\\dtypes.py:542: FutureWarning: Passing (type, 1) or '1type' as a synonym of type is deprecated; in a future version of numpy, it will be understood as (type, (1,)) / '(1,)type'.\n",
      "  _np_quint8 = np.dtype([(\"quint8\", np.uint8, 1)])\n",
      "D:\\Anaconda\\lib\\site-packages\\tensorboard\\compat\\tensorflow_stub\\dtypes.py:543: FutureWarning: Passing (type, 1) or '1type' as a synonym of type is deprecated; in a future version of numpy, it will be understood as (type, (1,)) / '(1,)type'.\n",
      "  _np_qint16 = np.dtype([(\"qint16\", np.int16, 1)])\n",
      "D:\\Anaconda\\lib\\site-packages\\tensorboard\\compat\\tensorflow_stub\\dtypes.py:544: FutureWarning: Passing (type, 1) or '1type' as a synonym of type is deprecated; in a future version of numpy, it will be understood as (type, (1,)) / '(1,)type'.\n",
      "  _np_quint16 = np.dtype([(\"quint16\", np.uint16, 1)])\n",
      "D:\\Anaconda\\lib\\site-packages\\tensorboard\\compat\\tensorflow_stub\\dtypes.py:545: FutureWarning: Passing (type, 1) or '1type' as a synonym of type is deprecated; in a future version of numpy, it will be understood as (type, (1,)) / '(1,)type'.\n",
      "  _np_qint32 = np.dtype([(\"qint32\", np.int32, 1)])\n",
      "D:\\Anaconda\\lib\\site-packages\\tensorboard\\compat\\tensorflow_stub\\dtypes.py:550: FutureWarning: Passing (type, 1) or '1type' as a synonym of type is deprecated; in a future version of numpy, it will be understood as (type, (1,)) / '(1,)type'.\n",
      "  np_resource = np.dtype([(\"resource\", np.ubyte, 1)])\n"
     ]
    }
   ],
   "source": [
    "import pandas as pd\n",
    "import cv2\n",
    "import os\n",
    "import matplotlib.pyplot as plt\n",
    "import numpy as np\n",
    "import seaborn as sns\n",
    "from sklearn.preprocessing import MinMaxScaler, PowerTransformer\n",
    "from sklearn.model_selection import train_test_split, cross_validate, cross_val_score, RepeatedStratifiedKFold\n",
    "from sklearn.ensemble import RandomForestClassifier  \n",
    "from sklearn.metrics import classification_report, accuracy_score, plot_confusion_matrix, make_scorer, f1_score, confusion_matrix\n",
    "from sklearn.datasets import make_classification\n",
    "import cv2 as cv\n",
    "from matplotlib import pyplot as plt\n",
    "from skimage.io import imread, imshow\n",
    "from skimage.feature import hog\n",
    "from skimage import data, exposure\n",
    "import tensorflow as tf\n",
    "from tensorflow.keras.preprocessing.image import ImageDataGenerator\n",
    "from tensorflow import keras\n",
    "from tensorflow.keras.preprocessing import image\n",
    "\n",
    "import numpy as np\n",
    "from sklearn.model_selection import train_test_split\n",
    "import pandas as pd\n",
    "\n",
    "from tensorflow.keras.preprocessing.image import ImageDataGenerator"
   ]
  },
  {
   "cell_type": "markdown",
   "metadata": {},
   "source": [
    "## Firstly, we realised there was no CSV file given to help load the images therefore we decided to create our own one to load the road signs. Based on week 9 tutorial there is a csv to that has directory for each image"
   ]
  },
  {
   "cell_type": "markdown",
   "metadata": {},
   "source": [
    "## This is so that we can train our machine to read all the road sign images"
   ]
  },
  {
   "cell_type": "code",
   "execution_count": 2,
   "metadata": {},
   "outputs": [],
   "source": [
    "def load_images_from_folder(folder):\n",
    "    images = []\n",
    "    for filename in os.listdir(folder):\n",
    "        img = cv2.imread(os.path.join(folder,filename))\n",
    "        if img is not None:\n",
    "            images.append(img)\n",
    "    return images"
   ]
  },
  {
   "cell_type": "markdown",
   "metadata": {},
   "source": [
    "##  Glob module is used to retrieve files/pathnames matching a specified pattern. This is to create two csv classes, one for sign shape and the other for sign types. "
   ]
  },
  {
   "cell_type": "code",
   "execution_count": 3,
   "metadata": {},
   "outputs": [],
   "source": [
    "import glob\n",
    "images = []\n",
    "classes = []\n",
    "classes.extend([file.split(\"\\\\\")[1] for file in glob.glob('trafficsigns_dataset/*/*/*.png')])\n",
    "images.extend([(file) for file in glob.glob('trafficsigns_dataset/*/*/*.png')])"
   ]
  },
  {
   "cell_type": "markdown",
   "metadata": {},
   "source": [
    "## To print it out to csv"
   ]
  },
  {
   "cell_type": "code",
   "execution_count": 4,
   "metadata": {},
   "outputs": [],
   "source": [
    "## to print out csv\n",
    "dict = {'image_path': images, 'class': classes} \n",
    "predict_df = pd.DataFrame(dict)\n",
    "predict_df.to_csv('signboardimage1.csv', index=False)"
   ]
  },
  {
   "cell_type": "markdown",
   "metadata": {},
   "source": [
    "## Now, we need to load the data from csv file:"
   ]
  },
  {
   "cell_type": "markdown",
   "metadata": {},
   "source": [
    "## This csv contains class to classify the sign board shapes, Therefore we will start to develop a model that can classify shapes."
   ]
  },
  {
   "cell_type": "code",
   "execution_count": 5,
   "metadata": {},
   "outputs": [
    {
     "data": {
      "text/html": [
       "<div>\n",
       "<style scoped>\n",
       "    .dataframe tbody tr th:only-of-type {\n",
       "        vertical-align: middle;\n",
       "    }\n",
       "\n",
       "    .dataframe tbody tr th {\n",
       "        vertical-align: top;\n",
       "    }\n",
       "\n",
       "    .dataframe thead th {\n",
       "        text-align: right;\n",
       "    }\n",
       "</style>\n",
       "<table border=\"1\" class=\"dataframe\">\n",
       "  <thead>\n",
       "    <tr style=\"text-align: right;\">\n",
       "      <th></th>\n",
       "      <th>image_path</th>\n",
       "      <th>class</th>\n",
       "    </tr>\n",
       "  </thead>\n",
       "  <tbody>\n",
       "    <tr>\n",
       "      <th>0</th>\n",
       "      <td>trafficsigns_dataset\\diamond\\rightofway\\00032_...</td>\n",
       "      <td>diamond</td>\n",
       "    </tr>\n",
       "    <tr>\n",
       "      <th>1</th>\n",
       "      <td>trafficsigns_dataset\\diamond\\rightofway\\00032_...</td>\n",
       "      <td>diamond</td>\n",
       "    </tr>\n",
       "    <tr>\n",
       "      <th>2</th>\n",
       "      <td>trafficsigns_dataset\\diamond\\rightofway\\00032_...</td>\n",
       "      <td>diamond</td>\n",
       "    </tr>\n",
       "    <tr>\n",
       "      <th>3</th>\n",
       "      <td>trafficsigns_dataset\\diamond\\rightofway\\00037_...</td>\n",
       "      <td>diamond</td>\n",
       "    </tr>\n",
       "    <tr>\n",
       "      <th>4</th>\n",
       "      <td>trafficsigns_dataset\\diamond\\rightofway\\00037_...</td>\n",
       "      <td>diamond</td>\n",
       "    </tr>\n",
       "    <tr>\n",
       "      <th>5</th>\n",
       "      <td>trafficsigns_dataset\\diamond\\rightofway\\00037_...</td>\n",
       "      <td>diamond</td>\n",
       "    </tr>\n",
       "    <tr>\n",
       "      <th>6</th>\n",
       "      <td>trafficsigns_dataset\\diamond\\rightofway\\00039_...</td>\n",
       "      <td>diamond</td>\n",
       "    </tr>\n",
       "    <tr>\n",
       "      <th>7</th>\n",
       "      <td>trafficsigns_dataset\\diamond\\rightofway\\00039_...</td>\n",
       "      <td>diamond</td>\n",
       "    </tr>\n",
       "    <tr>\n",
       "      <th>8</th>\n",
       "      <td>trafficsigns_dataset\\diamond\\rightofway\\00039_...</td>\n",
       "      <td>diamond</td>\n",
       "    </tr>\n",
       "    <tr>\n",
       "      <th>9</th>\n",
       "      <td>trafficsigns_dataset\\diamond\\rightofway\\00042_...</td>\n",
       "      <td>diamond</td>\n",
       "    </tr>\n",
       "  </tbody>\n",
       "</table>\n",
       "</div>"
      ],
      "text/plain": [
       "                                          image_path    class\n",
       "0  trafficsigns_dataset\\diamond\\rightofway\\00032_...  diamond\n",
       "1  trafficsigns_dataset\\diamond\\rightofway\\00032_...  diamond\n",
       "2  trafficsigns_dataset\\diamond\\rightofway\\00032_...  diamond\n",
       "3  trafficsigns_dataset\\diamond\\rightofway\\00037_...  diamond\n",
       "4  trafficsigns_dataset\\diamond\\rightofway\\00037_...  diamond\n",
       "5  trafficsigns_dataset\\diamond\\rightofway\\00037_...  diamond\n",
       "6  trafficsigns_dataset\\diamond\\rightofway\\00039_...  diamond\n",
       "7  trafficsigns_dataset\\diamond\\rightofway\\00039_...  diamond\n",
       "8  trafficsigns_dataset\\diamond\\rightofway\\00039_...  diamond\n",
       "9  trafficsigns_dataset\\diamond\\rightofway\\00042_...  diamond"
      ]
     },
     "execution_count": 5,
     "metadata": {},
     "output_type": "execute_result"
    }
   ],
   "source": [
    "data = pd.read_csv('./signboardimage1.csv')\n",
    "data.head(10)"
   ]
  },
  {
   "cell_type": "markdown",
   "metadata": {},
   "source": [
    "### Just checking for any empty data"
   ]
  },
  {
   "cell_type": "code",
   "execution_count": 6,
   "metadata": {},
   "outputs": [
    {
     "name": "stdout",
     "output_type": "stream",
     "text": [
      "image_path    0\n",
      "class         0\n",
      "dtype: int64\n"
     ]
    }
   ],
   "source": [
    "print(data.isna().sum())"
   ]
  },
  {
   "cell_type": "markdown",
   "metadata": {},
   "source": [
    "### If an empty or null data is present, we delete by using the following code below"
   ]
  },
  {
   "cell_type": "code",
   "execution_count": 7,
   "metadata": {},
   "outputs": [],
   "source": [
    "for col in data.columns:\n",
    "    data[col].replace('', np.nan, inplace=True)\n",
    "    data.dropna(subset = [col] , inplace=True)"
   ]
  },
  {
   "cell_type": "code",
   "execution_count": 8,
   "metadata": {},
   "outputs": [
    {
     "data": {
      "text/plain": [
       "(28, 28)"
      ]
     },
     "execution_count": 8,
     "metadata": {},
     "output_type": "execute_result"
    },
    {
     "data": {
      "image/png": "[encoded data removed]",
      "text/plain": [
       "<Figure size 432x288 with 1 Axes>"
      ]
     },
     "metadata": {
      "needs_background": "light"
     },
     "output_type": "display_data"
    }
   ],
   "source": [
    "img = imread(data['image_path'][0])\n",
    "imshow(img)\n",
    "img.shape"
   ]
  },
  {
   "cell_type": "markdown",
   "metadata": {},
   "source": [
    "## Now we will start developing our model"
   ]
  },
  {
   "cell_type": "markdown",
   "metadata": {},
   "source": [
    "## 1. Our goals for this project:"
   ]
  },
  {
   "cell_type": "markdown",
   "metadata": {},
   "source": [
    "### - Our goal is to develop a Convolutional Neural Network to be able to classify sign board shape and sign board type\n",
    "### - Develop a model that have at least 70% accuracy."
   ]
  },
  {
   "cell_type": "markdown",
   "metadata": {},
   "source": [
    "## 2. The start of our Baseline Model:"
   ]
  },
  {
   "cell_type": "markdown",
   "metadata": {},
   "source": [
    "### Firstly, we would need to split the data we have into train, test and validation sets."
   ]
  },
  {
   "cell_type": "code",
   "execution_count": 9,
   "metadata": {},
   "outputs": [
    {
     "name": "stdout",
     "output_type": "stream",
     "text": [
      "Train data : 2219, Val Data: 740, Test Data: 740\n"
     ]
    }
   ],
   "source": [
    "train_data, test_data = train_test_split(data, test_size=0.2, random_state=42)\n",
    "train_data, val_data = train_test_split(train_data, test_size=0.25, random_state=42)\n",
    "\n",
    "print(\"Train data : {}, Val Data: {}, Test Data: {}\".format(train_data.shape[0], val_data.shape[0], test_data.shape[0]))"
   ]
  },
  {
   "cell_type": "code",
   "execution_count": 10,
   "metadata": {},
   "outputs": [],
   "source": [
    "train_data['class'] = train_data['class'].astype('str')\n",
    "val_data['class'] = val_data['class'].astype('str')"
   ]
  },
  {
   "cell_type": "markdown",
   "metadata": {},
   "source": [
    "### Create a data generator for each split of sets."
   ]
  },
  {
   "cell_type": "code",
   "execution_count": 11,
   "metadata": {},
   "outputs": [
    {
     "name": "stdout",
     "output_type": "stream",
     "text": [
      "Found 2219 validated image filenames belonging to 5 classes.\n",
      "Found 740 validated image filenames belonging to 5 classes.\n"
     ]
    }
   ],
   "source": [
    "train_datagen = ImageDataGenerator(rescale=1./255, data_format='channels_last')\n",
    "val_datagen = ImageDataGenerator(rescale=1./255, data_format='channels_last')\n",
    "\n",
    "batch_size = 32\n",
    "\n",
    "train_generator = train_datagen.flow_from_dataframe(\n",
    "        dataframe=train_data,\n",
    "        directory='./',\n",
    "        x_col=\"image_path\",\n",
    "        y_col=\"class\",\n",
    "        target_size=(32, 32),\n",
    "        batch_size=batch_size,\n",
    "        class_mode='categorical')\n",
    "\n",
    "validation_generator = val_datagen.flow_from_dataframe(\n",
    "        dataframe=val_data,\n",
    "        directory='./',\n",
    "        x_col=\"image_path\",\n",
    "        y_col=\"class\",\n",
    "        target_size=(32, 32),\n",
    "        batch_size=batch_size,\n",
    "        class_mode='categorical')"
   ]
  },
  {
   "cell_type": "code",
   "execution_count": 12,
   "metadata": {},
   "outputs": [
    {
     "name": "stdout",
     "output_type": "stream",
     "text": [
      "Found 740 validated image filenames belonging to 5 classes.\n"
     ]
    },
    {
     "name": "stderr",
     "output_type": "stream",
     "text": [
      "D:\\Anaconda\\lib\\site-packages\\ipykernel_launcher.py:1: SettingWithCopyWarning: \n",
      "A value is trying to be set on a copy of a slice from a DataFrame.\n",
      "Try using .loc[row_indexer,col_indexer] = value instead\n",
      "\n",
      "See the caveats in the documentation: https://pandas.pydata.org/pandas-docs/stable/user_guide/indexing.html#returning-a-view-versus-a-copy\n",
      "  \"\"\"Entry point for launching an IPython kernel.\n"
     ]
    }
   ],
   "source": [
    "test_data['class'] = test_data['class'].astype('str')\n",
    "\n",
    "test_datagen = ImageDataGenerator(rescale=1./255, data_format='channels_last')\n",
    "\n",
    "batch_size = 1\n",
    "\n",
    "test_generator = test_datagen.flow_from_dataframe(\n",
    "        dataframe=test_data,\n",
    "        directory='./',\n",
    "        x_col=\"image_path\",\n",
    "        y_col=\"class\",\n",
    "        target_size=(32, 32),\n",
    "        batch_size=batch_size,\n",
    "        class_mode='categorical')"
   ]
  },
  {
   "cell_type": "markdown",
   "metadata": {},
   "source": [
    "### To check the if the classes for each sets are present and labelled"
   ]
  },
  {
   "cell_type": "code",
   "execution_count": 13,
   "metadata": {
    "scrolled": true
   },
   "outputs": [
    {
     "data": {
      "text/plain": [
       "{'diamond': 0, 'hex': 1, 'round': 2, 'square': 3, 'triangle': 4}"
      ]
     },
     "execution_count": 13,
     "metadata": {},
     "output_type": "execute_result"
    }
   ],
   "source": [
    "train_generator.class_indices"
   ]
  },
  {
   "cell_type": "code",
   "execution_count": 14,
   "metadata": {},
   "outputs": [
    {
     "data": {
      "text/plain": [
       "{'diamond': 0, 'hex': 1, 'round': 2, 'square': 3, 'triangle': 4}"
      ]
     },
     "execution_count": 14,
     "metadata": {},
     "output_type": "execute_result"
    }
   ],
   "source": [
    "validation_generator.class_indices"
   ]
  },
  {
   "cell_type": "code",
   "execution_count": 15,
   "metadata": {},
   "outputs": [],
   "source": [
    "INPUT_DIM = (32,32,3) # (x-axis size of image, y axis size of image, rgb 3 colours)\n",
    "HIDDEN_LAYER_DIM = 256\n",
    "OUTPUT_CLASSES = 5"
   ]
  },
  {
   "cell_type": "markdown",
   "metadata": {},
   "source": [
    "### Now we will set up the layers of our neural network using sequential api that was given to us for week 9 lab."
   ]
  },
  {
   "cell_type": "code",
   "execution_count": 16,
   "metadata": {},
   "outputs": [
    {
     "name": "stdout",
     "output_type": "stream",
     "text": [
      "WARNING:tensorflow:From D:\\Anaconda\\lib\\site-packages\\tensorflow\\python\\ops\\init_ops.py:1251: calling VarianceScaling.__init__ (from tensorflow.python.ops.init_ops) with dtype is deprecated and will be removed in a future version.\n",
      "Instructions for updating:\n",
      "Call initializer instance with the dtype argument instead of passing it to the constructor\n"
     ]
    }
   ],
   "source": [
    "modelA = tf.keras.Sequential([\n",
    "    tf.keras.layers.Flatten(input_shape=INPUT_DIM),\n",
    "    tf.keras.layers.Dense(HIDDEN_LAYER_DIM, activation='sigmoid'),\n",
    "    tf.keras.layers.Dense(OUTPUT_CLASSES)\n",
    "])"
   ]
  },
  {
   "cell_type": "code",
   "execution_count": 17,
   "metadata": {
    "scrolled": true
   },
   "outputs": [
    {
     "name": "stdout",
     "output_type": "stream",
     "text": [
      "Model: \"sequential\"\n",
      "_________________________________________________________________\n",
      "Layer (type)                 Output Shape              Param #   \n",
      "=================================================================\n",
      "flatten (Flatten)            (None, 3072)              0         \n",
      "_________________________________________________________________\n",
      "dense (Dense)                (None, 256)               786688    \n",
      "_________________________________________________________________\n",
      "dense_1 (Dense)              (None, 5)                 1285      \n",
      "=================================================================\n",
      "Total params: 787,973\n",
      "Trainable params: 787,973\n",
      "Non-trainable params: 0\n",
      "_________________________________________________________________\n"
     ]
    }
   ],
   "source": [
    "modelA.summary()"
   ]
  },
  {
   "cell_type": "code",
   "execution_count": 18,
   "metadata": {},
   "outputs": [],
   "source": [
    "### To show the model as a figure"
   ]
  },
  {
   "cell_type": "code",
   "execution_count": 19,
   "metadata": {
    "scrolled": false
   },
   "outputs": [
    {
     "data": {
      "image/png": "[encoded data removed]",
      "text/plain": [
       "<IPython.core.display.Image object>"
      ]
     },
     "execution_count": 19,
     "metadata": {},
     "output_type": "execute_result"
    }
   ],
   "source": [
    "tf.keras.utils.plot_model(modelA, show_shapes=True)"
   ]
  },
  {
   "cell_type": "markdown",
   "metadata": {},
   "source": [
    "### We compile the model before we are ready to train it. Compilling gives us loss function, optimizer and metrics"
   ]
  },
  {
   "cell_type": "code",
   "execution_count": 20,
   "metadata": {},
   "outputs": [],
   "source": [
    "modelA.compile(optimizer='SGD',\n",
    "              loss=tf.keras.losses.CategoricalCrossentropy(from_logits=True),\n",
    "              metrics=['categorical_accuracy'])"
   ]
  },
  {
   "cell_type": "markdown",
   "metadata": {},
   "source": [
    "### This function is to plot the learning curve of a Neutral Network training process"
   ]
  },
  {
   "cell_type": "code",
   "execution_count": 21,
   "metadata": {},
   "outputs": [],
   "source": [
    "\n",
    "def plot_learning_curve(train_loss, val_loss, train_metric, val_metric, metric_name='Accuracy'):\n",
    "    plt.figure(figsize=(10,5))\n",
    "    \n",
    "    plt.subplot(1,2,1)\n",
    "    plt.plot(train_loss, 'r--')\n",
    "    plt.plot(val_loss, 'b--')\n",
    "    plt.xlabel(\"epochs\")\n",
    "    plt.ylabel(\"Loss\")\n",
    "    plt.legend(['train', 'val'], loc='upper left')\n",
    "\n",
    "    plt.subplot(1,2,2)\n",
    "    plt.plot(train_metric, 'r--')\n",
    "    plt.plot(val_metric, 'b--')\n",
    "    plt.xlabel(\"epochs\")\n",
    "    plt.ylabel(metric_name)\n",
    "    plt.legend(['train', 'val'], loc='upper left')\n",
    "\n",
    "    plt.show()"
   ]
  },
  {
   "cell_type": "code",
   "execution_count": 22,
   "metadata": {},
   "outputs": [
    {
     "name": "stdout",
     "output_type": "stream",
     "text": [
      "Epoch 1/50\n",
      "70/70 [==============================] - 1s 19ms/step - loss: 1.2314 - categorical_accuracy: 0.4908 - val_loss: 1.1153 - val_categorical_accuracy: 0.5770\n",
      "Epoch 2/50\n",
      "70/70 [==============================] - 1s 16ms/step - loss: 1.0858 - categorical_accuracy: 0.5800 - val_loss: 1.0263 - val_categorical_accuracy: 0.6365\n",
      "Epoch 3/50\n",
      "70/70 [==============================] - 1s 16ms/step - loss: 1.0000 - categorical_accuracy: 0.6381 - val_loss: 0.9339 - val_categorical_accuracy: 0.6095\n",
      "Epoch 4/50\n",
      "70/70 [==============================] - 1s 16ms/step - loss: 0.9278 - categorical_accuracy: 0.6895 - val_loss: 0.8702 - val_categorical_accuracy: 0.6905\n",
      "Epoch 5/50\n",
      "70/70 [==============================] - 1s 15ms/step - loss: 0.8655 - categorical_accuracy: 0.7278 - val_loss: 0.8193 - val_categorical_accuracy: 0.7446\n",
      "Epoch 6/50\n",
      "70/70 [==============================] - 1s 15ms/step - loss: 0.8186 - categorical_accuracy: 0.7553 - val_loss: 0.7686 - val_categorical_accuracy: 0.7311\n",
      "Epoch 7/50\n",
      "70/70 [==============================] - 1s 15ms/step - loss: 0.7674 - categorical_accuracy: 0.7679 - val_loss: 0.7273 - val_categorical_accuracy: 0.7432\n",
      "Epoch 8/50\n",
      "70/70 [==============================] - 1s 18ms/step - loss: 0.7308 - categorical_accuracy: 0.7778 - val_loss: 0.6932 - val_categorical_accuracy: 0.7770\n",
      "Epoch 9/50\n",
      "70/70 [==============================] - 1s 15ms/step - loss: 0.6949 - categorical_accuracy: 0.7859 - val_loss: 0.6693 - val_categorical_accuracy: 0.8162\n",
      "Epoch 10/50\n",
      "70/70 [==============================] - 1s 15ms/step - loss: 0.6609 - categorical_accuracy: 0.7972 - val_loss: 0.6350 - val_categorical_accuracy: 0.7608\n",
      "Epoch 11/50\n",
      "70/70 [==============================] - 1s 15ms/step - loss: 0.6356 - categorical_accuracy: 0.8062 - val_loss: 0.6094 - val_categorical_accuracy: 0.8459\n",
      "Epoch 12/50\n",
      "70/70 [==============================] - 1s 15ms/step - loss: 0.6095 - categorical_accuracy: 0.8161 - val_loss: 0.5896 - val_categorical_accuracy: 0.8405\n",
      "Epoch 13/50\n",
      "70/70 [==============================] - 1s 16ms/step - loss: 0.5892 - categorical_accuracy: 0.8297 - val_loss: 0.5589 - val_categorical_accuracy: 0.8419\n",
      "Epoch 14/50\n",
      "70/70 [==============================] - 1s 15ms/step - loss: 0.5641 - categorical_accuracy: 0.8378 - val_loss: 0.5436 - val_categorical_accuracy: 0.8311\n",
      "Epoch 15/50\n",
      "70/70 [==============================] - 1s 15ms/step - loss: 0.5477 - categorical_accuracy: 0.8396 - val_loss: 0.5214 - val_categorical_accuracy: 0.8568\n",
      "Epoch 16/50\n",
      "70/70 [==============================] - 1s 16ms/step - loss: 0.5268 - categorical_accuracy: 0.8513 - val_loss: 0.5069 - val_categorical_accuracy: 0.8689\n",
      "Epoch 17/50\n",
      "70/70 [==============================] - 1s 15ms/step - loss: 0.5116 - categorical_accuracy: 0.8589 - val_loss: 0.4902 - val_categorical_accuracy: 0.8689\n",
      "Epoch 18/50\n",
      "70/70 [==============================] - 1s 18ms/step - loss: 0.4962 - categorical_accuracy: 0.8648 - val_loss: 0.4839 - val_categorical_accuracy: 0.8973\n",
      "Epoch 19/50\n",
      "70/70 [==============================] - 1s 16ms/step - loss: 0.4819 - categorical_accuracy: 0.8761 - val_loss: 0.4645 - val_categorical_accuracy: 0.8770\n",
      "Epoch 20/50\n",
      "70/70 [==============================] - 1s 16ms/step - loss: 0.4697 - categorical_accuracy: 0.8828 - val_loss: 0.4539 - val_categorical_accuracy: 0.8946\n",
      "Epoch 21/50\n",
      "70/70 [==============================] - 1s 16ms/step - loss: 0.4510 - categorical_accuracy: 0.8869 - val_loss: 0.4443 - val_categorical_accuracy: 0.8986\n",
      "Epoch 22/50\n",
      "70/70 [==============================] - 1s 16ms/step - loss: 0.4438 - categorical_accuracy: 0.8810 - val_loss: 0.4397 - val_categorical_accuracy: 0.9054\n",
      "Epoch 23/50\n",
      "70/70 [==============================] - 1s 15ms/step - loss: 0.4308 - categorical_accuracy: 0.8968 - val_loss: 0.4212 - val_categorical_accuracy: 0.8959\n",
      "Epoch 24/50\n",
      "70/70 [==============================] - 1s 16ms/step - loss: 0.4222 - categorical_accuracy: 0.8968 - val_loss: 0.4216 - val_categorical_accuracy: 0.9041\n",
      "Epoch 25/50\n",
      "70/70 [==============================] - 1s 15ms/step - loss: 0.4127 - categorical_accuracy: 0.9013 - val_loss: 0.4032 - val_categorical_accuracy: 0.8973\n",
      "Epoch 26/50\n",
      "70/70 [==============================] - 1s 17ms/step - loss: 0.3998 - categorical_accuracy: 0.9036 - val_loss: 0.4086 - val_categorical_accuracy: 0.9041\n",
      "Epoch 27/50\n",
      "70/70 [==============================] - 1s 21ms/step - loss: 0.3909 - categorical_accuracy: 0.9063 - val_loss: 0.3904 - val_categorical_accuracy: 0.9122\n",
      "Epoch 28/50\n",
      "70/70 [==============================] - 1s 16ms/step - loss: 0.3832 - categorical_accuracy: 0.9117 - val_loss: 0.3830 - val_categorical_accuracy: 0.9095\n",
      "Epoch 29/50\n",
      "70/70 [==============================] - 1s 16ms/step - loss: 0.3746 - categorical_accuracy: 0.9117 - val_loss: 0.3860 - val_categorical_accuracy: 0.9122\n",
      "Epoch 30/50\n",
      "70/70 [==============================] - 1s 16ms/step - loss: 0.3683 - categorical_accuracy: 0.9148 - val_loss: 0.3676 - val_categorical_accuracy: 0.9122\n",
      "Epoch 31/50\n",
      "70/70 [==============================] - 1s 16ms/step - loss: 0.3616 - categorical_accuracy: 0.9180 - val_loss: 0.3690 - val_categorical_accuracy: 0.9203\n",
      "Epoch 32/50\n",
      "70/70 [==============================] - 1s 16ms/step - loss: 0.3569 - categorical_accuracy: 0.9175 - val_loss: 0.3750 - val_categorical_accuracy: 0.9203\n",
      "Epoch 33/50\n",
      "70/70 [==============================] - 1s 17ms/step - loss: 0.3468 - categorical_accuracy: 0.9166 - val_loss: 0.3705 - val_categorical_accuracy: 0.9230\n",
      "Epoch 34/50\n",
      "70/70 [==============================] - 1s 16ms/step - loss: 0.3388 - categorical_accuracy: 0.9216 - val_loss: 0.3467 - val_categorical_accuracy: 0.9135\n",
      "Epoch 35/50\n",
      "70/70 [==============================] - 1s 15ms/step - loss: 0.3322 - categorical_accuracy: 0.9189 - val_loss: 0.3560 - val_categorical_accuracy: 0.9203\n",
      "Epoch 36/50\n",
      "70/70 [==============================] - 1s 16ms/step - loss: 0.3290 - categorical_accuracy: 0.9184 - val_loss: 0.3402 - val_categorical_accuracy: 0.9203\n",
      "Epoch 37/50\n",
      "70/70 [==============================] - 1s 19ms/step - loss: 0.3227 - categorical_accuracy: 0.9252 - val_loss: 0.3326 - val_categorical_accuracy: 0.9230\n",
      "Epoch 38/50\n",
      "70/70 [==============================] - 1s 16ms/step - loss: 0.3148 - categorical_accuracy: 0.9265 - val_loss: 0.3299 - val_categorical_accuracy: 0.9230\n",
      "Epoch 39/50\n",
      "70/70 [==============================] - 1s 16ms/step - loss: 0.3112 - categorical_accuracy: 0.9292 - val_loss: 0.3292 - val_categorical_accuracy: 0.9243\n",
      "Epoch 40/50\n",
      "70/70 [==============================] - 1s 16ms/step - loss: 0.3065 - categorical_accuracy: 0.9324 - val_loss: 0.3229 - val_categorical_accuracy: 0.9203\n",
      "Epoch 41/50\n",
      "70/70 [==============================] - 1s 17ms/step - loss: 0.3003 - categorical_accuracy: 0.9283 - val_loss: 0.3171 - val_categorical_accuracy: 0.9270\n",
      "Epoch 42/50\n",
      "70/70 [==============================] - 1s 15ms/step - loss: 0.2968 - categorical_accuracy: 0.9338 - val_loss: 0.3139 - val_categorical_accuracy: 0.9257\n",
      "Epoch 43/50\n",
      "70/70 [==============================] - 1s 16ms/step - loss: 0.2936 - categorical_accuracy: 0.9297 - val_loss: 0.3085 - val_categorical_accuracy: 0.9257\n",
      "Epoch 44/50\n",
      "70/70 [==============================] - 1s 15ms/step - loss: 0.2882 - categorical_accuracy: 0.9333 - val_loss: 0.3140 - val_categorical_accuracy: 0.9243\n",
      "Epoch 45/50\n",
      "70/70 [==============================] - 1s 16ms/step - loss: 0.2830 - categorical_accuracy: 0.9347 - val_loss: 0.3051 - val_categorical_accuracy: 0.9284\n",
      "Epoch 46/50\n",
      "70/70 [==============================] - 1s 18ms/step - loss: 0.2796 - categorical_accuracy: 0.9333 - val_loss: 0.3036 - val_categorical_accuracy: 0.9270\n",
      "Epoch 47/50\n",
      "70/70 [==============================] - 1s 17ms/step - loss: 0.2761 - categorical_accuracy: 0.9387 - val_loss: 0.2947 - val_categorical_accuracy: 0.9257\n",
      "Epoch 48/50\n",
      "70/70 [==============================] - 1s 16ms/step - loss: 0.2737 - categorical_accuracy: 0.9342 - val_loss: 0.2925 - val_categorical_accuracy: 0.9311\n",
      "Epoch 49/50\n",
      "70/70 [==============================] - 1s 16ms/step - loss: 0.2721 - categorical_accuracy: 0.9342 - val_loss: 0.2906 - val_categorical_accuracy: 0.9297\n",
      "Epoch 50/50\n"
     ]
    },
    {
     "name": "stdout",
     "output_type": "stream",
     "text": [
      "70/70 [==============================] - 1s 16ms/step - loss: 0.2648 - categorical_accuracy: 0.9360 - val_loss: 0.2961 - val_categorical_accuracy: 0.9270\n"
     ]
    }
   ],
   "source": [
    "history = modelA.fit_generator(train_generator, validation_data = validation_generator, epochs=50, verbose=1)"
   ]
  },
  {
   "cell_type": "code",
   "execution_count": 23,
   "metadata": {
    "scrolled": true
   },
   "outputs": [
    {
     "data": {
      "image/png": "[encoded data removed]",
      "text/plain": [
       "<Figure size 720x360 with 2 Axes>"
      ]
     },
     "metadata": {
      "needs_background": "light"
     },
     "output_type": "display_data"
    }
   ],
   "source": [
    "plot_learning_curve(history.history['loss'], history.history['val_loss'], \n",
    "                    history.history['categorical_accuracy'], history.history['val_categorical_accuracy'], \n",
    "                    metric_name='Accuracy')"
   ]
  },
  {
   "cell_type": "markdown",
   "metadata": {},
   "source": [
    "### From the learning plot above we can investigate and conclude that the train and val from loss decreases as epochs increases."
   ]
  },
  {
   "cell_type": "markdown",
   "metadata": {},
   "source": [
    "### It show below that the model has a relatively high categorical accuracy which is 89% and the loss is low."
   ]
  },
  {
   "cell_type": "code",
   "execution_count": 24,
   "metadata": {
    "scrolled": false
   },
   "outputs": [
    {
     "name": "stdout",
     "output_type": "stream",
     "text": [
      "740/740 [==============================] - 1s 1ms/step - loss: 0.3479 - categorical_accuracy: 0.8946\n"
     ]
    },
    {
     "data": {
      "text/plain": [
       "[0.3479352298545072, 0.8945946]"
      ]
     },
     "execution_count": 24,
     "metadata": {},
     "output_type": "execute_result"
    }
   ],
   "source": [
    "modelA.evaluate(test_generator)"
   ]
  },
  {
   "cell_type": "markdown",
   "metadata": {},
   "source": [
    "### Set label names to its respective name to numbers we set"
   ]
  },
  {
   "cell_type": "code",
   "execution_count": 25,
   "metadata": {},
   "outputs": [],
   "source": [
    "label_names = {'diamond': 0, 'hex': 1, 'round': 2, 'square': 3, 'triangle': 4}"
   ]
  },
  {
   "cell_type": "markdown",
   "metadata": {},
   "source": [
    "## Now with our trained model, we have created a model that is able to classify sign shapes as show below. \n",
    "### - 6 random signs from the traffic sign dataset will be taken to show that the model is able to read the sign shape"
   ]
  },
  {
   "cell_type": "code",
   "execution_count": 26,
   "metadata": {
    "scrolled": true
   },
   "outputs": [
    {
     "data": {
      "image/png": "[encoded data removed]",
      "text/plain": [
       "<Figure size 1152x288 with 5 Axes>"
      ]
     },
     "metadata": {
      "needs_background": "light"
     },
     "output_type": "display_data"
    }
   ],
   "source": [
    "d_inv = {v: k for k, v in label_names.items()}\n",
    "plt.figure(figsize=(16,4))\n",
    "batches = 0\n",
    "for x,y in test_generator:\n",
    "        batches = batches + 1\n",
    "        y_hat = modelA.predict(x, verbose=0)\n",
    "        x = np.squeeze(x)\n",
    "        if batches < 6:\n",
    "            plt.subplot(1,6,batches)\n",
    "            plt.imshow(x)\n",
    "            plt.title(\"GT-{}, Pred-{}\".format(d_inv[np.argmax(y[0])], d_inv[np.argmax(y_hat[0])] ))\n",
    "            \n",
    "        else:\n",
    "            break\n",
    "        \n",
    "        plt.axis('off')"
   ]
  },
  {
   "cell_type": "markdown",
   "metadata": {},
   "source": [
    "## Tried to test indepent variable for testing my own image but couldnt figure out how to flatten one image so it can read "
   ]
  },
  {
   "cell_type": "code",
   "execution_count": 27,
   "metadata": {},
   "outputs": [],
   "source": [
    "# imgs = image.load_img('./testSign/walk.PNG', target_size =(32,32))\n",
    "# plt.imshow(imgs)\n",
    "# plt.show\n",
    "# X = image.img_to_array(imgs)\n",
    "# X = np.expand_dims(X, axis = 0)\n",
    "# images = np.vstack(x)\n",
    "\n",
    "\n",
    "# # images = tf.keras.Sequential([\n",
    "# #     tf.keras.layers.Flatten(input_shape=INPUT_DIM)])\n",
    "\n",
    "# val = model.predict(images)\n",
    "\n",
    "# if val == 0:\n",
    "#     print('diamond')\n",
    "# else:\n",
    "#     print('not diamond')"
   ]
  },
  {
   "cell_type": "markdown",
   "metadata": {},
   "source": [
    "## Now we will make so incremental changes to our model. An explanation of early stop can be found below as initially I didn't use it but decided to for both classification of sign shape and sign type."
   ]
  },
  {
   "cell_type": "code",
   "execution_count": 28,
   "metadata": {},
   "outputs": [],
   "source": [
    "modelB = tf.keras.Sequential([\n",
    "    \n",
    "    tf.keras.layers.Conv2D(16, (3, 3), activation='relu', padding='same', input_shape=INPUT_DIM),\n",
    "    tf.keras.layers.Conv2D(16, (3, 3), activation='relu', padding='same'),\n",
    "    tf.keras.layers.MaxPooling2D((2, 2)),\n",
    "    \n",
    "    tf.keras.layers.Conv2D(32, (3, 3), activation='relu', padding='same'),\n",
    "    tf.keras.layers.Conv2D(32, (3, 3), activation='relu', padding='same'),\n",
    "    tf.keras.layers.MaxPooling2D((2, 2)),\n",
    "    \n",
    "    \n",
    "    tf.keras.layers.Conv2D(64, (3, 3), activation='relu', padding='same'),\n",
    "    tf.keras.layers.Conv2D(64, (3, 3), activation='relu', padding='same'),\n",
    "    tf.keras.layers.MaxPooling2D((2, 2)),\n",
    "    \n",
    "    \n",
    "    tf.keras.layers.Conv2D(128, (3, 3), activation='relu', padding='same'),\n",
    "    tf.keras.layers.Conv2D(128, (3, 3), activation='relu', padding='same'),\n",
    "    tf.keras.layers.MaxPooling2D((2, 2)),\n",
    "    \n",
    "    tf.keras.layers.Flatten(),\n",
    "    tf.keras.layers.Dense(128, activation='relu'),\n",
    "    tf.keras.layers.Dense(OUTPUT_CLASSES),\n",
    "])\n",
    "modelB.compile(optimizer='SGD',\n",
    "              loss=tf.keras.losses.CategoricalCrossentropy(from_logits=True),\n",
    "              metrics=['categorical_accuracy'])"
   ]
  },
  {
   "cell_type": "code",
   "execution_count": 29,
   "metadata": {
    "scrolled": true
   },
   "outputs": [
    {
     "name": "stdout",
     "output_type": "stream",
     "text": [
      "Model: \"sequential_1\"\n",
      "_________________________________________________________________\n",
      "Layer (type)                 Output Shape              Param #   \n",
      "=================================================================\n",
      "conv2d (Conv2D)              (None, 32, 32, 16)        448       \n",
      "_________________________________________________________________\n",
      "conv2d_1 (Conv2D)            (None, 32, 32, 16)        2320      \n",
      "_________________________________________________________________\n",
      "max_pooling2d (MaxPooling2D) (None, 16, 16, 16)        0         \n",
      "_________________________________________________________________\n",
      "conv2d_2 (Conv2D)            (None, 16, 16, 32)        4640      \n",
      "_________________________________________________________________\n",
      "conv2d_3 (Conv2D)            (None, 16, 16, 32)        9248      \n",
      "_________________________________________________________________\n",
      "max_pooling2d_1 (MaxPooling2 (None, 8, 8, 32)          0         \n",
      "_________________________________________________________________\n",
      "conv2d_4 (Conv2D)            (None, 8, 8, 64)          18496     \n",
      "_________________________________________________________________\n",
      "conv2d_5 (Conv2D)            (None, 8, 8, 64)          36928     \n",
      "_________________________________________________________________\n",
      "max_pooling2d_2 (MaxPooling2 (None, 4, 4, 64)          0         \n",
      "_________________________________________________________________\n",
      "conv2d_6 (Conv2D)            (None, 4, 4, 128)         73856     \n",
      "_________________________________________________________________\n",
      "conv2d_7 (Conv2D)            (None, 4, 4, 128)         147584    \n",
      "_________________________________________________________________\n",
      "max_pooling2d_3 (MaxPooling2 (None, 2, 2, 128)         0         \n",
      "_________________________________________________________________\n",
      "flatten_1 (Flatten)          (None, 512)               0         \n",
      "_________________________________________________________________\n",
      "dense_2 (Dense)              (None, 128)               65664     \n",
      "_________________________________________________________________\n",
      "dense_3 (Dense)              (None, 5)                 645       \n",
      "=================================================================\n",
      "Total params: 359,829\n",
      "Trainable params: 359,829\n",
      "Non-trainable params: 0\n",
      "_________________________________________________________________\n"
     ]
    }
   ],
   "source": [
    "modelB.summary()"
   ]
  },
  {
   "cell_type": "code",
   "execution_count": 30,
   "metadata": {},
   "outputs": [
    {
     "data": {
      "image/png": "[encoded data removed]",
      "text/plain": [
       "<IPython.core.display.Image object>"
      ]
     },
     "execution_count": 30,
     "metadata": {},
     "output_type": "execute_result"
    }
   ],
   "source": [
    "tf.keras.utils.plot_model(modelB, show_shapes=True)"
   ]
  },
  {
   "cell_type": "code",
   "execution_count": 31,
   "metadata": {},
   "outputs": [],
   "source": [
    "modelB.compile(optimizer='SGD',\n",
    "              loss=tf.keras.losses.CategoricalCrossentropy(from_logits=True),\n",
    "              metrics=['categorical_accuracy'])"
   ]
  },
  {
   "cell_type": "code",
   "execution_count": 32,
   "metadata": {},
   "outputs": [],
   "source": [
    "\n",
    "def plot_learning_curve(train_loss, val_loss, train_metric, val_metric, metric_name='Accuracy'):\n",
    "    plt.figure(figsize=(10,5))\n",
    "    \n",
    "    plt.subplot(1,2,1)\n",
    "    plt.plot(train_loss, 'r--')\n",
    "    plt.plot(val_loss, 'b--')\n",
    "    plt.xlabel(\"epochs\")\n",
    "    plt.ylabel(\"Loss\")\n",
    "    plt.legend(['train', 'val'], loc='upper left')\n",
    "\n",
    "    plt.subplot(1,2,2)\n",
    "    plt.plot(train_metric, 'r--')\n",
    "    plt.plot(val_metric, 'b--')\n",
    "    plt.xlabel(\"epochs\")\n",
    "    plt.ylabel(metric_name)\n",
    "    plt.legend(['train', 'val'], loc='upper left')\n",
    "\n",
    "    plt.show()"
   ]
  },
  {
   "cell_type": "code",
   "execution_count": 33,
   "metadata": {},
   "outputs": [],
   "source": [
    "from tensorflow.keras.callbacks import EarlyStopping\n",
    "es = EarlyStopping(min_delta=0.001, monitor='val_loss', mode='min', verbose=1, patience=20, restore_best_weights=True,)"
   ]
  },
  {
   "cell_type": "code",
   "execution_count": 34,
   "metadata": {
    "scrolled": true
   },
   "outputs": [
    {
     "name": "stdout",
     "output_type": "stream",
     "text": [
      "Epoch 1/50\n",
      "70/70 [==============================] - 5s 70ms/step - loss: 1.3728 - categorical_accuracy: 0.4763 - val_loss: 1.2410 - val_categorical_accuracy: 0.4905\n",
      "Epoch 2/50\n",
      "70/70 [==============================] - 4s 63ms/step - loss: 1.2411 - categorical_accuracy: 0.4777 - val_loss: 1.2062 - val_categorical_accuracy: 0.4905\n",
      "Epoch 3/50\n",
      "70/70 [==============================] - 4s 61ms/step - loss: 1.2139 - categorical_accuracy: 0.4935 - val_loss: 1.1633 - val_categorical_accuracy: 0.5608\n",
      "Epoch 4/50\n",
      "70/70 [==============================] - 4s 62ms/step - loss: 1.1665 - categorical_accuracy: 0.5367 - val_loss: 1.1047 - val_categorical_accuracy: 0.5703\n",
      "Epoch 5/50\n",
      "70/70 [==============================] - 4s 61ms/step - loss: 1.1040 - categorical_accuracy: 0.5750 - val_loss: 1.0114 - val_categorical_accuracy: 0.5730\n",
      "Epoch 6/50\n",
      "70/70 [==============================] - 4s 59ms/step - loss: 0.9772 - categorical_accuracy: 0.6539 - val_loss: 0.8675 - val_categorical_accuracy: 0.6811\n",
      "Epoch 7/50\n",
      "70/70 [==============================] - 4s 61ms/step - loss: 0.8266 - categorical_accuracy: 0.7098 - val_loss: 0.9301 - val_categorical_accuracy: 0.6216\n",
      "Epoch 8/50\n",
      "70/70 [==============================] - 4s 60ms/step - loss: 0.6685 - categorical_accuracy: 0.7706 - val_loss: 0.5686 - val_categorical_accuracy: 0.8311\n",
      "Epoch 9/50\n",
      "70/70 [==============================] - 4s 63ms/step - loss: 0.5160 - categorical_accuracy: 0.8306 - val_loss: 0.4752 - val_categorical_accuracy: 0.8243\n",
      "Epoch 10/50\n",
      "70/70 [==============================] - 4s 60ms/step - loss: 0.4279 - categorical_accuracy: 0.8580 - val_loss: 0.3589 - val_categorical_accuracy: 0.8730\n",
      "Epoch 11/50\n",
      "70/70 [==============================] - 4s 57ms/step - loss: 0.3510 - categorical_accuracy: 0.8833 - val_loss: 0.2823 - val_categorical_accuracy: 0.9135\n",
      "Epoch 12/50\n",
      "70/70 [==============================] - 4s 58ms/step - loss: 0.2667 - categorical_accuracy: 0.9148 - val_loss: 0.2210 - val_categorical_accuracy: 0.9284\n",
      "Epoch 13/50\n",
      "70/70 [==============================] - 4s 64ms/step - loss: 0.2154 - categorical_accuracy: 0.9292 - val_loss: 0.2514 - val_categorical_accuracy: 0.9068\n",
      "Epoch 14/50\n",
      "70/70 [==============================] - 4s 62ms/step - loss: 0.1698 - categorical_accuracy: 0.9477 - val_loss: 0.1618 - val_categorical_accuracy: 0.9459\n",
      "Epoch 15/50\n",
      "70/70 [==============================] - 4s 59ms/step - loss: 0.1294 - categorical_accuracy: 0.9581 - val_loss: 0.1521 - val_categorical_accuracy: 0.9541\n",
      "Epoch 16/50\n",
      "70/70 [==============================] - 4s 62ms/step - loss: 0.1687 - categorical_accuracy: 0.9504 - val_loss: 0.2228 - val_categorical_accuracy: 0.9405\n",
      "Epoch 17/50\n",
      "70/70 [==============================] - 4s 63ms/step - loss: 0.1791 - categorical_accuracy: 0.9536 - val_loss: 0.7577 - val_categorical_accuracy: 0.6986\n",
      "Epoch 18/50\n",
      "70/70 [==============================] - 4s 58ms/step - loss: 0.1515 - categorical_accuracy: 0.9540 - val_loss: 0.1166 - val_categorical_accuracy: 0.9662\n",
      "Epoch 19/50\n",
      "70/70 [==============================] - 4s 63ms/step - loss: 0.0548 - categorical_accuracy: 0.9869 - val_loss: 0.0942 - val_categorical_accuracy: 0.9689\n",
      "Epoch 20/50\n",
      "70/70 [==============================] - 4s 61ms/step - loss: 0.0307 - categorical_accuracy: 0.9941 - val_loss: 0.1176 - val_categorical_accuracy: 0.9514\n",
      "Epoch 21/50\n",
      "70/70 [==============================] - 5s 66ms/step - loss: 0.1277 - categorical_accuracy: 0.9667 - val_loss: 0.0994 - val_categorical_accuracy: 0.9689\n",
      "Epoch 22/50\n",
      "70/70 [==============================] - 4s 64ms/step - loss: 0.0312 - categorical_accuracy: 0.9932 - val_loss: 0.1021 - val_categorical_accuracy: 0.9689\n",
      "Epoch 23/50\n",
      "70/70 [==============================] - 5s 65ms/step - loss: 0.0145 - categorical_accuracy: 0.9982 - val_loss: 0.0891 - val_categorical_accuracy: 0.9743\n",
      "Epoch 24/50\n",
      "70/70 [==============================] - 4s 63ms/step - loss: 0.0077 - categorical_accuracy: 0.9991 - val_loss: 0.0959 - val_categorical_accuracy: 0.9757\n",
      "Epoch 25/50\n",
      "70/70 [==============================] - 4s 64ms/step - loss: 0.0054 - categorical_accuracy: 0.9995 - val_loss: 0.0966 - val_categorical_accuracy: 0.9757\n",
      "Epoch 26/50\n",
      "70/70 [==============================] - 4s 55ms/step - loss: 0.0042 - categorical_accuracy: 1.0000 - val_loss: 0.1042 - val_categorical_accuracy: 0.9757\n",
      "Epoch 27/50\n",
      "70/70 [==============================] - 4s 60ms/step - loss: 0.0032 - categorical_accuracy: 1.0000 - val_loss: 0.1053 - val_categorical_accuracy: 0.9757\n",
      "Epoch 28/50\n",
      "70/70 [==============================] - 5s 68ms/step - loss: 0.0026 - categorical_accuracy: 1.0000 - val_loss: 0.1102 - val_categorical_accuracy: 0.9730\n",
      "Epoch 29/50\n",
      "70/70 [==============================] - 4s 57ms/step - loss: 0.0021 - categorical_accuracy: 1.0000 - val_loss: 0.1131 - val_categorical_accuracy: 0.9743\n",
      "Epoch 30/50\n",
      "70/70 [==============================] - 4s 63ms/step - loss: 0.0018 - categorical_accuracy: 1.0000 - val_loss: 0.1128 - val_categorical_accuracy: 0.9730\n",
      "Epoch 31/50\n",
      "70/70 [==============================] - 5s 70ms/step - loss: 0.0015 - categorical_accuracy: 1.0000 - val_loss: 0.1148 - val_categorical_accuracy: 0.9743\n",
      "Epoch 32/50\n",
      "70/70 [==============================] - 4s 58ms/step - loss: 0.0013 - categorical_accuracy: 1.0000 - val_loss: 0.1156 - val_categorical_accuracy: 0.9770\n",
      "Epoch 33/50\n",
      "70/70 [==============================] - 4s 64ms/step - loss: 0.0012 - categorical_accuracy: 1.0000 - val_loss: 0.1206 - val_categorical_accuracy: 0.9730\n",
      "Epoch 34/50\n",
      "70/70 [==============================] - 4s 62ms/step - loss: 0.0011 - categorical_accuracy: 1.0000 - val_loss: 0.1211 - val_categorical_accuracy: 0.9743\n",
      "Epoch 35/50\n",
      "70/70 [==============================] - 4s 58ms/step - loss: 9.7074e-04 - categorical_accuracy: 1.0000 - val_loss: 0.1242 - val_categorical_accuracy: 0.9757\n",
      "Epoch 36/50\n",
      "70/70 [==============================] - 4s 57ms/step - loss: 8.8194e-04 - categorical_accuracy: 1.0000 - val_loss: 0.1267 - val_categorical_accuracy: 0.9730\n",
      "Epoch 37/50\n",
      "70/70 [==============================] - 4s 63ms/step - loss: 8.2611e-04 - categorical_accuracy: 1.0000 - val_loss: 0.1272 - val_categorical_accuracy: 0.9743\n",
      "Epoch 38/50\n",
      "70/70 [==============================] - 4s 58ms/step - loss: 7.5227e-04 - categorical_accuracy: 1.0000 - val_loss: 0.1282 - val_categorical_accuracy: 0.9770\n",
      "Epoch 39/50\n",
      "70/70 [==============================] - 4s 60ms/step - loss: 7.0270e-04 - categorical_accuracy: 1.0000 - val_loss: 0.1314 - val_categorical_accuracy: 0.9743\n",
      "Epoch 40/50\n",
      "70/70 [==============================] - 4s 61ms/step - loss: 6.4087e-04 - categorical_accuracy: 1.0000 - val_loss: 0.1316 - val_categorical_accuracy: 0.9757\n",
      "Epoch 41/50\n",
      "70/70 [==============================] - 4s 59ms/step - loss: 6.1172e-04 - categorical_accuracy: 1.0000 - val_loss: 0.1315 - val_categorical_accuracy: 0.9743\n",
      "Epoch 42/50\n",
      "70/70 [==============================] - 4s 59ms/step - loss: 5.7939e-04 - categorical_accuracy: 1.0000 - val_loss: 0.1330 - val_categorical_accuracy: 0.9757\n",
      "Epoch 43/50\n",
      "69/70 [============================>.] - ETA: 0s - loss: 5.4330e-04 - categorical_accuracy: 1.0000Restoring model weights from the end of the best epoch.\n",
      "70/70 [==============================] - 5s 68ms/step - loss: 5.4521e-04 - categorical_accuracy: 1.0000 - val_loss: 0.1352 - val_categorical_accuracy: 0.9743\n",
      "Epoch 00043: early stopping\n"
     ]
    }
   ],
   "source": [
    "historyEarlyStop = modelB.fit_generator(train_generator, validation_data = validation_generator, epochs=50,callbacks=[es], verbose=1)"
   ]
  },
  {
   "cell_type": "code",
   "execution_count": 35,
   "metadata": {},
   "outputs": [
    {
     "data": {
      "image/png": "[encoded data removed]",
      "text/plain": [
       "<Figure size 720x360 with 2 Axes>"
      ]
     },
     "metadata": {
      "needs_background": "light"
     },
     "output_type": "display_data"
    }
   ],
   "source": [
    "plot_learning_curve(historyEarlyStop.history['loss'], historyEarlyStop.history['val_loss'], \n",
    "                    historyEarlyStop.history['categorical_accuracy'], historyEarlyStop.history['val_categorical_accuracy'], \n",
    "                    metric_name='Accuracy')"
   ]
  },
  {
   "cell_type": "code",
   "execution_count": 36,
   "metadata": {},
   "outputs": [
    {
     "name": "stdout",
     "output_type": "stream",
     "text": [
      "740/740 [==============================] - 2s 3ms/step - loss: 0.1151 - categorical_accuracy: 0.9676\n"
     ]
    },
    {
     "data": {
      "text/plain": [
       "[0.11512069000115845, 0.96756756]"
      ]
     },
     "execution_count": 36,
     "metadata": {},
     "output_type": "execute_result"
    }
   ],
   "source": [
    "modelB.evaluate(test_generator)"
   ]
  },
  {
   "cell_type": "markdown",
   "metadata": {},
   "source": [
    "## It shows above that the accuracy is higher when we decided to use a classical convolutional neural network architecture"
   ]
  },
  {
   "cell_type": "code",
   "execution_count": 37,
   "metadata": {},
   "outputs": [],
   "source": [
    "label_names = {'diamond': 0, 'hex': 1, 'round': 2, 'square': 3, 'triangle': 4}"
   ]
  },
  {
   "cell_type": "markdown",
   "metadata": {},
   "source": [
    "## Now with our trained model, we have created a model that is able to classify sign shapes as show below."
   ]
  },
  {
   "cell_type": "code",
   "execution_count": 38,
   "metadata": {
    "scrolled": true
   },
   "outputs": [
    {
     "data": {
      "image/png": "[encoded data removed]",
      "text/plain": [
       "<Figure size 1152x288 with 5 Axes>"
      ]
     },
     "metadata": {
      "needs_background": "light"
     },
     "output_type": "display_data"
    }
   ],
   "source": [
    "d_inv = {v: k for k, v in label_names.items()}\n",
    "plt.figure(figsize=(16,4))\n",
    "batches = 0\n",
    "for x,y in test_generator:\n",
    "        batches = batches + 1\n",
    "        y_hat = modelB.predict(x, verbose=0)\n",
    "        x = np.squeeze(x)\n",
    "        if batches < 6:\n",
    "            plt.subplot(1,6,batches)\n",
    "            plt.imshow(x)\n",
    "            plt.title(\"GT-{}, Pred-{}\".format(d_inv[np.argmax(y[0])], d_inv[np.argmax(y_hat[0])] ))\n",
    "            \n",
    "        else:\n",
    "            break\n",
    "        \n",
    "        plt.axis('off')"
   ]
  },
  {
   "cell_type": "markdown",
   "metadata": {},
   "source": [
    "## To choose one of the image from the dataset change target number"
   ]
  },
  {
   "cell_type": "code",
   "execution_count": 39,
   "metadata": {},
   "outputs": [
    {
     "data": {
      "image/png": "[encoded data removed]",
      "text/plain": [
       "<Figure size 1152x288 with 1 Axes>"
      ]
     },
     "metadata": {
      "needs_background": "light"
     },
     "output_type": "display_data"
    }
   ],
   "source": [
    "\n",
    "d_inv = {v: k for k, v in label_names.items()}\n",
    "plt.figure(figsize=(16,4))\n",
    "target = 5000\n",
    "batches = 0\n",
    "for x,y in test_generator:\n",
    "        batches = batches + 1\n",
    "        y_hat = modelB.predict(x, verbose=0)\n",
    "        x = np.squeeze(x)\n",
    "        if batches == target:\n",
    "            plt.subplot(1,4,1)\n",
    "            plt.imshow(x)\n",
    "            plt.title(\"GT-{}, Pred-{}\".format(d_inv[np.argmax(y[0])], d_inv[np.argmax(y_hat[0])] ))\n",
    "            break\n",
    "        plt.axis('off')\n"
   ]
  },
  {
   "cell_type": "markdown",
   "metadata": {},
   "source": [
    "# Now we will develop a model that can classify the sign board type."
   ]
  },
  {
   "cell_type": "code",
   "execution_count": 40,
   "metadata": {},
   "outputs": [],
   "source": [
    "import cv2\n",
    "import os\n",
    "\n",
    "def load_images_from_folder(folder):\n",
    "    images = []\n",
    "    for filename in os.listdir(folder):\n",
    "        img = cv2.imread(os.path.join(folder,filename))\n",
    "        if img is not None:\n",
    "            images.append(img)\n",
    "    return images"
   ]
  },
  {
   "cell_type": "markdown",
   "metadata": {},
   "source": [
    "##  We change the to [2] so that we can print out a csv that get sign type instead of shape"
   ]
  },
  {
   "cell_type": "code",
   "execution_count": 41,
   "metadata": {},
   "outputs": [],
   "source": [
    "## this is to create two csv classes, one for sign shape and the other for sign types. Change the [1 or 2]\n",
    "\n",
    "import glob\n",
    "images = []\n",
    "classes = []\n",
    "classes.extend([file.split(\"\\\\\")[2] for file in glob.glob('trafficsigns_dataset/*/*/*.png')])\n",
    "images.extend([(file) for file in glob.glob('trafficsigns_dataset/*/*/*.png')])"
   ]
  },
  {
   "cell_type": "code",
   "execution_count": 42,
   "metadata": {},
   "outputs": [],
   "source": [
    "## CSV is print and saved into our device\n",
    "\n",
    "dict = {'image_path': images, 'class': classes} \n",
    "predict_df = pd.DataFrame(dict)\n",
    "predict_df.to_csv('signboardimage2.csv', index=False)"
   ]
  },
  {
   "cell_type": "code",
   "execution_count": 43,
   "metadata": {},
   "outputs": [],
   "source": [
    "data2 = pd.read_csv('./signboardimage2.csv')"
   ]
  },
  {
   "cell_type": "markdown",
   "metadata": {},
   "source": [
    "### Same thing previously, we need to split the data in to train, test and val"
   ]
  },
  {
   "cell_type": "code",
   "execution_count": 44,
   "metadata": {},
   "outputs": [
    {
     "name": "stdout",
     "output_type": "stream",
     "text": [
      "Train data : 2219, Val Data: 740, Test Data: 740\n"
     ]
    }
   ],
   "source": [
    "train_data, test_data = train_test_split(data2, test_size=0.2, random_state=42)\n",
    "train_data, val_data = train_test_split(train_data, test_size=0.25, random_state=42)\n",
    "\n",
    "print(\"Train data : {}, Val Data: {}, Test Data: {}\".format(train_data.shape[0], val_data.shape[0], test_data.shape[0]))"
   ]
  },
  {
   "cell_type": "code",
   "execution_count": 45,
   "metadata": {},
   "outputs": [],
   "source": [
    "train_data['class'] = train_data['class'].astype('str')\n",
    "val_data['class'] = val_data['class'].astype('str')"
   ]
  },
  {
   "cell_type": "code",
   "execution_count": 46,
   "metadata": {},
   "outputs": [
    {
     "name": "stdout",
     "output_type": "stream",
     "text": [
      "Found 2219 validated image filenames belonging to 16 classes.\n",
      "Found 740 validated image filenames belonging to 16 classes.\n"
     ]
    }
   ],
   "source": [
    "from tensorflow.keras.preprocessing.image import ImageDataGenerator\n",
    "\n",
    "train_datagen = ImageDataGenerator(rescale=1./255, data_format='channels_last')\n",
    "val_datagen = ImageDataGenerator(rescale=1./255, data_format='channels_last')\n",
    "\n",
    "batch_size = 32\n",
    "\n",
    "train_generator2 = train_datagen.flow_from_dataframe(\n",
    "        dataframe=train_data,\n",
    "        directory='./',\n",
    "        x_col=\"image_path\",\n",
    "        y_col=\"class\",\n",
    "        target_size=(32, 32),\n",
    "        batch_size=batch_size,\n",
    "        class_mode='categorical')\n",
    "\n",
    "validation_generator2 = val_datagen.flow_from_dataframe(\n",
    "        dataframe=val_data,\n",
    "        directory='./',\n",
    "        x_col=\"image_path\",\n",
    "        y_col=\"class\",\n",
    "        target_size=(32, 32),\n",
    "        batch_size=batch_size,\n",
    "        class_mode='categorical')"
   ]
  },
  {
   "cell_type": "code",
   "execution_count": 47,
   "metadata": {},
   "outputs": [
    {
     "data": {
      "text/plain": [
       "{'bicycle': 0,\n",
       " 'continue': 1,\n",
       " 'crossing': 2,\n",
       " 'giveway': 3,\n",
       " 'laneend': 4,\n",
       " 'limitedtraffic': 5,\n",
       " 'noentry': 6,\n",
       " 'noparking': 7,\n",
       " 'parking': 8,\n",
       " 'rightofway': 9,\n",
       " 'roundabout': 10,\n",
       " 'speed': 11,\n",
       " 'stop': 12,\n",
       " 'trafficdirective': 13,\n",
       " 'traveldirection': 14,\n",
       " 'warning': 15}"
      ]
     },
     "execution_count": 47,
     "metadata": {},
     "output_type": "execute_result"
    }
   ],
   "source": [
    "train_generator2.class_indices"
   ]
  },
  {
   "cell_type": "code",
   "execution_count": 48,
   "metadata": {},
   "outputs": [
    {
     "data": {
      "text/plain": [
       "{'bicycle': 0,\n",
       " 'continue': 1,\n",
       " 'crossing': 2,\n",
       " 'giveway': 3,\n",
       " 'laneend': 4,\n",
       " 'limitedtraffic': 5,\n",
       " 'noentry': 6,\n",
       " 'noparking': 7,\n",
       " 'parking': 8,\n",
       " 'rightofway': 9,\n",
       " 'roundabout': 10,\n",
       " 'speed': 11,\n",
       " 'stop': 12,\n",
       " 'trafficdirective': 13,\n",
       " 'traveldirection': 14,\n",
       " 'warning': 15}"
      ]
     },
     "execution_count": 48,
     "metadata": {},
     "output_type": "execute_result"
    }
   ],
   "source": [
    "validation_generator2.class_indices"
   ]
  },
  {
   "cell_type": "code",
   "execution_count": 49,
   "metadata": {},
   "outputs": [],
   "source": [
    "INPUT_DIM2 = (32,32,3) # (x-axis size of image, y axis size of image, rgb 3 colours)\n",
    "HIDDEN_LAYER_DIM2 = 256\n",
    "OUTPUT_CLASSES2 = 16"
   ]
  },
  {
   "cell_type": "markdown",
   "metadata": {},
   "source": [
    "### Here is where it is slightly different from above, we decided to set different layers their the previous model as it output us very high loss and low accuracy."
   ]
  },
  {
   "cell_type": "code",
   "execution_count": 50,
   "metadata": {},
   "outputs": [],
   "source": [
    "\n",
    "model2C= tf.keras.Sequential() \n",
    "model2C.add(tf.keras.layers.Conv2D(filters=32,kernel_size=(3,3), \n",
    "  strides=(3,3), input_shape = INPUT_DIM2, activation='relu'))\n",
    "model2C.add(tf.keras.layers.Conv2D(filters=64,kernel_size=(3,3), \n",
    "  activation='relu'))\n",
    "model2C.add(tf.keras.layers.MaxPooling2D(pool_size = (2, 2)))\n",
    "model2C.add(tf.keras.layers.Dropout(0.25))\n",
    "model2C.add(tf.keras.layers.Flatten())\n",
    "model2C.add(tf.keras.layers.Dense(128, activation='relu'))\n",
    "model2C.add(tf.keras.layers.Dropout(0.5))\n",
    "model2C.add(tf.keras.layers.Dense(16,activation = 'sigmoid')) \n"
   ]
  },
  {
   "cell_type": "code",
   "execution_count": 51,
   "metadata": {},
   "outputs": [
    {
     "name": "stdout",
     "output_type": "stream",
     "text": [
      "Model: \"sequential_2\"\n",
      "_________________________________________________________________\n",
      "Layer (type)                 Output Shape              Param #   \n",
      "=================================================================\n",
      "conv2d_8 (Conv2D)            (None, 10, 10, 32)        896       \n",
      "_________________________________________________________________\n",
      "conv2d_9 (Conv2D)            (None, 8, 8, 64)          18496     \n",
      "_________________________________________________________________\n",
      "max_pooling2d_4 (MaxPooling2 (None, 4, 4, 64)          0         \n",
      "_________________________________________________________________\n",
      "dropout (Dropout)            (None, 4, 4, 64)          0         \n",
      "_________________________________________________________________\n",
      "flatten_2 (Flatten)          (None, 1024)              0         \n",
      "_________________________________________________________________\n",
      "dense_4 (Dense)              (None, 128)               131200    \n",
      "_________________________________________________________________\n",
      "dropout_1 (Dropout)          (None, 128)               0         \n",
      "_________________________________________________________________\n",
      "dense_5 (Dense)              (None, 16)                2064      \n",
      "=================================================================\n",
      "Total params: 152,656\n",
      "Trainable params: 152,656\n",
      "Non-trainable params: 0\n",
      "_________________________________________________________________\n"
     ]
    }
   ],
   "source": [
    "model2C.summary()"
   ]
  },
  {
   "cell_type": "code",
   "execution_count": 52,
   "metadata": {},
   "outputs": [
    {
     "data": {
      "image/png": "[encoded data removed]",
      "text/plain": [
       "<IPython.core.display.Image object>"
      ]
     },
     "execution_count": 52,
     "metadata": {},
     "output_type": "execute_result"
    }
   ],
   "source": [
    "tf.keras.utils.plot_model(model2C, show_shapes=True)"
   ]
  },
  {
   "cell_type": "code",
   "execution_count": 53,
   "metadata": {},
   "outputs": [],
   "source": [
    "model2C.compile(optimizer='SGD',\n",
    "              loss=tf.keras.losses.CategoricalCrossentropy(from_logits=True),\n",
    "              metrics=['categorical_accuracy'])"
   ]
  },
  {
   "cell_type": "code",
   "execution_count": 54,
   "metadata": {},
   "outputs": [
    {
     "name": "stdout",
     "output_type": "stream",
     "text": [
      "Found 2219 validated image filenames belonging to 16 classes.\n",
      "Found 740 validated image filenames belonging to 16 classes.\n"
     ]
    }
   ],
   "source": [
    "train_datagen = ImageDataGenerator(rescale=1./255, data_format='channels_last')\n",
    "val_datagen = ImageDataGenerator(rescale=1./255, data_format='channels_last')\n",
    "\n",
    "batch_size = 32\n",
    "\n",
    "train_generator2 = train_datagen.flow_from_dataframe(\n",
    "        dataframe=train_data,\n",
    "        directory='./',\n",
    "        x_col=\"image_path\",\n",
    "        y_col=\"class\",\n",
    "        target_size=(32, 32),\n",
    "        batch_size=batch_size,\n",
    "        class_mode='categorical')\n",
    "\n",
    "validation_generator2 = val_datagen.flow_from_dataframe(\n",
    "        dataframe=val_data,\n",
    "        directory='./',\n",
    "        x_col=\"image_path\",\n",
    "        y_col=\"class\",\n",
    "        target_size=(32, 32),\n",
    "        batch_size=batch_size,\n",
    "        class_mode='categorical')"
   ]
  },
  {
   "cell_type": "code",
   "execution_count": 55,
   "metadata": {},
   "outputs": [],
   "source": [
    "\n",
    "def plot_learning_curve(train_loss, val_loss, train_metric, val_metric, metric_name='Accuracy'):\n",
    "    plt.figure(figsize=(10,5))\n",
    "    \n",
    "    plt.subplot(1,2,1)\n",
    "    plt.plot(train_loss, 'r--')\n",
    "    plt.plot(val_loss, 'b--')\n",
    "    plt.xlabel(\"epochs\")\n",
    "    plt.ylabel(\"Loss\")\n",
    "    plt.legend(['train', 'val'], loc='upper left')\n",
    "\n",
    "    plt.subplot(1,2,2)\n",
    "    plt.plot(train_metric, 'r--')\n",
    "    plt.plot(val_metric, 'b--')\n",
    "    plt.xlabel(\"epochs\")\n",
    "    plt.ylabel(metric_name)\n",
    "    plt.legend(['train', 'val'], loc='upper left')\n",
    "\n",
    "    plt.show()"
   ]
  },
  {
   "cell_type": "code",
   "execution_count": 56,
   "metadata": {},
   "outputs": [
    {
     "name": "stdout",
     "output_type": "stream",
     "text": [
      "Found 740 validated image filenames belonging to 16 classes.\n"
     ]
    },
    {
     "name": "stderr",
     "output_type": "stream",
     "text": [
      "D:\\Anaconda\\lib\\site-packages\\ipykernel_launcher.py:1: SettingWithCopyWarning: \n",
      "A value is trying to be set on a copy of a slice from a DataFrame.\n",
      "Try using .loc[row_indexer,col_indexer] = value instead\n",
      "\n",
      "See the caveats in the documentation: https://pandas.pydata.org/pandas-docs/stable/user_guide/indexing.html#returning-a-view-versus-a-copy\n",
      "  \"\"\"Entry point for launching an IPython kernel.\n"
     ]
    }
   ],
   "source": [
    "test_data['class'] = test_data['class'].astype('str')\n",
    "\n",
    "test_datagen = ImageDataGenerator(rescale=1./255, data_format='channels_last')\n",
    "\n",
    "batch_size = 1\n",
    "\n",
    "test_generator2 = test_datagen.flow_from_dataframe(\n",
    "        dataframe=test_data,\n",
    "        directory='./',\n",
    "        x_col=\"image_path\",\n",
    "        y_col=\"class\",\n",
    "        target_size=(32, 32),\n",
    "        batch_size=batch_size,\n",
    "        class_mode='categorical')"
   ]
  },
  {
   "cell_type": "code",
   "execution_count": 57,
   "metadata": {},
   "outputs": [
    {
     "name": "stdout",
     "output_type": "stream",
     "text": [
      "Epoch 1/60\n",
      "70/70 [==============================] - 2s 25ms/step - loss: 2.7643 - categorical_accuracy: 0.0910 - val_loss: 2.7543 - val_categorical_accuracy: 0.1351\n",
      "Epoch 2/60\n",
      "70/70 [==============================] - 1s 19ms/step - loss: 2.7459 - categorical_accuracy: 0.1325 - val_loss: 2.7316 - val_categorical_accuracy: 0.1770\n",
      "Epoch 3/60\n",
      "70/70 [==============================] - 1s 18ms/step - loss: 2.7207 - categorical_accuracy: 0.1812 - val_loss: 2.7042 - val_categorical_accuracy: 0.1784\n",
      "Epoch 4/60\n",
      "70/70 [==============================] - 1s 18ms/step - loss: 2.6991 - categorical_accuracy: 0.1906 - val_loss: 2.6788 - val_categorical_accuracy: 0.1784\n",
      "Epoch 5/60\n",
      "70/70 [==============================] - 1s 18ms/step - loss: 2.6789 - categorical_accuracy: 0.1843 - val_loss: 2.6607 - val_categorical_accuracy: 0.1784\n",
      "Epoch 6/60\n",
      "70/70 [==============================] - 1s 21ms/step - loss: 2.6610 - categorical_accuracy: 0.1942 - val_loss: 2.6482 - val_categorical_accuracy: 0.1784\n",
      "Epoch 7/60\n",
      "70/70 [==============================] - 1s 18ms/step - loss: 2.6501 - categorical_accuracy: 0.1884 - val_loss: 2.6395 - val_categorical_accuracy: 0.1784\n",
      "Epoch 8/60\n",
      "70/70 [==============================] - 1s 18ms/step - loss: 2.6406 - categorical_accuracy: 0.1956 - val_loss: 2.6329 - val_categorical_accuracy: 0.1784\n",
      "Epoch 9/60\n",
      "70/70 [==============================] - 1s 18ms/step - loss: 2.6319 - categorical_accuracy: 0.1942 - val_loss: 2.6277 - val_categorical_accuracy: 0.1784\n",
      "Epoch 10/60\n",
      "70/70 [==============================] - 1s 18ms/step - loss: 2.6299 - categorical_accuracy: 0.1956 - val_loss: 2.6231 - val_categorical_accuracy: 0.1784\n",
      "Epoch 11/60\n",
      "70/70 [==============================] - 1s 18ms/step - loss: 2.6266 - categorical_accuracy: 0.1938 - val_loss: 2.6180 - val_categorical_accuracy: 0.1784\n",
      "Epoch 12/60\n",
      "70/70 [==============================] - 1s 18ms/step - loss: 2.6181 - categorical_accuracy: 0.1983 - val_loss: 2.6126 - val_categorical_accuracy: 0.1784\n",
      "Epoch 13/60\n",
      "70/70 [==============================] - 1s 19ms/step - loss: 2.6194 - categorical_accuracy: 0.1983 - val_loss: 2.6078 - val_categorical_accuracy: 0.1784\n",
      "Epoch 14/60\n",
      "70/70 [==============================] - 1s 21ms/step - loss: 2.6097 - categorical_accuracy: 0.1960 - val_loss: 2.6004 - val_categorical_accuracy: 0.1784\n",
      "Epoch 15/60\n",
      "70/70 [==============================] - 1s 18ms/step - loss: 2.6039 - categorical_accuracy: 0.2005 - val_loss: 2.5935 - val_categorical_accuracy: 0.1784\n",
      "Epoch 16/60\n",
      "70/70 [==============================] - 1s 18ms/step - loss: 2.5988 - categorical_accuracy: 0.1965 - val_loss: 2.5839 - val_categorical_accuracy: 0.1784\n",
      "Epoch 17/60\n",
      "70/70 [==============================] - 1s 18ms/step - loss: 2.5950 - categorical_accuracy: 0.2001 - val_loss: 2.5731 - val_categorical_accuracy: 0.1784\n",
      "Epoch 18/60\n",
      "70/70 [==============================] - 1s 18ms/step - loss: 2.5898 - categorical_accuracy: 0.1947 - val_loss: 2.5650 - val_categorical_accuracy: 0.1784\n",
      "Epoch 19/60\n",
      "70/70 [==============================] - 1s 18ms/step - loss: 2.5754 - categorical_accuracy: 0.1965 - val_loss: 2.5546 - val_categorical_accuracy: 0.1784\n",
      "Epoch 20/60\n",
      "70/70 [==============================] - 1s 19ms/step - loss: 2.5668 - categorical_accuracy: 0.1974 - val_loss: 2.5424 - val_categorical_accuracy: 0.1784\n",
      "Epoch 21/60\n",
      "70/70 [==============================] - 1s 18ms/step - loss: 2.5544 - categorical_accuracy: 0.2001 - val_loss: 2.5288 - val_categorical_accuracy: 0.1784\n",
      "Epoch 22/60\n",
      "70/70 [==============================] - 1s 19ms/step - loss: 2.5399 - categorical_accuracy: 0.2064 - val_loss: 2.5161 - val_categorical_accuracy: 0.1784\n",
      "Epoch 23/60\n",
      "70/70 [==============================] - 1s 20ms/step - loss: 2.5299 - categorical_accuracy: 0.2068 - val_loss: 2.4988 - val_categorical_accuracy: 0.1784\n",
      "Epoch 24/60\n",
      "70/70 [==============================] - 2s 23ms/step - loss: 2.5217 - categorical_accuracy: 0.2091 - val_loss: 2.4873 - val_categorical_accuracy: 0.1784\n",
      "Epoch 25/60\n",
      "70/70 [==============================] - 1s 21ms/step - loss: 2.5122 - categorical_accuracy: 0.2177 - val_loss: 2.4728 - val_categorical_accuracy: 0.1797\n",
      "Epoch 26/60\n",
      "70/70 [==============================] - 1s 20ms/step - loss: 2.5043 - categorical_accuracy: 0.2240 - val_loss: 2.4599 - val_categorical_accuracy: 0.1797\n",
      "Epoch 27/60\n",
      "70/70 [==============================] - 1s 19ms/step - loss: 2.4828 - categorical_accuracy: 0.2217 - val_loss: 2.4457 - val_categorical_accuracy: 0.1838\n",
      "Epoch 28/60\n",
      "70/70 [==============================] - 1s 19ms/step - loss: 2.4749 - categorical_accuracy: 0.2307 - val_loss: 2.4325 - val_categorical_accuracy: 0.1865\n",
      "Epoch 29/60\n",
      "70/70 [==============================] - 1s 19ms/step - loss: 2.4743 - categorical_accuracy: 0.2240 - val_loss: 2.4212 - val_categorical_accuracy: 0.1892\n",
      "Epoch 30/60\n",
      "70/70 [==============================] - 2s 22ms/step - loss: 2.4652 - categorical_accuracy: 0.2375 - val_loss: 2.4096 - val_categorical_accuracy: 0.1919\n",
      "Epoch 31/60\n",
      "70/70 [==============================] - 2s 21ms/step - loss: 2.4461 - categorical_accuracy: 0.2470 - val_loss: 2.3996 - val_categorical_accuracy: 0.1973\n",
      "Epoch 32/60\n",
      "70/70 [==============================] - 1s 20ms/step - loss: 2.4365 - categorical_accuracy: 0.2555 - val_loss: 2.3897 - val_categorical_accuracy: 0.2000\n",
      "Epoch 33/60\n",
      "70/70 [==============================] - 1s 19ms/step - loss: 2.4330 - categorical_accuracy: 0.2623 - val_loss: 2.3808 - val_categorical_accuracy: 0.2054\n",
      "Epoch 34/60\n",
      "70/70 [==============================] - 1s 19ms/step - loss: 2.4238 - categorical_accuracy: 0.2654 - val_loss: 2.3729 - val_categorical_accuracy: 0.2041\n",
      "Epoch 35/60\n",
      "70/70 [==============================] - 1s 19ms/step - loss: 2.4076 - categorical_accuracy: 0.2722 - val_loss: 2.3644 - val_categorical_accuracy: 0.2149\n",
      "Epoch 36/60\n",
      "70/70 [==============================] - 1s 19ms/step - loss: 2.4024 - categorical_accuracy: 0.3019 - val_loss: 2.3560 - val_categorical_accuracy: 0.2365\n",
      "Epoch 37/60\n",
      "70/70 [==============================] - 1s 20ms/step - loss: 2.3930 - categorical_accuracy: 0.3055 - val_loss: 2.3481 - val_categorical_accuracy: 0.2541\n",
      "Epoch 38/60\n",
      "70/70 [==============================] - 2s 22ms/step - loss: 2.3895 - categorical_accuracy: 0.3159 - val_loss: 2.3410 - val_categorical_accuracy: 0.2865\n",
      "Epoch 39/60\n",
      "70/70 [==============================] - 1s 18ms/step - loss: 2.3811 - categorical_accuracy: 0.3159 - val_loss: 2.3315 - val_categorical_accuracy: 0.2973\n",
      "Epoch 40/60\n",
      "70/70 [==============================] - 1s 19ms/step - loss: 2.3734 - categorical_accuracy: 0.3263 - val_loss: 2.3228 - val_categorical_accuracy: 0.3351\n",
      "Epoch 41/60\n",
      "70/70 [==============================] - 1s 18ms/step - loss: 2.3636 - categorical_accuracy: 0.3366 - val_loss: 2.3179 - val_categorical_accuracy: 0.3311\n",
      "Epoch 42/60\n",
      "70/70 [==============================] - 1s 19ms/step - loss: 2.3590 - categorical_accuracy: 0.3511 - val_loss: 2.3079 - val_categorical_accuracy: 0.3541\n",
      "Epoch 43/60\n",
      "70/70 [==============================] - 1s 19ms/step - loss: 2.3477 - categorical_accuracy: 0.3664 - val_loss: 2.2960 - val_categorical_accuracy: 0.3932\n",
      "Epoch 44/60\n",
      "70/70 [==============================] - 1s 19ms/step - loss: 2.3448 - categorical_accuracy: 0.3781 - val_loss: 2.2901 - val_categorical_accuracy: 0.4108\n",
      "Epoch 45/60\n",
      "70/70 [==============================] - 1s 19ms/step - loss: 2.3338 - categorical_accuracy: 0.4015 - val_loss: 2.2847 - val_categorical_accuracy: 0.4108\n",
      "Epoch 46/60\n",
      "70/70 [==============================] - 2s 22ms/step - loss: 2.3263 - categorical_accuracy: 0.4114 - val_loss: 2.2757 - val_categorical_accuracy: 0.4595\n",
      "Epoch 47/60\n",
      "70/70 [==============================] - 1s 18ms/step - loss: 2.3206 - categorical_accuracy: 0.4421 - val_loss: 2.2691 - val_categorical_accuracy: 0.4716\n",
      "Epoch 48/60\n",
      "70/70 [==============================] - 1s 20ms/step - loss: 2.3162 - categorical_accuracy: 0.4290 - val_loss: 2.2627 - val_categorical_accuracy: 0.4730\n",
      "Epoch 49/60\n",
      "70/70 [==============================] - 1s 20ms/step - loss: 2.3135 - categorical_accuracy: 0.4565 - val_loss: 2.2548 - val_categorical_accuracy: 0.4905\n",
      "Epoch 50/60\n"
     ]
    },
    {
     "name": "stdout",
     "output_type": "stream",
     "text": [
      "70/70 [==============================] - 1s 20ms/step - loss: 2.2979 - categorical_accuracy: 0.4808 - val_loss: 2.2478 - val_categorical_accuracy: 0.5486\n",
      "Epoch 51/60\n",
      "70/70 [==============================] - 1s 18ms/step - loss: 2.2912 - categorical_accuracy: 0.4998 - val_loss: 2.2386 - val_categorical_accuracy: 0.5676\n",
      "Epoch 52/60\n",
      "70/70 [==============================] - 1s 19ms/step - loss: 2.2907 - categorical_accuracy: 0.4799 - val_loss: 2.2343 - val_categorical_accuracy: 0.5851\n",
      "Epoch 53/60\n",
      "70/70 [==============================] - 1s 19ms/step - loss: 2.2815 - categorical_accuracy: 0.5110 - val_loss: 2.2281 - val_categorical_accuracy: 0.5905\n",
      "Epoch 54/60\n",
      "70/70 [==============================] - 2s 25ms/step - loss: 2.2773 - categorical_accuracy: 0.5232 - val_loss: 2.2191 - val_categorical_accuracy: 0.6027\n",
      "Epoch 55/60\n",
      "70/70 [==============================] - 1s 20ms/step - loss: 2.2713 - categorical_accuracy: 0.5367 - val_loss: 2.2163 - val_categorical_accuracy: 0.6162\n",
      "Epoch 56/60\n",
      "70/70 [==============================] - 1s 19ms/step - loss: 2.2676 - categorical_accuracy: 0.5223 - val_loss: 2.2072 - val_categorical_accuracy: 0.6459\n",
      "Epoch 57/60\n",
      "70/70 [==============================] - 1s 20ms/step - loss: 2.2594 - categorical_accuracy: 0.5457 - val_loss: 2.2000 - val_categorical_accuracy: 0.6446\n",
      "Epoch 58/60\n",
      "70/70 [==============================] - 1s 19ms/step - loss: 2.2541 - categorical_accuracy: 0.5597 - val_loss: 2.1939 - val_categorical_accuracy: 0.6568\n",
      "Epoch 59/60\n",
      "70/70 [==============================] - 1s 19ms/step - loss: 2.2456 - categorical_accuracy: 0.5633 - val_loss: 2.1867 - val_categorical_accuracy: 0.6743\n",
      "Epoch 60/60\n",
      "70/70 [==============================] - 1s 20ms/step - loss: 2.2403 - categorical_accuracy: 0.5683 - val_loss: 2.1772 - val_categorical_accuracy: 0.6797\n"
     ]
    },
    {
     "data": {
      "image/png": "[encoded data removed]",
      "text/plain": [
       "<Figure size 720x360 with 2 Axes>"
      ]
     },
     "metadata": {
      "needs_background": "light"
     },
     "output_type": "display_data"
    }
   ],
   "source": [
    "history2 = model2C.fit_generator(train_generator2, validation_data = validation_generator2, epochs=60, verbose=1)\n",
    "plot_learning_curve(history2.history['loss'], history2.history['val_loss'], \n",
    "                    history2.history['categorical_accuracy'], history2.history['val_categorical_accuracy'], \n",
    "                    metric_name='Accuracy')"
   ]
  },
  {
   "cell_type": "code",
   "execution_count": 58,
   "metadata": {},
   "outputs": [
    {
     "name": "stdout",
     "output_type": "stream",
     "text": [
      "740/740 [==============================] - 1s 1ms/step - loss: 2.1803 - categorical_accuracy: 0.6973\n"
     ]
    },
    {
     "data": {
      "text/plain": [
       "[2.1802652098037103, 0.6972973]"
      ]
     },
     "execution_count": 58,
     "metadata": {},
     "output_type": "execute_result"
    }
   ],
   "source": [
    "model2C.evaluate(test_generator2)"
   ]
  },
  {
   "cell_type": "markdown",
   "metadata": {},
   "source": [
    "## It can be observed above, our accuracy is still very low and the loss is very high, this is not an acceptable outcome as it will not be able to classify the image properly"
   ]
  },
  {
   "cell_type": "markdown",
   "metadata": {},
   "source": [
    "## Below i have decided to use something called early stopping to prevent overtraining and avoid the model from overfitting. "
   ]
  },
  {
   "cell_type": "code",
   "execution_count": 59,
   "metadata": {},
   "outputs": [],
   "source": [
    "from tensorflow.keras.callbacks import EarlyStopping\n",
    "es = EarlyStopping(min_delta=0.001, monitor='val_loss', mode='min', verbose=1, patience=20, restore_best_weights=True,)"
   ]
  },
  {
   "cell_type": "markdown",
   "metadata": {},
   "source": [
    "## I also change and added more layers to help get more accuracy. As I am adding more layers, this doesn't mean that this will increase the accuracy of the model as it might overfit the model. Therefore using Early stopping might stop the model from over fitting"
   ]
  },
  {
   "cell_type": "code",
   "execution_count": 60,
   "metadata": {},
   "outputs": [],
   "source": [
    "model2B = tf.keras.Sequential([\n",
    "    \n",
    "    tf.keras.layers.Conv2D(16, (3, 3), activation='relu', padding='same', input_shape=INPUT_DIM2),\n",
    "    tf.keras.layers.Conv2D(16, (3, 3), activation='relu', padding='same'),\n",
    "    tf.keras.layers.MaxPooling2D((2, 2)),\n",
    "    \n",
    "    tf.keras.layers.Conv2D(32, (3, 3), activation='relu', padding='same'),\n",
    "    tf.keras.layers.Conv2D(32, (3, 3), activation='relu', padding='same'),\n",
    "    tf.keras.layers.MaxPooling2D((2, 2)),\n",
    "    \n",
    "    \n",
    "    tf.keras.layers.Conv2D(64, (3, 3), activation='relu', padding='same'),\n",
    "    tf.keras.layers.Conv2D(64, (3, 3), activation='relu', padding='same'),\n",
    "    tf.keras.layers.MaxPooling2D((2, 2)),\n",
    "    \n",
    "    \n",
    "    tf.keras.layers.Conv2D(128, (3, 3), activation='relu', padding='same'),\n",
    "    tf.keras.layers.Conv2D(128, (3, 3), activation='relu', padding='same'),\n",
    "    tf.keras.layers.MaxPooling2D((2, 2)),\n",
    "    \n",
    "    tf.keras.layers.Flatten(),\n",
    "    tf.keras.layers.Dense(128, activation='relu'),\n",
    "    tf.keras.layers.Dense(OUTPUT_CLASSES2),\n",
    "])\n",
    "model2B.compile(optimizer='SGD',\n",
    "              loss=tf.keras.losses.CategoricalCrossentropy(from_logits=True),\n",
    "              metrics=['categorical_accuracy'])"
   ]
  },
  {
   "cell_type": "code",
   "execution_count": 61,
   "metadata": {
    "scrolled": true
   },
   "outputs": [
    {
     "name": "stdout",
     "output_type": "stream",
     "text": [
      "Epoch 1/50\n",
      "70/70 - 4s - loss: 2.6837 - categorical_accuracy: 0.1821 - val_loss: 2.5934 - val_categorical_accuracy: 0.1784\n",
      "Epoch 2/50\n",
      "70/70 - 4s - loss: 2.5462 - categorical_accuracy: 0.1942 - val_loss: 2.5344 - val_categorical_accuracy: 0.1797\n",
      "Epoch 3/50\n",
      "70/70 - 5s - loss: 2.4137 - categorical_accuracy: 0.2397 - val_loss: 2.2657 - val_categorical_accuracy: 0.3027\n",
      "Epoch 4/50\n",
      "70/70 - 4s - loss: 2.0115 - categorical_accuracy: 0.3912 - val_loss: 1.6743 - val_categorical_accuracy: 0.4919\n",
      "Epoch 5/50\n",
      "70/70 - 4s - loss: 1.4865 - categorical_accuracy: 0.5534 - val_loss: 1.3433 - val_categorical_accuracy: 0.6311\n",
      "Epoch 6/50\n",
      "70/70 - 5s - loss: 1.0872 - categorical_accuracy: 0.6809 - val_loss: 0.9580 - val_categorical_accuracy: 0.7108\n",
      "Epoch 7/50\n",
      "70/70 - 5s - loss: 0.8251 - categorical_accuracy: 0.7530 - val_loss: 0.7833 - val_categorical_accuracy: 0.7811\n",
      "Epoch 8/50\n",
      "70/70 - 5s - loss: 0.6476 - categorical_accuracy: 0.8071 - val_loss: 0.5476 - val_categorical_accuracy: 0.8581\n",
      "Epoch 9/50\n",
      "70/70 - 5s - loss: 0.5089 - categorical_accuracy: 0.8513 - val_loss: 0.4833 - val_categorical_accuracy: 0.8608\n",
      "Epoch 10/50\n",
      "70/70 - 5s - loss: 0.3876 - categorical_accuracy: 0.8833 - val_loss: 0.5450 - val_categorical_accuracy: 0.8351\n",
      "Epoch 11/50\n",
      "70/70 - 4s - loss: 0.3009 - categorical_accuracy: 0.9036 - val_loss: 0.3558 - val_categorical_accuracy: 0.9068\n",
      "Epoch 12/50\n",
      "70/70 - 4s - loss: 0.2800 - categorical_accuracy: 0.9193 - val_loss: 0.3070 - val_categorical_accuracy: 0.9014\n",
      "Epoch 13/50\n",
      "70/70 - 4s - loss: 0.2939 - categorical_accuracy: 0.9229 - val_loss: 0.3029 - val_categorical_accuracy: 0.9068\n",
      "Epoch 14/50\n",
      "70/70 - 5s - loss: 0.1824 - categorical_accuracy: 0.9428 - val_loss: 0.3326 - val_categorical_accuracy: 0.9027\n",
      "Epoch 15/50\n",
      "70/70 - 4s - loss: 0.1777 - categorical_accuracy: 0.9549 - val_loss: 0.2646 - val_categorical_accuracy: 0.9365\n",
      "Epoch 16/50\n",
      "70/70 - 4s - loss: 0.0707 - categorical_accuracy: 0.9829 - val_loss: 0.3010 - val_categorical_accuracy: 0.9149\n",
      "Epoch 17/50\n",
      "70/70 - 5s - loss: 0.0816 - categorical_accuracy: 0.9829 - val_loss: 0.2388 - val_categorical_accuracy: 0.9419\n",
      "Epoch 18/50\n",
      "70/70 - 5s - loss: 0.0505 - categorical_accuracy: 0.9892 - val_loss: 0.3450 - val_categorical_accuracy: 0.9473\n",
      "Epoch 19/50\n",
      "70/70 - 5s - loss: 0.0567 - categorical_accuracy: 0.9883 - val_loss: 0.3317 - val_categorical_accuracy: 0.9473\n",
      "Epoch 20/50\n",
      "70/70 - 5s - loss: 0.0238 - categorical_accuracy: 0.9941 - val_loss: 0.3685 - val_categorical_accuracy: 0.9473\n",
      "Epoch 21/50\n",
      "70/70 - 5s - loss: 0.0305 - categorical_accuracy: 0.9937 - val_loss: 0.3591 - val_categorical_accuracy: 0.9514\n",
      "Epoch 22/50\n",
      "70/70 - 6s - loss: 0.0985 - categorical_accuracy: 0.9851 - val_loss: 0.3498 - val_categorical_accuracy: 0.9392\n",
      "Epoch 23/50\n",
      "70/70 - 6s - loss: 0.0236 - categorical_accuracy: 0.9973 - val_loss: 0.3296 - val_categorical_accuracy: 0.9500\n",
      "Epoch 24/50\n",
      "70/70 - 5s - loss: 0.0058 - categorical_accuracy: 1.0000 - val_loss: 0.3580 - val_categorical_accuracy: 0.9541\n",
      "Epoch 25/50\n",
      "70/70 - 6s - loss: 0.0035 - categorical_accuracy: 1.0000 - val_loss: 0.3702 - val_categorical_accuracy: 0.9527\n",
      "Epoch 26/50\n",
      "70/70 - 5s - loss: 0.0026 - categorical_accuracy: 1.0000 - val_loss: 0.3813 - val_categorical_accuracy: 0.9554\n",
      "Epoch 27/50\n",
      "70/70 - 5s - loss: 0.0020 - categorical_accuracy: 1.0000 - val_loss: 0.3904 - val_categorical_accuracy: 0.9554\n",
      "Epoch 28/50\n",
      "70/70 - 5s - loss: 0.0017 - categorical_accuracy: 1.0000 - val_loss: 0.4043 - val_categorical_accuracy: 0.9554\n",
      "Epoch 29/50\n",
      "70/70 - 5s - loss: 0.0014 - categorical_accuracy: 1.0000 - val_loss: 0.4179 - val_categorical_accuracy: 0.9554\n",
      "Epoch 30/50\n",
      "70/70 - 5s - loss: 0.0012 - categorical_accuracy: 1.0000 - val_loss: 0.4195 - val_categorical_accuracy: 0.9554\n",
      "Epoch 31/50\n",
      "70/70 - 5s - loss: 0.0011 - categorical_accuracy: 1.0000 - val_loss: 0.4305 - val_categorical_accuracy: 0.9541\n",
      "Epoch 32/50\n",
      "70/70 - 5s - loss: 0.0010 - categorical_accuracy: 1.0000 - val_loss: 0.4457 - val_categorical_accuracy: 0.9541\n",
      "Epoch 33/50\n",
      "70/70 - 5s - loss: 8.7874e-04 - categorical_accuracy: 1.0000 - val_loss: 0.2910 - val_categorical_accuracy: 0.9554\n",
      "Epoch 34/50\n",
      "70/70 - 5s - loss: 8.0453e-04 - categorical_accuracy: 1.0000 - val_loss: 0.2976 - val_categorical_accuracy: 0.9527\n",
      "Epoch 35/50\n",
      "70/70 - 5s - loss: 7.3672e-04 - categorical_accuracy: 1.0000 - val_loss: 0.2954 - val_categorical_accuracy: 0.9527\n",
      "Epoch 36/50\n",
      "70/70 - 6s - loss: 6.7508e-04 - categorical_accuracy: 1.0000 - val_loss: 0.3050 - val_categorical_accuracy: 0.9514\n",
      "Epoch 37/50\n",
      "Restoring model weights from the end of the best epoch.\n",
      "70/70 - 5s - loss: 6.2701e-04 - categorical_accuracy: 1.0000 - val_loss: 0.3068 - val_categorical_accuracy: 0.9514\n",
      "Epoch 00037: early stopping\n"
     ]
    },
    {
     "data": {
      "image/png": "[encoded data removed]",
      "text/plain": [
       "<Figure size 720x360 with 2 Axes>"
      ]
     },
     "metadata": {
      "needs_background": "light"
     },
     "output_type": "display_data"
    }
   ],
   "source": [
    "history2EarlyStop = model2B.fit_generator(train_generator2, validation_data = validation_generator2, epochs=50, callbacks=[es], verbose=2)\n",
    "plot_learning_curve(history2EarlyStop.history['loss'], history2EarlyStop.history['val_loss'], \n",
    "                    history2EarlyStop.history['categorical_accuracy'], history2EarlyStop.history['val_categorical_accuracy'], \n",
    "                    metric_name='Accuracy')"
   ]
  },
  {
   "cell_type": "code",
   "execution_count": 62,
   "metadata": {},
   "outputs": [
    {
     "name": "stdout",
     "output_type": "stream",
     "text": [
      "740/740 [==============================] - 3s 3ms/step - loss: 0.2702 - categorical_accuracy: 0.9216\n"
     ]
    },
    {
     "data": {
      "text/plain": [
       "[0.2701929984812034, 0.9216216]"
      ]
     },
     "execution_count": 62,
     "metadata": {},
     "output_type": "execute_result"
    }
   ],
   "source": [
    "model2B.evaluate(test_generator2)"
   ]
  },
  {
   "cell_type": "code",
   "execution_count": 63,
   "metadata": {},
   "outputs": [],
   "source": [
    "label_names = {'bicycle': 0,\n",
    " 'continue': 1,\n",
    " 'crossing': 2,\n",
    " 'giveway': 3,\n",
    " 'laneend': 4,\n",
    " 'limitedtraffic': 5,\n",
    " 'noentry': 6,\n",
    " 'noparking': 7,\n",
    " 'parking': 8,\n",
    " 'rightofway': 9,\n",
    " 'roundabout': 10,\n",
    " 'speed': 11,\n",
    " 'stop': 12,\n",
    " 'trafficdirective': 13,\n",
    " 'traveldirection': 14,\n",
    " 'warning': 15}"
   ]
  },
  {
   "cell_type": "markdown",
   "metadata": {},
   "source": [
    "## Now with our trained model, we have created a model that is able to classify sign types as show below."
   ]
  },
  {
   "cell_type": "code",
   "execution_count": 73,
   "metadata": {
    "scrolled": true
   },
   "outputs": [
    {
     "data": {
      "image/png": "[encoded data removed]",
      "text/plain": [
       "<Figure size 1152x288 with 5 Axes>"
      ]
     },
     "metadata": {
      "needs_background": "light"
     },
     "output_type": "display_data"
    }
   ],
   "source": [
    "d_inv2 = {v: k for k, v in label_names.items()}\n",
    "plt.figure(figsize=(16,4))\n",
    "batches = 0\n",
    "for x,y in test_generator2:\n",
    "        batches = batches + 1\n",
    "        y_hat = model2B.predict(x, verbose=0)\n",
    "        x = np.squeeze(x)\n",
    "        if batches < 6:\n",
    "            plt.subplot(1,6,batches)\n",
    "            plt.imshow(x)\n",
    "            plt.title(\"GT-{}, Pred-{}\".format(d_inv2[np.argmax(y[0])], d_inv2[np.argmax(y_hat[0])] ))\n",
    "            \n",
    "        else:\n",
    "            break\n",
    "        \n",
    "        plt.axis('off')"
   ]
  },
  {
   "cell_type": "markdown",
   "metadata": {},
   "source": [
    "## We now completed, creating our models and it is time to choose which model is best suited to classify image sign and type"
   ]
  },
  {
   "cell_type": "markdown",
   "metadata": {},
   "source": [
    "## We will now create some accuracy and f1 scores to compare the models easier"
   ]
  },
  {
   "cell_type": "markdown",
   "metadata": {},
   "source": [
    "# Road Sign Shape Classification"
   ]
  },
  {
   "cell_type": "markdown",
   "metadata": {},
   "source": [
    "## 1. Model A (Road Sign Shape Classification)"
   ]
  },
  {
   "cell_type": "code",
   "execution_count": 65,
   "metadata": {
    "scrolled": true
   },
   "outputs": [
    {
     "name": "stdout",
     "output_type": "stream",
     "text": [
      "modelA (sign shape) Accuracy score:  0.8864864864864865\n",
      "modelA (sign shape) F1 score:  0.7088865419339129\n",
      "[[ 59   0  14   0   3]\n",
      " [  0   0  12   0   0]\n",
      " [  1   0 329   7  15]\n",
      " [  0   0   5 123   7]\n",
      " [  1   0  14   5 145]]\n"
     ]
    }
   ],
   "source": [
    "y_hat_all = list()\n",
    "y_all = list()\n",
    "filenames = test_generator.filenames\n",
    "N_images = len(filenames)\n",
    "batches = 0\n",
    "for x,y in test_generator:\n",
    "        y_hat = modelA.predict(x, verbose=0)\n",
    "        y_hat = np.argmax(y_hat, axis = 1)\n",
    "        y = np.argmax(y, axis = 1)\n",
    "        y_hat_all = y_hat_all + y_hat.tolist()\n",
    "        y_all = y_all + y.tolist()\n",
    "        batches += 1\n",
    "        if batches >= N_images:\n",
    "            break\n",
    "print(\"modelA (sign shape) Accuracy score: \", accuracy_score(y_all, y_hat_all))\n",
    "print(\"modelA (sign shape) F1 score: \", f1_score(y_all, y_hat_all, average='macro'))\n",
    "print(confusion_matrix(y_all, y_hat_all))"
   ]
  },
  {
   "cell_type": "markdown",
   "metadata": {},
   "source": [
    "## 2. Model B (Road Sign Shape Classification)"
   ]
  },
  {
   "cell_type": "code",
   "execution_count": 66,
   "metadata": {
    "scrolled": false
   },
   "outputs": [
    {
     "name": "stdout",
     "output_type": "stream",
     "text": [
      "modelB (sign shape) Accuracy score:  0.9702702702702702\n",
      "modelB (sign shape) F1 score:  0.9423277463812489\n",
      "[[ 54   1   5   0   4]\n",
      " [  2  15   1   0   0]\n",
      " [  1   0 334   2   2]\n",
      " [  0   0   1 136   0]\n",
      " [  1   0   2   0 179]]\n"
     ]
    }
   ],
   "source": [
    "y_hat_all = list()\n",
    "y_all = list()\n",
    "filenames = test_generator.filenames\n",
    "N_images = len(filenames)\n",
    "batches = 0\n",
    "for x,y in test_generator:\n",
    "        y_hat = modelB.predict(x, verbose=0)\n",
    "        y_hat = np.argmax(y_hat, axis = 1)\n",
    "        y = np.argmax(y, axis = 1)\n",
    "        y_hat_all = y_hat_all + y_hat.tolist()\n",
    "        y_all = y_all + y.tolist()\n",
    "        batches += 1\n",
    "        if batches >= N_images:\n",
    "            break\n",
    "print(\"modelB (sign shape) Accuracy score: \", accuracy_score(y_all, y_hat_all))\n",
    "print(\"modelB (sign shape) F1 score: \", f1_score(y_all, y_hat_all, average='macro'))\n",
    "print(confusion_matrix(y_all, y_hat_all))"
   ]
  },
  {
   "cell_type": "markdown",
   "metadata": {},
   "source": [
    "# Road Sign Type Classification"
   ]
  },
  {
   "cell_type": "markdown",
   "metadata": {},
   "source": [
    "## 1. Model C ( Road Sign Type Classification)"
   ]
  },
  {
   "cell_type": "code",
   "execution_count": 67,
   "metadata": {
    "scrolled": true
   },
   "outputs": [
    {
     "name": "stdout",
     "output_type": "stream",
     "text": [
      "model2C (sign type) Accuracy score):  0.6959459459459459\n",
      "model2C (sign type) F1 score:  0.5160680516227267\n",
      "[[ 54   0   0   0   0   0   1   2   0   0   0   0   0   0   0   7]\n",
      " [  1  44   0   1   0   0   0   0   0   0   0   0   0   0   0   1]\n",
      " [  0   0   0   0   0   0   0   0   0   0   0   0   0   0   0  23]\n",
      " [  3   0   0  42   0   0   0   0   0   0   0   0   0   0   0   2]\n",
      " [  4   0   0   0  12   0   0   0   0   0   0   0   0   0   0   1]\n",
      " [  0   0   0   2   0   0   0   0   0   1   0   0   0   0   0  15]\n",
      " [  3   0   0   1   0   0  69   0   0   2   0   0   0   0   0   0]\n",
      " [ 24   0   0   0   0   0   1  16   0   0   0   0   0   0   0   7]\n",
      " [  0   0   0   0   0   0   0   0  48   0   0   0   0   0   0   3]\n",
      " [  4   0   0   0   0   0   0   7   1  48   0   2   0   2   0   7]\n",
      " [  3   0   0   0   0   0   0   3   0   9   0   0   0   0   0   1]\n",
      " [  0   0   0   0   0   0   0   0   0   0   0  37   0   0   0  21]\n",
      " [  6   0   0   0   0   0   3   0   0   0   0   0   0   0   0   5]\n",
      " [  0   0   0   0   0   0   0   1   0   0   0  10   0  19   0   8]\n",
      " [  1   1   0   8   0   0   7   0   0   0   0   0   0   0   0   4]\n",
      " [  5   0   0   0   0   0   0   0   1   0   0   0   0   0   0 126]]\n"
     ]
    }
   ],
   "source": [
    "y_hat_all = list()\n",
    "y_all = list()\n",
    "filenames = test_generator2.filenames\n",
    "N_images = len(filenames)\n",
    "batches = 0\n",
    "for x,y in test_generator2:\n",
    "        y_hat = model2C.predict(x, verbose=0)\n",
    "        y_hat = np.argmax(y_hat, axis = 1)\n",
    "        y = np.argmax(y, axis = 1)\n",
    "        y_hat_all = y_hat_all + y_hat.tolist()\n",
    "        y_all = y_all + y.tolist()\n",
    "        batches += 1\n",
    "        if batches >= N_images:\n",
    "            break\n",
    "print(\"model2C (sign type) Accuracy score): \", accuracy_score(y_all, y_hat_all))\n",
    "print(\"model2C (sign type) F1 score: \", f1_score(y_all, y_hat_all, average='macro'))\n",
    "print(confusion_matrix(y_all, y_hat_all))"
   ]
  },
  {
   "cell_type": "markdown",
   "metadata": {},
   "source": [
    "## 2. Model B ( Road Sign Type Classification)"
   ]
  },
  {
   "cell_type": "code",
   "execution_count": 68,
   "metadata": {},
   "outputs": [
    {
     "name": "stdout",
     "output_type": "stream",
     "text": [
      "model2B (sign type) Accuracy score:  0.922972972972973\n",
      "model2B (sign type) F1 score:  0.9062005699052981\n",
      "[[ 63   0   0   0   1   0   0   1   0   0   0   0   0   0   0   0]\n",
      " [  1  45   0   0   0   0   0   0   0   0   0   0   0   0   0   0]\n",
      " [  0   0  22   0   0   0   0   0   0   0   0   0   0   0   0   1]\n",
      " [  0   0   0  46   0   1   0   0   1   0   0   0   0   0   0   1]\n",
      " [  1   0   0   0  16   0   0   0   0   0   0   0   0   0   0   0]\n",
      " [  0   0   0   0   0  17   0   0   0   0   0   0   0   1   0   0]\n",
      " [  3   0   0   0   0   0  68   0   0   1   2   0   0   0   2   0]\n",
      " [  2   0   0   0   0   4   0  42   0   0   0   0   0   0   0   0]\n",
      " [  0   0   0   0   0   0   0   0  53   0   0   0   0   0   0   0]\n",
      " [  0   0   0   0   0   3   0   1   0  53   5   0   0   1   0   3]\n",
      " [  0   0   0   0   0   0   0   1   0   1  14   0   0   0   0   0]\n",
      " [  0   0   0   0   0   3   0   0   0   1   0  53   0   1   0   0]\n",
      " [  0   0   0   0   0   0   0   0   0   0   0   0  13   0   0   1]\n",
      " [  0   0   0   0   0   1   0   0   0   0   0   4   0  33   0   0]\n",
      " [  1   1   0   1   0   0   1   0   0   0   0   0   0   0  17   0]\n",
      " [  1   0   0   0   0   0   0   0   0   1   2   0   0   0   0 128]]\n"
     ]
    }
   ],
   "source": [
    "y_hat_all = list()\n",
    "y_all = list()\n",
    "filenames = test_generator2.filenames\n",
    "N_images = len(filenames)\n",
    "batches = 0\n",
    "for x,y in test_generator2:\n",
    "        y_hat = model2B.predict(x, verbose=0)\n",
    "        y_hat = np.argmax(y_hat, axis = 1)\n",
    "        y = np.argmax(y, axis = 1)\n",
    "        y_hat_all = y_hat_all + y_hat.tolist()\n",
    "        y_all = y_all + y.tolist()\n",
    "        batches += 1\n",
    "        if batches >= N_images:\n",
    "            break\n",
    "print(\"model2B (sign type) Accuracy score: \", accuracy_score(y_all, y_hat_all))\n",
    "print(\"model2B (sign type) F1 score: \", f1_score(y_all, y_hat_all, average='macro'))\n",
    "print(confusion_matrix(y_all, y_hat_all))"
   ]
  },
  {
   "cell_type": "markdown",
   "metadata": {},
   "source": [
    "## In conclusion, it can be concluded that for shape classifcation, although Model A produce a high accuracy, Model B is the better choice as it produce and accuracy of 97%\n",
    "\n",
    "## Where as for Sign-Type classifcation, Model B (Sign-Type Classification) is the better choice than Model C as it produce only produce 69% accuracy , whereas Model B (Sign-Type Classification) produce 92% accuracy."
   ]
  },
  {
   "cell_type": "markdown",
   "metadata": {},
   "source": [
    "## Finally we will now save the models:"
   ]
  },
  {
   "cell_type": "code",
   "execution_count": 69,
   "metadata": {},
   "outputs": [],
   "source": [
    "modelB.save(\"Best_Model_B_Classify_Sign_Shape\")"
   ]
  },
  {
   "cell_type": "code",
   "execution_count": 70,
   "metadata": {},
   "outputs": [],
   "source": [
    "model2B.save(\"Best_Model_B_Classify_Sign_Type\")"
   ]
  }
 ],
 "metadata": {
  "kernelspec": {
   "display_name": "Python 3",
   "language": "python",
   "name": "python3"
  },
  "language_info": {
   "codemirror_mode": {
    "name": "ipython",
    "version": 3
   },
   "file_extension": ".py",
   "mimetype": "text/x-python",
   "name": "python",
   "nbconvert_exporter": "python",
   "pygments_lexer": "ipython3",
   "version": "3.7.6"
  }
 },
 "nbformat": 4,
 "nbformat_minor": 4
}
